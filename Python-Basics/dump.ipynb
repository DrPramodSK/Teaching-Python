{
 "cells": [
  {
   "cell_type": "markdown",
   "metadata": {},
   "source": [
    "Remember, good comments are brief and to the point. They should explain the 'why' and not the 'how'. For example, instead of explaining what each line of code does (which can be understood by reading the code), explain why you chose to implement it that way or why it needs to be there."
   ]
  },
  {
   "cell_type": "markdown",
   "metadata": {},
   "source": [
    "--- \n",
    "\n",
    "## Numeric Variables\n",
    "---\n",
    "Numeric variables in Python are used to store numerical values and come in two main types: integers and floating-point numbers.\n",
    "\n",
    "### Integer Variables\n",
    "\n",
    "An integer variable holds whole numbers without any decimal points. It can be positive or negative.\n",
    "\n",
    "\n",
    "\n",
    "```python\n",
    "# Integer Variable\n",
    "age = 25\n",
    "\n",
    "print(f\"Age: {age}\")\n",
    "```\n",
    "\n",
    "### Floating-Point Variables\n",
    "\n",
    "A floating-point variable holds decimal numbers. It can also be positive or negative.\n",
    "\n",
    "```python\n",
    "# Floating-Point Variable\n",
    "# Height in meters\n",
    "height = 1.75\n",
    "\n",
    "print(f\"Height: {height}\")\n",
    "```"
   ]
  },
  {
   "cell_type": "code",
   "execution_count": null,
   "metadata": {},
   "outputs": [
    {
     "name": "stdout",
     "output_type": "stream",
     "text": [
      "Sum: 13\n",
      "Difference: 7\n",
      "Product: 30\n",
      "Division: 3.3333333333333335\n"
     ]
    }
   ],
   "source": [
    "\n",
    "a = 10\n",
    "b = 3\n",
    "\n",
    "sum_result = a + b\n",
    "difference_result = a - b\n",
    "product_result = a * b\n",
    "division_result = a / b\n",
    "\n",
    "print(f\"Sum: {sum_result}\")\n",
    "print(f\"Difference: {difference_result}\")\n",
    "print(f\"Product: {product_result}\")\n",
    "print(f\"Division: {division_result}\")\n"
   ]
  },
  {
   "cell_type": "markdown",
   "metadata": {},
   "source": [
    "---\n",
    "\n",
    "## Boolean Variables \n",
    "---\n",
    "\n",
    "\n",
    "\n",
    "Boolean variables in Python are used to represent logical values. They can have only two values: `True` or `False`.\n",
    "\n",
    "\n",
    "\n",
    "Boolean variables are commonly used in conditional statements and logical operations.\n",
    "\n"
   ]
  },
  {
   "cell_type": "code",
   "execution_count": null,
   "metadata": {},
   "outputs": [
    {
     "name": "stdout",
     "output_type": "stream",
     "text": [
      "Is Python Fun? True\n",
      "Is Learning Python? False\n"
     ]
    }
   ],
   "source": [
    "# Boolean Variables\n",
    "is_python_fun = True\n",
    "is_learning = False\n",
    "\n",
    "print(f\"Is Python Fun? {is_python_fun}\")\n",
    "print(f\"Is Learning Python? {is_learning}\")"
   ]
  },
  {
   "cell_type": "markdown",
   "metadata": {},
   "source": [
    "**Logical Operations**\n",
    "Boolean variables support logical operations such as AND (and), OR (or), and NOT (not)."
   ]
  },
  {
   "cell_type": "code",
   "execution_count": null,
   "metadata": {},
   "outputs": [
    {
     "name": "stdout",
     "output_type": "stream",
     "text": [
      "AND Result: False\n",
      "OR Result: True\n",
      "NOT Result: False\n"
     ]
    }
   ],
   "source": [
    "# Logical Operations with Boolean Variables\n",
    "first_condition = True\n",
    "second_condition = False\n",
    "\n",
    "and_result = first_condition and second_condition\n",
    "or_result = first_condition or second_condition\n",
    "not_result = not first_condition\n",
    "\n",
    "print(f\"AND Result: {and_result}\")\n",
    "print(f\"OR Result: {or_result}\")\n",
    "print(f\"NOT Result: {not_result}\")"
   ]
  },
  {
   "cell_type": "markdown",
   "metadata": {},
   "source": [
    "--- \n",
    "\n",
    "## String Variables\n",
    "\n",
    "---\n",
    "\n",
    "String variables in Python are used to store text values. They are created by enclosing text in single or double quotes.\n"
   ]
  },
  {
   "cell_type": "code",
   "execution_count": null,
   "metadata": {},
   "outputs": [
    {
     "name": "stdout",
     "output_type": "stream",
     "text": [
      "Hello, John\n"
     ]
    }
   ],
   "source": [
    "# String Variables\n",
    "name = \"John\"\n",
    "greeting = 'Hello, '\n",
    "\n",
    "print(greeting + name)"
   ]
  },
  {
   "cell_type": "markdown",
   "metadata": {},
   "source": [
    "### Basic String Operations\n",
    "\n",
    "Some of the basic operations that can be performed on strings include:\n",
    "\n",
    "#### String Concatenation\n",
    "In Python, you can use the `+` operator to concatenate two strings."
   ]
  },
  {
   "cell_type": "code",
   "execution_count": null,
   "metadata": {},
   "outputs": [
    {
     "name": "stdout",
     "output_type": "stream",
     "text": [
      "Hello World\n"
     ]
    }
   ],
   "source": [
    "str1 = \"Hello\"\n",
    "str2 = \"World\"\n",
    "str3 = str1 + \" \" + str2\n",
    "print(str3)  # Outputs: Hello World"
   ]
  },
  {
   "cell_type": "markdown",
   "metadata": {},
   "source": [
    "#### String Repetition\n",
    "\n",
    "You can use the `*` operator to repeat a string a given number of times."
   ]
  },
  {
   "cell_type": "code",
   "execution_count": null,
   "metadata": {},
   "outputs": [
    {
     "name": "stdout",
     "output_type": "stream",
     "text": [
      "HelloHelloHello\n"
     ]
    }
   ],
   "source": [
    "str1 = \"Hello\"\n",
    "str2 = str1 * 3\n",
    "print(str2)  # Outputs: HelloHelloHello"
   ]
  },
  {
   "cell_type": "markdown",
   "metadata": {},
   "source": [
    "#### String Slicing\n",
    "\n",
    "You can use the `[]` operator to access individual characters in a string. This is called string indexing.\n"
   ]
  },
  {
   "cell_type": "code",
   "execution_count": null,
   "metadata": {},
   "outputs": [
    {
     "name": "stdout",
     "output_type": "stream",
     "text": [
      "H\n",
      "e\n",
      "l\n",
      "l\n",
      "o\n"
     ]
    }
   ],
   "source": [
    "str1 = \"Hello\"\n",
    "print(str1[0])  # Outputs: H\n",
    "print(str1[1])  # Outputs: e\n",
    "print(str1[2])  # Outputs: l\n",
    "print(str1[3])  # Outputs: l\n",
    "print(str1[4])  # Outputs: o"
   ]
  },
  {
   "cell_type": "markdown",
   "metadata": {},
   "source": [
    "You can also use negative indices to access characters from the end of the string."
   ]
  },
  {
   "cell_type": "code",
   "execution_count": null,
   "metadata": {},
   "outputs": [
    {
     "name": "stdout",
     "output_type": "stream",
     "text": [
      "o\n",
      "l\n",
      "l\n",
      "e\n",
      "H\n"
     ]
    }
   ],
   "source": [
    "str1 = \"Hello\"\n",
    "print(str1[-1])  # Outputs: o\n",
    "print(str1[-2])  # Outputs: l\n",
    "print(str1[-3])  # Outputs: l\n",
    "print(str1[-4])  # Outputs: e\n",
    "print(str1[-5])  # Outputs: H"
   ]
  },
  {
   "cell_type": "markdown",
   "metadata": {},
   "source": [
    "You can also use the `[]` operator to access a substring from a string. This is called string slicing."
   ]
  },
  {
   "cell_type": "code",
   "execution_count": null,
   "metadata": {},
   "outputs": [
    {
     "name": "stdout",
     "output_type": "stream",
     "text": [
      "Hello\n",
      "World\n"
     ]
    }
   ],
   "source": [
    "str1 = \"Hello World\"\n",
    "print(str1[0:5])  # Outputs: Hello\n",
    "print(str1[6:11])  # Outputs: World"
   ]
  },
  {
   "cell_type": "markdown",
   "metadata": {},
   "source": [
    "#### String Length\n",
    "\n",
    "You can use the `len()` function to get the length of a string."
   ]
  },
  {
   "cell_type": "code",
   "execution_count": null,
   "metadata": {},
   "outputs": [
    {
     "name": "stdout",
     "output_type": "stream",
     "text": [
      "11\n"
     ]
    }
   ],
   "source": [
    "str1 = \"Hello World\"\n",
    "print(len(str1))  # Outputs: 11"
   ]
  },
  {
   "cell_type": "markdown",
   "metadata": {},
   "source": [
    "#### String Formatting\n",
    "\n",
    "we can use f-strings to format strings in Python. An f-string is a string prefixed with `f` or `F` that contains expressions inside braces `{}`. The expressions are replaced with their values."
   ]
  },
  {
   "cell_type": "code",
   "execution_count": null,
   "metadata": {},
   "outputs": [
    {
     "name": "stdout",
     "output_type": "stream",
     "text": [
      "Name: John, Age: 25, Height: 1.75\n"
     ]
    }
   ],
   "source": [
    "name = \"John\"\n",
    "age = 25\n",
    "height = 1.75\n",
    "\n",
    "print(f\"Name: {name}, Age: {age}, Height: {height}\")"
   ]
  },
  {
   "cell_type": "markdown",
   "metadata": {},
   "source": [
    "f-strings can also be used to perform precise formatting of numbers such as integers and floating-point numbers.\n"
   ]
  },
  {
   "cell_type": "code",
   "execution_count": null,
   "metadata": {},
   "outputs": [
    {
     "name": "stdout",
     "output_type": "stream",
     "text": [
      "Number: 1234.5678\n",
      "Number: 1234.57\n",
      "Number:    1234.57\n"
     ]
    }
   ],
   "source": [
    "# Formatting Floating-Point Numbers\n",
    "num = 1234.5678\n",
    "print(f\"Number: {num}\")  # Outputs: Number: 1234.5678\n",
    "print(f\"Number: {num:.2f}\")  # Outputs: Number: 1234.57\n",
    "print(f\"Number: {num:10.2f}\")  # Outputs: Number:    1234.57"
   ]
  },
  {
   "cell_type": "markdown",
   "metadata": {},
   "source": [
    "f-strings can also be used to deceide the width of the string to be printed. So these can be used to generate outputs in pretty table format."
   ]
  },
  {
   "cell_type": "code",
   "execution_count": null,
   "metadata": {},
   "outputs": [
    {
     "name": "stdout",
     "output_type": "stream",
     "text": [
      "Name     Age  Occupation\n",
      "Alice    25   Engineer\n",
      "Bob      30   Doctor  \n",
      "Charlie  35   Teacher \n"
     ]
    }
   ],
   "source": [
    "# Define some data\n",
    "data = [\n",
    "    {\"Name\": \"Alice\", \"Age\": 25, \"Occupation\": \"Engineer\"},\n",
    "    {\"Name\": \"Bob\", \"Age\": 30, \"Occupation\": \"Doctor\"},\n",
    "    {\"Name\": \"Charlie\", \"Age\": 35, \"Occupation\": \"Teacher\"},\n",
    "]\n",
    "\n",
    "# Define the width for each column\n",
    "widths = {\n",
    "    \"Name\": max(len(x[\"Name\"]) for x in data),\n",
    "    \"Age\": 3,  # Age will be a number, so we can just set this to 3\n",
    "    \"Occupation\": max(len(x[\"Occupation\"]) for x in data),\n",
    "}\n",
    "\n",
    "# Print the header\n",
    "print(f\"{'Name':<{widths['Name']}}  {'Age':<{widths['Age']}}  {'Occupation':<{widths['Occupation']}}\")\n",
    "\n",
    "# Print the data\n",
    "for row in data:\n",
    "    print(f\"{row['Name']:<{widths['Name']}}  {row['Age']:<{widths['Age']}}  {row['Occupation']:<{widths['Occupation']}}\")"
   ]
  },
  {
   "cell_type": "markdown",
   "metadata": {},
   "source": [
    "Python provides a number of built-in methods for working with strings. Here are some of the most commonly used string methods:"
   ]
  },
  {
   "cell_type": "code",
   "execution_count": null,
   "metadata": {},
   "outputs": [
    {
     "name": "stdout",
     "output_type": "stream",
     "text": [
      "HELLO WORLD\n",
      "hello world\n",
      "Hello world\n",
      "Hello Universe\n",
      "True\n",
      "True\n",
      "True\n",
      "['Hello', 'World']\n",
      "Hello World\n"
     ]
    }
   ],
   "source": [
    "# String Methods\n",
    "str1 = \"Hello World\"\n",
    "\n",
    "# Convert to uppercase\n",
    "print(str1.upper())  # Outputs: HELLO WORLD\n",
    "\n",
    "# Convert to lowercase\n",
    "print(str1.lower())  # Outputs: hello world\n",
    "\n",
    "# Capitalize the first character\n",
    "print(str1.capitalize())  # Outputs: Hello world\n",
    "\n",
    "# Replace a substring\n",
    "print(str1.replace(\"World\", \"Universe\"))  # Outputs: Hello Universe\n",
    "\n",
    "# Check if the string starts with a given substring\n",
    "print(str1.startswith(\"Hello\"))  # Outputs: True\n",
    "\n",
    "# Check if the string ends with a given substring\n",
    "print(str1.endswith(\"World\"))  # Outputs: True\n",
    "\n",
    "# Check if the string contains a given substring\n",
    "print(\"Hello\" in str1)  # Outputs: True\n",
    "\n",
    "# Split the string into a list of substrings separated by a given delimiter\n",
    "print(str1.split(\" \"))  # Outputs: ['Hello', 'World']\n",
    "\n",
    "# Join a list of strings into a single string separated by a given delimiter\n",
    "print(\" \".join([\"Hello\", \"World\"]))  # Outputs: Hello World"
   ]
  },
  {
   "cell_type": "markdown",
   "metadata": {},
   "source": [
    "--- \n",
    "\n",
    "## List Variables in Python\n",
    "\n",
    "---\n",
    "\n",
    "List variables in Python are used to store ordered sequences of items. They are mutable, meaning you can modify their elements.\n",
    "\n",
    "\n",
    "\n",
    "Lists can contain elements of different data types and are indexed starting from 0.\n",
    "\n",
    "\n",
    "\n",
    "```python\n",
    "# List Variables\n",
    "fruits = [\"apple\", \"banana\", \"cherry\"]\n",
    "numbers = [1, 2, 3, 4, 5]\n",
    "\n",
    "print(f\"Fruits: {fruits}\")\n",
    "print(f\"Numbers: {numbers}\")\n",
    "```\n"
   ]
  },
  {
   "cell_type": "markdown",
   "metadata": {},
   "source": [
    "--- \n",
    "\n",
    "## List Variables in Python\n",
    "\n",
    "---\n",
    "\n",
    "List variables in Python are used to store ordered sequences of items. They are mutable, meaning you can modify their elements.\n",
    "\n",
    "\n",
    "\n",
    "Lists can contain elements of different data types and are indexed starting from 0.\n",
    "\n"
   ]
  },
  {
   "cell_type": "code",
   "execution_count": null,
   "metadata": {},
   "outputs": [
    {
     "name": "stdout",
     "output_type": "stream",
     "text": [
      "Fruits: ['apple', 'banana', 'cherry']\n",
      "Numbers: [1, 2, 3, 4, 5]\n"
     ]
    }
   ],
   "source": [
    "# List Variables\n",
    "fruits = [\"apple\", \"banana\", \"cherry\"]\n",
    "numbers = [1, 2, 3, 4, 5]\n",
    "\n",
    "print(f\"Fruits: {fruits}\")\n",
    "print(f\"Numbers: {numbers}\")"
   ]
  },
  {
   "cell_type": "markdown",
   "metadata": {},
   "source": [
    "#### List Length\n",
    "The `len()` function can be used to find the length of a list."
   ]
  },
  {
   "cell_type": "code",
   "execution_count": null,
   "metadata": {},
   "outputs": [
    {
     "name": "stdout",
     "output_type": "stream",
     "text": [
      "3\n"
     ]
    }
   ],
   "source": [
    "my_list = [\"apple\", \"banana\", \"cherry\"]\n",
    "print(len(my_list))  # Outputs: 3"
   ]
  },
  {
   "cell_type": "markdown",
   "metadata": {},
   "source": [
    "#### List Append\n",
    "The `append()` method can be used to add an item to the end of a list.\n"
   ]
  },
  {
   "cell_type": "code",
   "execution_count": null,
   "metadata": {},
   "outputs": [
    {
     "name": "stdout",
     "output_type": "stream",
     "text": [
      "['apple', 'banana', 'cherry', 'dragonfruit']\n"
     ]
    }
   ],
   "source": [
    "my_list = [\"apple\", \"banana\", \"cherry\"]\n",
    "my_list.append(\"dragonfruit\")\n",
    "print(my_list)  # Outputs: ['apple', 'banana', 'cherry', 'dragonfruit']"
   ]
  },
  {
   "cell_type": "markdown",
   "metadata": {},
   "source": [
    "#### List Insert\n",
    "The `insert()` method can be used to add an item at a specific position in a list."
   ]
  },
  {
   "cell_type": "code",
   "execution_count": null,
   "metadata": {},
   "outputs": [
    {
     "name": "stdout",
     "output_type": "stream",
     "text": [
      "['apple', 'avocado', 'banana', 'cherry']\n"
     ]
    }
   ],
   "source": [
    "my_list = [\"apple\", \"banana\", \"cherry\"]\n",
    "my_list.insert(1, \"avocado\")\n",
    "print(my_list)  # Outputs: ['apple', 'avocado', 'banana', 'cherry']"
   ]
  },
  {
   "cell_type": "markdown",
   "metadata": {},
   "source": [
    "#### List Remove\n",
    "The `remove()` method can be used to remove a specific item from a list."
   ]
  },
  {
   "cell_type": "code",
   "execution_count": null,
   "metadata": {},
   "outputs": [
    {
     "name": "stdout",
     "output_type": "stream",
     "text": [
      "['apple', 'cherry']\n"
     ]
    }
   ],
   "source": [
    "my_list = [\"apple\", \"banana\", \"cherry\"]\n",
    "my_list.remove(\"banana\")\n",
    "print(my_list)  # Outputs: ['apple', 'cherry']"
   ]
  },
  {
   "cell_type": "markdown",
   "metadata": {},
   "source": [
    "#### List Pop\n",
    "The `pop()` method can be used to remove an item at a specific position in a list."
   ]
  },
  {
   "cell_type": "code",
   "execution_count": null,
   "metadata": {},
   "outputs": [
    {
     "name": "stdout",
     "output_type": "stream",
     "text": [
      "['apple', 'cherry']\n"
     ]
    }
   ],
   "source": [
    "my_list = [\"apple\", \"banana\", \"cherry\"]\n",
    "my_list.pop(1)\n",
    "print(my_list)  # Outputs: ['apple', 'cherry']"
   ]
  },
  {
   "cell_type": "markdown",
   "metadata": {},
   "source": [
    "#### List Indexing\n",
    "You can access an item in a list by referring to its index number."
   ]
  },
  {
   "cell_type": "code",
   "execution_count": null,
   "metadata": {},
   "outputs": [
    {
     "name": "stdout",
     "output_type": "stream",
     "text": [
      "banana\n"
     ]
    }
   ],
   "source": [
    "my_list = [\"apple\", \"banana\", \"cherry\"]\n",
    "print(my_list[1])  # Outputs: banana"
   ]
  },
  {
   "cell_type": "markdown",
   "metadata": {},
   "source": [
    "#### List Slicing\n",
    "You can use slicing to get a part of a list.\n"
   ]
  },
  {
   "cell_type": "code",
   "execution_count": null,
   "metadata": {},
   "outputs": [
    {
     "name": "stdout",
     "output_type": "stream",
     "text": [
      "['banana', 'cherry', 'dragonfruit']\n"
     ]
    }
   ],
   "source": [
    "my_list = [\"apple\", \"banana\", \"cherry\", \"dragonfruit\", \"elderberry\"]\n",
    "print(my_list[1:4])  # Outputs: ['banana', 'cherry', 'dragonfruit']"
   ]
  },
  {
   "cell_type": "markdown",
   "metadata": {},
   "source": [
    "---\n",
    "\n",
    "## Tuple\n",
    "\n",
    "---\n",
    "\n",
    "You can create a tuple by placing a comma-separated sequence of items inside parentheses `()`. Tuples are immutable, meaning you cannot modify their elements.\n",
    "\n"
   ]
  },
  {
   "cell_type": "code",
   "execution_count": null,
   "metadata": {},
   "outputs": [
    {
     "name": "stdout",
     "output_type": "stream",
     "text": [
      "('apple', 'banana', 'cherry')\n"
     ]
    }
   ],
   "source": [
    "my_tuple = (\"apple\", \"banana\", \"cherry\")\n",
    "print(my_tuple)  # Outputs: ('apple', 'banana', 'cherry')"
   ]
  },
  {
   "cell_type": "markdown",
   "metadata": {},
   "source": [
    "#### Tuple Length\n",
    "The `len()` function can be used to find the length of a tuple."
   ]
  },
  {
   "cell_type": "code",
   "execution_count": null,
   "metadata": {},
   "outputs": [
    {
     "name": "stdout",
     "output_type": "stream",
     "text": [
      "3\n"
     ]
    }
   ],
   "source": [
    "my_tuple = (\"apple\", \"banana\", \"cherry\")\n",
    "print(len(my_tuple))  # Outputs: 3"
   ]
  },
  {
   "cell_type": "markdown",
   "metadata": {},
   "source": [
    "#### Tuple Indexing\n",
    "You can access an item in a tuple by referring to its index number."
   ]
  },
  {
   "cell_type": "code",
   "execution_count": null,
   "metadata": {},
   "outputs": [
    {
     "name": "stdout",
     "output_type": "stream",
     "text": [
      "banana\n"
     ]
    }
   ],
   "source": [
    "my_tuple = (\"apple\", \"banana\", \"cherry\")\n",
    "print(my_tuple[1])  # Outputs: banana"
   ]
  },
  {
   "cell_type": "markdown",
   "metadata": {},
   "source": [
    "#### Tuple Slicing\n",
    "You can use slicing to get a part of a tuple.\n"
   ]
  },
  {
   "cell_type": "code",
   "execution_count": null,
   "metadata": {},
   "outputs": [
    {
     "name": "stdout",
     "output_type": "stream",
     "text": [
      "('banana', 'cherry', 'dragonfruit')\n"
     ]
    }
   ],
   "source": [
    "my_tuple = (\"apple\", \"banana\", \"cherry\", \"dragonfruit\", \"elderberry\")\n",
    "print(my_tuple[1:4])  # Outputs: ('banana', 'cherry', 'dragonfruit')"
   ]
  },
  {
   "cell_type": "markdown",
   "metadata": {},
   "source": [
    "#### Tuple Immutability\n",
    "Unlike lists, tuples are immutable. This means that you cannot change, add, or remove items once the tuple is created.\n",
    "Please note that the last code block is meant to illustrate the immutability of tuples and will raise a `TypeError` when run."
   ]
  },
  {
   "cell_type": "code",
   "execution_count": null,
   "metadata": {},
   "outputs": [],
   "source": [
    "\n",
    "my_tuple = (\"apple\", \"banana\", \"cherry\")\n",
    "# my_tuple[1] = \"avocado\"  # This will raise a TypeError"
   ]
  },
  {
   "cell_type": "markdown",
   "metadata": {},
   "source": [
    "---\n",
    "\n",
    "---\n",
    "\n",
    "# Loops in Python\n",
    "\n",
    "---\n",
    "\n",
    "---\n",
    "\n",
    "#### Basic For Loop\n",
    "A `for` loop in Python iterates over an iterable object such as a list, tuple, string, etc. Here is a basic example of a `for` loop that iterates over a list.\n",
    "\n"
   ]
  },
  {
   "cell_type": "code",
   "execution_count": null,
   "metadata": {},
   "outputs": [
    {
     "name": "stdout",
     "output_type": "stream",
     "text": [
      "apple\n",
      "banana\n",
      "cherry\n"
     ]
    }
   ],
   "source": [
    "fruits = [\"apple\", \"banana\", \"cherry\"]\n",
    "for fruit in fruits:\n",
    "    print(fruit)"
   ]
  },
  {
   "cell_type": "markdown",
   "metadata": {},
   "source": [
    "The `range()` function generates a sequence of numbers that can be used in a `for` loop. It can take one, two, or three parameters: `range(stop)`, `range(start, stop)`, or `range(start, stop, step)`."
   ]
  },
  {
   "cell_type": "code",
   "execution_count": null,
   "metadata": {},
   "outputs": [
    {
     "name": "stdout",
     "output_type": "stream",
     "text": [
      "0\n",
      "1\n",
      "2\n",
      "3\n",
      "4\n"
     ]
    }
   ],
   "source": [
    "for i in range(5):\n",
    "    print(i)"
   ]
  },
  {
   "cell_type": "markdown",
   "metadata": {},
   "source": [
    "In this example, `i` is the loop variable that takes on values from 0 to 4. The `range(5)` function generates a sequence of numbers from 0 up to but not including 5.\n",
    "\n",
    "\n",
    "Note : A common misconception is that the `range()` function is similar to a C-style `for` loop. In C style, we initialize a variable, check a condition, and increment the variable in each iteration. However, the `range()` function in Python is a generator that generates a sequence of numbers similar to a list. It does not initialize a variable or increment it in each iteration.\n",
    "\n",
    "In python the for loop is used to iterate over a sequence (list, tuple, string) or other iterable objects. Iterating over a sequence is called traversal.\n",
    "\n",
    "Note: the range() function is does not generate an actual list. It returns an object which works like a list but actually it is a generator. The range() function is used with for loop to iterate over a sequence of numbers. the numbers are generated on the fly during the execution of the for loop."
   ]
  },
  {
   "cell_type": "markdown",
   "metadata": {},
   "source": [
    "\n",
    "#### Nested For Loop\n",
    "A nested `for` loop is a loop inside a loop. The \"inner loop\" will be executed one time for each iteration of the \"outer loop\"."
   ]
  },
  {
   "cell_type": "code",
   "execution_count": null,
   "metadata": {},
   "outputs": [
    {
     "name": "stdout",
     "output_type": "stream",
     "text": [
      "0 0\n",
      "0 1\n",
      "0 2\n",
      "1 0\n",
      "1 1\n",
      "1 2\n",
      "2 0\n",
      "2 1\n",
      "2 2\n"
     ]
    }
   ],
   "source": [
    "for i in range(3):\n",
    "    for j in range(3):\n",
    "        print(i, j)"
   ]
  },
  {
   "cell_type": "markdown",
   "metadata": {},
   "source": [
    "In this example, for each value of `i` in the outer loop, the inner loop is executed three times with `j` taking on values from 0 to 2.\n",
    "\n",
    "#### For Loop with Else\n",
    "A `for` loop can have an `else` clause which is executed after the loop has exhausted iterating the list. The `else` clause is also executed when the loop condition becomes false."
   ]
  },
  {
   "cell_type": "code",
   "execution_count": null,
   "metadata": {},
   "outputs": [
    {
     "name": "stdout",
     "output_type": "stream",
     "text": [
      "0\n",
      "1\n",
      "2\n",
      "3\n",
      "4\n",
      "Loop has ended\n"
     ]
    }
   ],
   "source": [
    "for i in range(5):\n",
    "    print(i)\n",
    "else:\n",
    "    print(\"Loop has ended\")"
   ]
  },
  {
   "cell_type": "markdown",
   "metadata": {},
   "source": [
    "#### Break Statement\n",
    "The `break` statement in Python terminates the current loop and resumes execution at the next statement. The `break` statement can be used in both `while` and `for` loops."
   ]
  },
  {
   "cell_type": "code",
   "execution_count": null,
   "metadata": {},
   "outputs": [
    {
     "name": "stdout",
     "output_type": "stream",
     "text": [
      "0\n",
      "1\n",
      "2\n"
     ]
    }
   ],
   "source": [
    "for i in range(5):\n",
    "    if i == 3:\n",
    "        break\n",
    "    print(i)"
   ]
  },
  {
   "cell_type": "markdown",
   "metadata": {},
   "source": [
    "In this example, the loop will break as soon as `i` is equal to 3, so only 0, 1, and 2 will be printed.\n",
    "\n",
    "#### Continue Statement\n",
    "The `continue` statement in Python returns the control to the beginning of the loop. The `continue` statement rejects all the remaining statements in the current iteration of the loop and moves the control back to the top of the loop."
   ]
  },
  {
   "cell_type": "code",
   "execution_count": null,
   "metadata": {},
   "outputs": [
    {
     "name": "stdout",
     "output_type": "stream",
     "text": [
      "0\n",
      "1\n",
      "2\n",
      "4\n"
     ]
    }
   ],
   "source": [
    "for i in range(5):\n",
    "    if i == 3:\n",
    "        continue\n",
    "    print(i)"
   ]
  },
  {
   "cell_type": "markdown",
   "metadata": {},
   "source": [
    "In this example, when `i` is equal to 3, the `continue` statement will skip the `print(i)` statement, and the loop will continue with the next iteration. So, 0, 1, 2, and 4 will be printed, but not 3.\n",
    "\n",
    "#### Difference Between Break and Continue\n",
    "The main difference between `break` and `continue` is that `break` is used for immediate termination of the loop, while `continue` terminates the current iteration and resumes the control to the next iteration of the loop."
   ]
  },
  {
   "cell_type": "markdown",
   "metadata": {},
   "source": [
    "#### For Loop with Multiple Lists\n",
    "\n",
    "In Python, the `zip()` function is used to combine corresponding elements from multiple iterable objects (like lists, tuples, etc.) into a single iterable. This new iterable, known as a zip object, consists of tuples where the i-th tuple contains the i-th element from each of the argument sequences or iterables.\n",
    "\n"
   ]
  },
  {
   "cell_type": "code",
   "execution_count": null,
   "metadata": {},
   "outputs": [
    {
     "name": "stdout",
     "output_type": "stream",
     "text": [
      "[(1, 'one'), (2, 'two'), (3, 'three')]\n"
     ]
    }
   ],
   "source": [
    "list1 = [1, 2, 3]\n",
    "list2 = ['one', 'two', 'three']\n",
    "zipped = zip(list1, list2)\n",
    "\n",
    "# Convert to a list to print what's inside\n",
    "print(list(zipped))  # Outputs: [(1, 'one'), (2, 'two'), (3, 'three')]"
   ]
  },
  {
   "cell_type": "markdown",
   "metadata": {},
   "source": [
    "In this example, `zip()` takes two lists and returns an iterable that generates tuples. Each tuple contains one element from each list, matched up by their index numbers.\n",
    "\n",
    "The `zip()` function stops creating tuples when the shortest input iterable is exhausted. This means if you're zipping lists of different lengths, elements from the longer lists that don't have corresponding elements in the shorter lists will simply be ignored."
   ]
  },
  {
   "cell_type": "markdown",
   "metadata": {},
   "source": [
    "list1 = [1, 2, 3, 4]\n",
    "list2 = ['one', 'two', 'three']\n",
    "zipped = zip(list1, list2)\n",
    "\n",
    "print(list(zipped))  # Outputs: [(1, 'one'), (2, 'two'), (3, 'three')]"
   ]
  },
  {
   "cell_type": "markdown",
   "metadata": {},
   "source": [
    "In this example, the number 4 from `list1` doesn't appear in the output, because `list2` doesn't have a fourth element to pair with it.\n",
    "\n",
    "The `zip()` function can be particularly useful when you need to iterate over multiple sequences in a `for` loop.\n"
   ]
  },
  {
   "cell_type": "code",
   "execution_count": null,
   "metadata": {},
   "outputs": [
    {
     "name": "stdout",
     "output_type": "stream",
     "text": [
      "1 is one\n",
      "2 is two\n",
      "3 is three\n"
     ]
    }
   ],
   "source": [
    "list1 = [1, 2, 3]\n",
    "list2 = ['one', 'two', 'three']\n",
    "\n",
    "for num, name in zip(list1, list2):\n",
    "    print(f\"{num} is {name}\")"
   ]
  },
  {
   "cell_type": "markdown",
   "metadata": {},
   "source": [
    "In this example, `num` and `name` are loop variables that take on the values from `list1` and `list2` respectively, one tuple at a time."
   ]
  },
  {
   "cell_type": "markdown",
   "metadata": {},
   "source": [
    "---\n",
    "\n",
    "---\n",
    "\n",
    "# Functions in Python\n",
    "\n",
    "---\n",
    "\n",
    "---\n",
    "\n",
    "##  Defining a Function in Python\n",
    "\n",
    "In Python, a function is a block of organized, reusable code that is used to perform a single, related action. Functions provide better modularity for your application and a high degree of code reusing."
   ]
  },
  {
   "cell_type": "code",
   "execution_count": null,
   "metadata": {},
   "outputs": [],
   "source": [
    "def greet():\n",
    "    print(\"Hello, World!\")"
   ]
  },
  {
   "cell_type": "markdown",
   "metadata": {},
   "source": [
    "In this example, `greet` is the function name, and the print statement is the function body.\n",
    "\n",
    "#### Calling a Function in Python\n",
    "\n",
    "After defining a function, you can execute it by calling it from another function or directly from the Python prompt. Following is the example to call the `greet()` function:\n",
    "\n"
   ]
  },
  {
   "cell_type": "code",
   "execution_count": null,
   "metadata": {},
   "outputs": [
    {
     "name": "stdout",
     "output_type": "stream",
     "text": [
      "Hello, World!\n"
     ]
    }
   ],
   "source": [
    "greet()  # Outputs: Hello, World!"
   ]
  },
  {
   "cell_type": "markdown",
   "metadata": {},
   "source": [
    "#### Function Arguments\n",
    "\n",
    "You can pass data, known as parameters, into a function. A function can accept any number and type of parameters.\n"
   ]
  },
  {
   "cell_type": "code",
   "execution_count": null,
   "metadata": {},
   "outputs": [
    {
     "name": "stdout",
     "output_type": "stream",
     "text": [
      "Hello, Alice!\n"
     ]
    }
   ],
   "source": [
    "def greet(name):\n",
    "    print(f\"Hello, {name}!\")\n",
    "\n",
    "greet(\"Alice\")  # Outputs: Hello, Alice!"
   ]
  },
  {
   "cell_type": "markdown",
   "metadata": {},
   "source": [
    "In this example, `name` is a parameter that the `greet` function takes. When you call the function, you can provide this information.\n",
    "\n",
    "#### Return Statement\n",
    "\n",
    "A function can return data as a result. You can use the `return` statement to make your function return a value.\n"
   ]
  },
  {
   "cell_type": "code",
   "execution_count": null,
   "metadata": {},
   "outputs": [
    {
     "name": "stdout",
     "output_type": "stream",
     "text": [
      "7\n"
     ]
    }
   ],
   "source": [
    "def add_numbers(x, y):\n",
    "    return x + y\n",
    "\n",
    "result = add_numbers(3, 4)\n",
    "print(result)  # Outputs: 7"
   ]
  },
  {
   "cell_type": "markdown",
   "metadata": {},
   "source": [
    "In this example, the `add_numbers` function returns the sum of `x` and `y`. The result is stored in the `result` variable.\n",
    "\n",
    "#### Nested Functions\n",
    "\n",
    "In Python, you can define a function inside another function. This is known as a nested function.\n"
   ]
  },
  {
   "cell_type": "code",
   "execution_count": null,
   "metadata": {},
   "outputs": [
    {
     "name": "stdout",
     "output_type": "stream",
     "text": [
      "7\n"
     ]
    }
   ],
   "source": [
    "def outer_function(x, y):\n",
    "    def inner_function(a, b):\n",
    "        return a + b\n",
    "    return inner_function(x, y)\n",
    "\n",
    "result = outer_function(3, 4)\n",
    "print(result)  # Outputs: 7"
   ]
  },
  {
   "cell_type": "markdown",
   "metadata": {},
   "source": [
    "In this example, `inner_function` is a nested function defined inside `outer_function`. The `outer_function` calls `inner_function`, passing `x` and `y` to it.\n",
    "\n",
    "#### Scope of Variables\n",
    "\n",
    "In Python, a variable declared inside a function has a local scope and it's only visible within that function. A variable declared outside a function has a global scope and it's visible from within and outside functions."
   ]
  },
  {
   "cell_type": "code",
   "execution_count": null,
   "metadata": {},
   "outputs": [
    {
     "name": "stdout",
     "output_type": "stream",
     "text": [
      "local\n",
      "global\n"
     ]
    }
   ],
   "source": [
    "x = \"global\"\n",
    "\n",
    "def foo():\n",
    "    x = \"local\"\n",
    "    print(x)  # Outputs: local\n",
    "\n",
    "foo()\n",
    "print(x)  # Outputs: global"
   ]
  },
  {
   "cell_type": "markdown",
   "metadata": {},
   "source": [
    "### use of kwargs and args\n",
    "\n",
    "All functions in python have the ability to accept arguments while calling the function. These arguments are called as parameters. The parameters can be passed to the function in two ways.\n",
    "\n",
    "1. Positional Arguments\n",
    "2. Keyword Arguments\n",
    "\n",
    "#### Positional Arguments\n",
    "\n",
    "Positional arguments are the arguments which are passed to the function in correct positional order. The number of arguments and the position of the arguments must be matched while calling the function. The positional arguments are mapped to the function parameters based on the order of the arguments.\n",
    "\n",
    "For Eg:\n",
    "\n",
    "```python\n",
    "def greet(name, msg):\n",
    "    \"\"\"This function greets to\n",
    "    the person with the provided message\"\"\"\n",
    "    print(\"Hello\", name + ', ' + msg)\n",
    "\n",
    "# call the function\n",
    "greet(\"Monica\", \"Good morning!\")\n",
    "```\n",
    "\n",
    "#### Keyword Arguments\n",
    "\n",
    "Keyword arguments are the arguments which are passed to the function with the keywords and values. The function parameters are matched with the keyword arguments based on the keyword.\n",
    "\n",
    "For Eg:\n",
    "\n",
    "```python\n",
    "def greet(name, msg):\n",
    "    \"\"\"This function greets to\n",
    "    the person with the provided message\"\"\"\n",
    "    print(\"Hello\", name + ', ' + msg)\n",
    "\n",
    "# call the function\n",
    "greet(name = \"Monica\",msg = \"Good morning!\")\n",
    "```\n",
    "\n",
    "\n",
    "Note: Python does not accept having a positional argument after a keyword argument. This will result in an error.\n",
    "\n",
    "For Eg:\n",
    "    \n",
    "```python\n",
    "def greet(name, msg):\n",
    "    \"\"\"This function greets to\n",
    "    the person with the provided message\"\"\"\n",
    "    print(\"Hello\", name + ', ' + msg)\n",
    "\n",
    "# call the function\n",
    "greet(name = \"Monica\",\"Good morning!\")\n",
    "```\n",
    "This will result in an error.\n",
    "\n",
    "However, the reverse is possible. i.e. you can have a keyword argument followed by a positional argument. In this case, the value is passed to the keyword argument.\n",
    "\n",
    "For Eg:\n",
    "\n",
    "```python\n",
    "def greet(name, msg):\n",
    "    \"\"\"This function greets to\n",
    "    the person with the provided message\"\"\"\n",
    "    print(\"Hello\", name + ', ' + msg)\n",
    "\n",
    "# call the function\n",
    "greet(\"Monica\",msg = \"Good morning!\")\n",
    "```\n",
    "\n",
    "#### Default Arguments in Python Functions\n",
    "\n",
    "Python allows function arguments to have default values. If the function is called without the argument, the argument gets its default value. this will be popularly used in lot of libraries like pandas, numpy, matplotlib etc, where you can see in the documentation that the default values are mentioned for the parameters.\n",
    "\n",
    "For Eg:\n",
    "\n",
    "\n",
    "    "
   ]
  },
  {
   "cell_type": "code",
   "execution_count": null,
   "metadata": {},
   "outputs": [],
   "source": [
    "def greet(name, msg = \"Good morning!\"):\n",
    "    \"\"\"\n",
    "    This function greets to\n",
    "    the person with the\n",
    "    provided message.\n",
    "\n",
    "    If the message is not provided,\n",
    "    it defaults to \"Good\n",
    "    morning!\"\n",
    "    \"\"\"\n",
    "\n",
    "    print(\"Hello\",name + ', ' + msg)\n",
    "\n",
    "greet(\"Kate\")\n",
    "\n",
    "greet(\"Bruce\",\"How do you do?\")"
   ]
  },
  {
   "cell_type": "markdown",
   "metadata": {},
   "source": [
    "\n",
    "Note: That the default argument should be at the end of the argument list. If you place it in the middle, you will get a SyntaxError. Further the default arguments will be overridden if you pass the values while calling the function.\n"
   ]
  },
  {
   "cell_type": "markdown",
   "metadata": {},
   "source": [
    "---\n",
    "\n",
    "---\n",
    "\n",
    "# Classes and Objects in Python\n",
    "\n",
    "---\n",
    "\n",
    "---\n",
    "\n",
    "## Python Classes and Objects\n",
    "\n",
    "Python is an object-oriented programming language. This means that any program can be solved in Python by creating an object model. An object-oriented program can be characterized as data controlling access to code. In object-oriented programming, there are two concepts: \n",
    "\n",
    "- Class\n",
    "- Object\n",
    "\n",
    "### Class\n",
    "\n",
    "A class is a blueprint for the object. We can think of class as an sketch of a parrot with labels. It contains all the details about the name, colors, size etc. Based on these descriptions, we can study about the parrot. Here, parrot is an object. The example for class of parrot can be :\n",
    "\n",
    "```python\n",
    "class Parrot:\n",
    "    pass\n",
    "```\n",
    "\n",
    "Here, we use class keyword to define an empty class Parrot. From class, we construct instances. An instance is a specific object created from a particular class. An object (instance) of class Parrot is created as follows :\n",
    "\n",
    "### Object\n",
    "\n",
    "An Object (instance) is an instantiation of a class. When class is defined, only the description for the object is defined. Therefore, no memory or storage is allocated.\n",
    "\n",
    "\n",
    "```python\n",
    "obj = Parrot()\n",
    "```\n",
    "\n",
    "Here, obj is object of class Parrot.\n",
    "\n"
   ]
  },
  {
   "cell_type": "markdown",
   "metadata": {},
   "source": [
    "### Constructors in Python\n",
    "\n",
    "Class functions that begins with double underscore `__` are called special functions as they have special meaning. Constructors are generally used for instantiating an object.The task of constructors is to initialize(assign values) to the data members of the class when an object of class is created.In Python the `__init__()` method is called the constructor and is always called when an object is created.\n",
    "\n",
    "\n",
    "\n",
    "#### How to call the method(function) inside the class ?\n",
    "\n",
    "it is similar to calling/accessing any variables inside the class \n",
    "\n",
    "`<objet name>.<method name>()`\n",
    "\n",
    "For eg, you can call the function `sing` where the object is `obj`, then we can use\n",
    "\n",
    "`obj.sing()`\n",
    "\n"
   ]
  },
  {
   "cell_type": "code",
   "execution_count": null,
   "metadata": {},
   "outputs": [],
   "source": [
    "class Parrot:\n",
    "\n",
    "    # class attribute\n",
    "    species = \"bird\"\n",
    "\n",
    "    # instance attribute\n",
    "    def __init__(self, name, age):\n",
    "        self.name = name\n",
    "        self.age = age\n",
    "    \n",
    "    # instance method\n",
    "    def sing(self, song):\n",
    "        return \"{} sings {}\".format(self.name, song)\n",
    "    \n",
    "    def dance(self):\n",
    "        return \"{} is now dancing\".format(self.name)\n",
    "    \n",
    "# instantiate the Parrot class\n",
    "blu = Parrot(\"Blu\", 10)\n",
    "woo = Parrot(\"Woo\", 15)"
   ]
  },
  {
   "cell_type": "markdown",
   "metadata": {},
   "source": [
    "### Dundar Methods in Python classes\n",
    "\n",
    "Dunder methods are special methods in Python that have two prefix and suffix underscores in the method name. Dunder here means “Double Under (Underscores)”. These are commonly used for operator overloading. Few examples for magic methods are: `__init__`, `__add__`, `__len__`, `__repr__` etc.\n",
    "\n",
    "The `__repr__` method is one of several ways to provide a nicer string representation. It converts the object to a string. The `__repr__` method is one of several ways to provide a nicer string representation. It converts the object to a string.\n",
    "\n",
    "The `__str__` method is another way to provide a nicer string representation. It converts the object to a string. The `__str__` method is another way to provide a nicer string representation while printing the object.\n"
   ]
  },
  {
   "cell_type": "code",
   "execution_count": null,
   "metadata": {},
   "outputs": [
    {
     "name": "stdout",
     "output_type": "stream",
     "text": [
      "Blu is 10 years old\n"
     ]
    }
   ],
   "source": [
    "# Example of dunders in Python classes\n",
    "\n",
    "class Parrot:\n",
    "    \n",
    "        # instance attributes\n",
    "        def __init__(self, name, age):\n",
    "            self.name = name\n",
    "            self.age = age\n",
    "        \n",
    "        # instance method\n",
    "        def sing(self, song):\n",
    "            return \"{} sings {}\".format(self.name, song)\n",
    "        \n",
    "        def dance(self):\n",
    "            return \"{} is now dancing\".format(self.name)\n",
    "        \n",
    "        def __str__(self):\n",
    "            return \"{} is {} years old\".format(self.name, self.age)\n",
    "        \n",
    "# instantiate the object\n",
    "blu = Parrot(\"Blu\", 10)\n",
    "\n",
    "# print the object\n",
    "print(blu)  # Outputs: Blu is 10 years old , this calls the __str__() method"
   ]
  },
  {
   "cell_type": "markdown",
   "metadata": {},
   "source": [
    "### Inheritance in Python\n",
    "\n",
    "Inheritance is a powerful feature in object oriented programming. It refers to defining a new class with little or no modification to an existing class. The new class is called derived (or child) class and the one from which it inherits is called the base (or parent) class. The derived class inherits the features from the base class and can have additional features of its own.\n",
    "\n",
    "For example, we want to make a class called `Bird` that has attributes like `color`, `name`, `age` but not all birds are the same. So, we will make a class `Parrot` that will inherit all the attributes of `Bird` class and will have its own attributes like `talk`. Similarly, we can make classes like `Penguin` and `Chicken` that will inherit the same attributes from the `Bird` class but will have their own characteristics.\n",
    "\n",
    "This capability of a class to derive properties and characteristics from another class is called Inheritance. Inheritance is one of the most important aspects of Object Oriented Programming."
   ]
  },
  {
   "cell_type": "code",
   "execution_count": null,
   "metadata": {},
   "outputs": [
    {
     "name": "stdout",
     "output_type": "stream",
     "text": [
      "Bird is ready\n",
      "Penguin is ready\n",
      "Penguin\n",
      "---------------------------------\n",
      "Bird is ready\n",
      "Parrot is ready\n",
      "Parrot\n"
     ]
    }
   ],
   "source": [
    "# Example of inheritance in Python classes\n",
    "class Bird:\n",
    "    \n",
    "    def __init__(self):\n",
    "        print(\"Bird is ready\")\n",
    "    \n",
    "    def whoisThis(self):\n",
    "        print(\"Bird\")\n",
    "    \n",
    "    def swim(self):\n",
    "        print(\"Swim faster\")\n",
    "\n",
    "# child class\n",
    "class Penguin(Bird):\n",
    "    \n",
    "    def __init__(self):\n",
    "        # call super() function\n",
    "        super().__init__()\n",
    "        print(\"Penguin is ready\")\n",
    "    \n",
    "    def whoisThis(self):\n",
    "        print(\"Penguin\")\n",
    "    \n",
    "    def run(self):\n",
    "        print(\"Run faster\")\n",
    "\n",
    "\n",
    "peggy = Penguin()\n",
    "peggy.whoisThis()\n",
    "\n",
    "print(\"---------------------------------\")\n",
    "# create one more child class\n",
    "class Parrot(Bird):\n",
    "    \n",
    "    def __init__(self):\n",
    "        # call super() function\n",
    "        super().__init__()\n",
    "        print(\"Parrot is ready\")\n",
    "    \n",
    "    def whoisThis(self):\n",
    "        print(\"Parrot\")\n",
    "    \n",
    "    def fly(self):\n",
    "        print(\"Fly faster\")\n",
    "\n",
    "# instantiate the Parrot class\n",
    "blu = Parrot()\n",
    "\n",
    "# call object methods\n",
    "blu.whoisThis()"
   ]
  },
  {
   "cell_type": "markdown",
   "metadata": {},
   "source": [
    "---\n",
    "\n",
    "---\n",
    "\n",
    "# Best Practices in Python\n",
    "\n",
    "---\n",
    "\n",
    "---\n",
    "\n",
    "\n",
    "\n",
    "\n",
    "#### Use of Variable Names in Function Calls\n",
    "\n",
    "Good variable names are crucial for readable and maintainable code. When calling functions, it's important to use meaningful variable names. This makes your code easier to read and understand. For example, instead of `x` and `y`, you might use `first_name` and `last_name` if your function is dealing with names. This way, anyone reading your code can easily understand what each variable represents. Also, when using multiple arguments, it's a good practice to explicitly state the variable names in the function call. This not only makes your code more readable but also prevents bugs due to the wrong order of arguments."
   ]
  },
  {
   "cell_type": "code",
   "execution_count": null,
   "metadata": {},
   "outputs": [
    {
     "name": "stdout",
     "output_type": "stream",
     "text": [
      "Hello, John Doe!\n",
      "Hello, John Doe!\n"
     ]
    }
   ],
   "source": [
    "# Good Practice\n",
    "def greet(first_name, last_name):\n",
    "    print(f\"Hello, {first_name} {last_name}!\")\n",
    "\n",
    "greet(first_name=\"John\", last_name=\"Doe\")\n",
    "\n",
    "# Bad Practice\n",
    "def greet(x, y):\n",
    "    print(f\"Hello, {x} {y}!\")\n",
    "\n",
    "greet(\"John\", \"Doe\")"
   ]
  },
  {
   "cell_type": "markdown",
   "metadata": {},
   "source": [
    "In the bad practice example, it's not immediately clear what `x` and `y` represent. In the good practice example, it's clear that the function is expecting a first name and a last name.\n",
    "\n",
    "#### Use of Type Checking on Function Parameters\n",
    "\n",
    "Python 3.5 introduced type hints, a new syntax for declaring the type of a variable. While Python remains a dynamically typed language, type hints are a good way to make it clear what type of values a function expects and returns. This can make your code easier to understand. However, Python doesn't enforce these type hints. If you want to enforce them, you can use a tool like `pydantic` or `dataclasses`."
   ]
  },
  {
   "cell_type": "code",
   "execution_count": null,
   "metadata": {},
   "outputs": [],
   "source": [
    "# Good Practice\n",
    "def add_numbers(a: int, b: int) -> int:\n",
    "    return a + b\n",
    "\n",
    "# Bad Practice\n",
    "def add_numbers(a, b):\n",
    "    return a + b"
   ]
  },
  {
   "cell_type": "markdown",
   "metadata": {},
   "source": [
    "In the bad practice example, it's not immediately clear what types `a` and `b` should be. In the good practice example, the type hints make it clear that `a` and `b` should be integers, and that the function returns an integer.\n",
    "\n",
    "However, keep in mind that Python won't prevent you from passing arguments of the wrong type to `add_numbers` in the good practice example. If you want to ensure that `a` and `b` are integers, you would still need to manually check this inside the function, like so:"
   ]
  },
  {
   "cell_type": "code",
   "execution_count": null,
   "metadata": {},
   "outputs": [],
   "source": [
    "def add_numbers(a: int, b: int) -> int:\n",
    "    if not isinstance(a, int) or not isinstance(b, int):\n",
    "        raise TypeError(\"Both a and b must be integers\")\n",
    "    return a + b"
   ]
  },
  {
   "cell_type": "markdown",
   "metadata": {},
   "source": [
    "#### Use of Docstrings in Functions\n",
    "\n",
    "Docstrings are a type of comment used to explain the purpose of a function, and how it should be used. Docstrings are enclosed in triple quotes and are placed immediately after the function definition. They can include a description of the function, its parameters, its return type, and any exceptions it raises. Writing clear and comprehensive docstrings is a good practice as it makes your code easier to understand and use. Tools like Sphinx can even generate documentation from your docstrings automatically."
   ]
  },
  {
   "cell_type": "code",
   "execution_count": null,
   "metadata": {},
   "outputs": [],
   "source": [
    "# Good Practice\n",
    "def add_numbers(a, b):\n",
    "    \"\"\"\n",
    "    Add two numbers together.\n",
    "\n",
    "    Parameters:\n",
    "    a (int or float): The first number.\n",
    "    b (int or float): The second number.\n",
    "\n",
    "    Returns:\n",
    "    int or float: The sum of a and b.\n",
    "    \"\"\"\n",
    "    return a + b\n",
    "\n",
    "# Bad Practice\n",
    "def add_numbers(a, b):\n",
    "    return a + b"
   ]
  },
  {
   "cell_type": "code",
   "execution_count": null,
   "metadata": {},
   "outputs": [],
   "source": []
  }
 ],
 "metadata": {
  "language_info": {
   "name": "python"
  }
 },
 "nbformat": 4,
 "nbformat_minor": 2
}
