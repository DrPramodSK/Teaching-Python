{
 "cells": [
  {
   "cell_type": "markdown",
   "metadata": {},
   "source": [
    "\n",
    "\n",
    "<h2 style=\"color:green; font-family: 'Nunito Sans', sans-serif;\">Fetch data from API</h2>\n",
    "\n",
    "<div style=\"color:black; font-family: 'Quicksand', sans-serif;font-weight:500\">\n",
    "\n",
    "\n",
    "This demonstrates how you can obtain these data from an API\n",
    "    \n",
    "</div>"
   ]
  },
  {
   "cell_type": "code",
   "execution_count": 2,
   "metadata": {},
   "outputs": [],
   "source": [
    "import requests\n",
    "\n",
    "# r = requests.get('https://www.romexchange.com/')\n",
    "## URL - Bit coin interface\n",
    "url2 = \"https://api.coindesk.com/v1/bpi/currentprice.json\"\n",
    "r = requests.get(url2)"
   ]
  },
  {
   "cell_type": "code",
   "execution_count": 3,
   "metadata": {},
   "outputs": [
    {
     "data": {
      "text/plain": [
       "200"
      ]
     },
     "execution_count": 3,
     "metadata": {},
     "output_type": "execute_result"
    }
   ],
   "source": [
    "r.status_code"
   ]
  },
  {
   "cell_type": "code",
   "execution_count": 5,
   "metadata": {},
   "outputs": [
    {
     "data": {
      "text/plain": [
       "'OK'"
      ]
     },
     "execution_count": 5,
     "metadata": {},
     "output_type": "execute_result"
    }
   ],
   "source": [
    "responseDict[r.status_code]"
   ]
  },
  {
   "cell_type": "markdown",
   "metadata": {},
   "source": [
    "\n",
    "\n",
    "<h2 style=\"color:green; font-family: 'Nunito Sans', sans-serif;\">Get the current rate of bitcoin</h2>\n"
   ]
  },
  {
   "cell_type": "code",
   "execution_count": 10,
   "metadata": {},
   "outputs": [
    {
     "data": {
      "text/plain": [
       "'44,169.8002'"
      ]
     },
     "execution_count": 10,
     "metadata": {},
     "output_type": "execute_result"
    }
   ],
   "source": [
    "import json\n",
    "r.text\n",
    "\n",
    "data = json.loads(r.text)\n",
    "\n",
    "data[\"bpi\"][\"USD\"]['rate']"
   ]
  },
  {
   "cell_type": "markdown",
   "metadata": {},
   "source": [
    "\n",
    "\n",
    "<h2 style=\"color:green; font-family: 'Nunito Sans', sans-serif;\">To get this dictionary from this codes,</h2>\n",
    "\n",
    "\n",
    "https://httpstatuses.com/\n",
    "\n",
    "```cat dict.txt | sed -E 's/^([0-9]{3}\\s)([A-Za-z -]+)/\\1:\"\\2\",/' | grep -v \"××\" > dict```\n"
   ]
  },
  {
   "cell_type": "code",
   "execution_count": 6,
   "metadata": {},
   "outputs": [],
   "source": [
    "responseDict = {100 :\"Continue\",\n",
    "101 :\"Switching Protocols\",\n",
    "102 :\"Processing\",\n",
    "200 :\"OK\",\n",
    "201 :\"Created\",\n",
    "202 :\"Accepted\",\n",
    "203 :\"Non-authoritative Information\",\n",
    "204 :\"No Content\",\n",
    "205 :\"Reset Content\",\n",
    "206 :\"Partial Content\",\n",
    "207 :\"Multi-Status\",\n",
    "208 :\"Already Reported\",\n",
    "226 :\"IM Used\",\n",
    "300 :\"Multiple Choices\",\n",
    "301 :\"Moved Permanently\",\n",
    "302 :\"Found\",\n",
    "303 :\"See Other\",\n",
    "304 :\"Not Modified\",\n",
    "305 :\"Use Proxy\",\n",
    "307 :\"Temporary Redirect\",\n",
    "308 :\"Permanent Redirect\",\n",
    "400 :\"Bad Request\",\n",
    "401 :\"Unauthorized\",\n",
    "402 :\"Payment Required\",\n",
    "403 :\"Forbidden\",\n",
    "404 :\"Not Found\",\n",
    "405 :\"Method Not Allowed\",\n",
    "406 :\"Not Acceptable\",\n",
    "407 :\"Proxy Authentication Required\",\n",
    "408 :\"Request Timeout\",\n",
    "409 :\"Conflict\",\n",
    "410 :\"Gone\",\n",
    "411 :\"Length Required\",\n",
    "412 :\"Precondition Failed\",\n",
    "413 :\"Payload Too Large\",\n",
    "414 :\"Request-URI Too Long\",\n",
    "415 :\"Unsupported Media Type\",\n",
    "416 :\"Requested Range Not Satisfiable\",\n",
    "417 :\"Expectation Failed\",\n",
    "418 :\"I'm a teapot\",\n",
    "421 :\"Misdirected Request\",\n",
    "422 :\"Unprocessable Entity\",\n",
    "423 :\"Locked\",\n",
    "424 :\"Failed Dependency\",\n",
    "426 :\"Upgrade Required\",\n",
    "428 :\"Precondition Required\",\n",
    "429 :\"Too Many Requests\",\n",
    "431 :\"Request Header Fields Too Large\",\n",
    "444 :\"Connection Closed Without Response\",\n",
    "451 :\"Unavailable For Legal Reasons\",\n",
    "499 :\"Client Closed Request\",\n",
    "500 :\"Internal Server Error\",\n",
    "501 :\"Not Implemented\",\n",
    "502 :\"Bad Gateway\",\n",
    "503 :\"Service Unavailable\",\n",
    "504 :\"Gateway Timeout\",\n",
    "505 :\"HTTP Version Not Supported\",\n",
    "506 :\"Variant Also Negotiates\",\n",
    "507 :\"Insufficient Storage\",\n",
    "508 :\"Loop Detected\",\n",
    "510 :\"Not Extended\",\n",
    "511 :\"Network Authentication Required\",\n",
    "599 :\"Network Connect Timeout Error\"}"
   ]
  },
  {
   "cell_type": "code",
   "execution_count": null,
   "metadata": {},
   "outputs": [],
   "source": []
  },
  {
   "cell_type": "code",
   "execution_count": 1,
   "metadata": {},
   "outputs": [
    {
     "name": "stderr",
     "output_type": "stream",
     "text": [
      "\u001b[32m[I 2022-02-09 02:27:55,376]\u001b[0m A new study created in memory with name: no-name-c88443de-10d7-4cf1-8dea-15e9def4cfff\u001b[0m\n",
      "\u001b[32m[I 2022-02-09 02:27:55,379]\u001b[0m Trial 0 finished with value: 18.99099960442096 and parameters: {'x': -2.3578664050680764}. Best is trial 0 with value: 18.99099960442096.\u001b[0m\n",
      "\u001b[32m[I 2022-02-09 02:27:55,380]\u001b[0m Trial 1 finished with value: 0.037877356904883405 and parameters: {'x': 2.1946210597671367}. Best is trial 1 with value: 0.037877356904883405.\u001b[0m\n",
      "\u001b[32m[I 2022-02-09 02:27:55,381]\u001b[0m Trial 2 finished with value: 0.024877677750651882 and parameters: {'x': 1.842273408232309}. Best is trial 2 with value: 0.024877677750651882.\u001b[0m\n",
      "\u001b[32m[I 2022-02-09 02:27:55,382]\u001b[0m Trial 3 finished with value: 63.88604055691376 and parameters: {'x': 9.992874361386757}. Best is trial 2 with value: 0.024877677750651882.\u001b[0m\n",
      "\u001b[32m[I 2022-02-09 02:27:55,383]\u001b[0m Trial 4 finished with value: 124.68878492500777 and parameters: {'x': -9.16641325247314}. Best is trial 2 with value: 0.024877677750651882.\u001b[0m\n",
      "\u001b[32m[I 2022-02-09 02:27:55,384]\u001b[0m Trial 5 finished with value: 35.86331744838829 and parameters: {'x': 7.988598955380823}. Best is trial 2 with value: 0.024877677750651882.\u001b[0m\n",
      "\u001b[32m[I 2022-02-09 02:27:55,384]\u001b[0m Trial 6 finished with value: 132.53426033383357 and parameters: {'x': -9.512352510839545}. Best is trial 2 with value: 0.024877677750651882.\u001b[0m\n",
      "\u001b[32m[I 2022-02-09 02:27:55,385]\u001b[0m Trial 7 finished with value: 33.799083391673 and parameters: {'x': -3.8136979102523894}. Best is trial 2 with value: 0.024877677750651882.\u001b[0m\n",
      "\u001b[32m[I 2022-02-09 02:27:55,386]\u001b[0m Trial 8 finished with value: 36.10829903522397 and parameters: {'x': -4.009018142361027}. Best is trial 2 with value: 0.024877677750651882.\u001b[0m\n",
      "\u001b[32m[I 2022-02-09 02:27:55,388]\u001b[0m Trial 9 finished with value: 21.66932582069634 and parameters: {'x': -2.655032311455672}. Best is trial 2 with value: 0.024877677750651882.\u001b[0m\n",
      "\u001b[32m[I 2022-02-09 02:27:55,393]\u001b[0m Trial 10 finished with value: 4.509263388027777 and parameters: {'x': 4.12350262256202}. Best is trial 2 with value: 0.024877677750651882.\u001b[0m\n",
      "\u001b[32m[I 2022-02-09 02:27:55,398]\u001b[0m Trial 11 finished with value: 1.4755139379716822 and parameters: {'x': 3.2147073466360867}. Best is trial 2 with value: 0.024877677750651882.\u001b[0m\n",
      "\u001b[32m[I 2022-02-09 02:27:55,403]\u001b[0m Trial 12 finished with value: 0.0026710498561862994 and parameters: {'x': 1.9483177994258536}. Best is trial 12 with value: 0.0026710498561862994.\u001b[0m\n",
      "\u001b[32m[I 2022-02-09 02:27:55,411]\u001b[0m Trial 13 finished with value: 1.6115158915386438 and parameters: {'x': 0.7305450415478918}. Best is trial 12 with value: 0.0026710498561862994.\u001b[0m\n",
      "\u001b[32m[I 2022-02-09 02:27:55,417]\u001b[0m Trial 14 finished with value: 13.822380555159151 and parameters: {'x': 5.717846225324435}. Best is trial 12 with value: 0.0026710498561862994.\u001b[0m\n",
      "\u001b[32m[I 2022-02-09 02:27:55,422]\u001b[0m Trial 15 finished with value: 5.211519443299116 and parameters: {'x': -0.28287525793660384}. Best is trial 12 with value: 0.0026710498561862994.\u001b[0m\n",
      "\u001b[32m[I 2022-02-09 02:27:55,428]\u001b[0m Trial 16 finished with value: 21.910678494974373 and parameters: {'x': 6.680884371032292}. Best is trial 12 with value: 0.0026710498561862994.\u001b[0m\n",
      "\u001b[32m[I 2022-02-09 02:27:55,433]\u001b[0m Trial 17 finished with value: 65.5980794557113 and parameters: {'x': -6.09926413050663}. Best is trial 12 with value: 0.0026710498561862994.\u001b[0m\n",
      "\u001b[32m[I 2022-02-09 02:27:55,437]\u001b[0m Trial 18 finished with value: 0.6250863055551732 and parameters: {'x': 1.2093760024163362}. Best is trial 12 with value: 0.0026710498561862994.\u001b[0m\n",
      "\u001b[32m[I 2022-02-09 02:27:55,443]\u001b[0m Trial 19 finished with value: 7.859003897997231 and parameters: {'x': -0.8033914992375271}. Best is trial 12 with value: 0.0026710498561862994.\u001b[0m\n",
      "\u001b[32m[I 2022-02-09 02:27:55,448]\u001b[0m Trial 20 finished with value: 2.75923634650235 and parameters: {'x': 3.661094923989099}. Best is trial 12 with value: 0.0026710498561862994.\u001b[0m\n",
      "\u001b[32m[I 2022-02-09 02:27:55,454]\u001b[0m Trial 21 finished with value: 0.00031785238695438946 and parameters: {'x': 2.0178284151554307}. Best is trial 21 with value: 0.00031785238695438946.\u001b[0m\n",
      "\u001b[32m[I 2022-02-09 02:27:55,458]\u001b[0m Trial 22 finished with value: 12.411584861532118 and parameters: {'x': 5.52300792811088}. Best is trial 21 with value: 0.00031785238695438946.\u001b[0m\n",
      "\u001b[32m[I 2022-02-09 02:27:55,464]\u001b[0m Trial 23 finished with value: 0.0015545884357413863 and parameters: {'x': 1.9605717305002948}. Best is trial 21 with value: 0.00031785238695438946.\u001b[0m\n",
      "\u001b[32m[I 2022-02-09 02:27:55,470]\u001b[0m Trial 24 finished with value: 6.551047975325935 and parameters: {'x': -0.5595015091470323}. Best is trial 21 with value: 0.00031785238695438946.\u001b[0m\n",
      "\u001b[32m[I 2022-02-09 02:27:55,475]\u001b[0m Trial 25 finished with value: 6.036663163275979 and parameters: {'x': 4.456962181897796}. Best is trial 21 with value: 0.00031785238695438946.\u001b[0m\n",
      "\u001b[32m[I 2022-02-09 02:27:55,480]\u001b[0m Trial 26 finished with value: 0.0998110147263764 and parameters: {'x': 2.31592881275119}. Best is trial 21 with value: 0.00031785238695438946.\u001b[0m\n",
      "\u001b[32m[I 2022-02-09 02:27:55,485]\u001b[0m Trial 27 finished with value: 32.055928433131896 and parameters: {'x': 7.661795513185892}. Best is trial 21 with value: 0.00031785238695438946.\u001b[0m\n",
      "\u001b[32m[I 2022-02-09 02:27:55,490]\u001b[0m Trial 28 finished with value: 13.997170079321444 and parameters: {'x': -1.7412792036042224}. Best is trial 21 with value: 0.00031785238695438946.\u001b[0m\n",
      "\u001b[32m[I 2022-02-09 02:27:55,498]\u001b[0m Trial 29 finished with value: 17.010254133630355 and parameters: {'x': -2.1243489345144355}. Best is trial 21 with value: 0.00031785238695438946.\u001b[0m\n",
      "\u001b[32m[I 2022-02-09 02:27:55,505]\u001b[0m Trial 30 finished with value: 1.5351092645008653 and parameters: {'x': 0.7610047358844081}. Best is trial 21 with value: 0.00031785238695438946.\u001b[0m\n",
      "\u001b[32m[I 2022-02-09 02:27:55,510]\u001b[0m Trial 31 finished with value: 0.1007376451149941 and parameters: {'x': 2.31739194242292}. Best is trial 21 with value: 0.00031785238695438946.\u001b[0m\n",
      "\u001b[32m[I 2022-02-09 02:27:55,516]\u001b[0m Trial 32 finished with value: 0.11551723504427566 and parameters: {'x': 1.66012173496342}. Best is trial 21 with value: 0.00031785238695438946.\u001b[0m\n",
      "\u001b[32m[I 2022-02-09 02:27:55,521]\u001b[0m Trial 33 finished with value: 0.33108065245577606 and parameters: {'x': 2.5753960831077807}. Best is trial 21 with value: 0.00031785238695438946.\u001b[0m\n",
      "\u001b[32m[I 2022-02-09 02:27:55,526]\u001b[0m Trial 34 finished with value: 10.522892752974203 and parameters: {'x': 5.243900854368734}. Best is trial 21 with value: 0.00031785238695438946.\u001b[0m\n",
      "\u001b[32m[I 2022-02-09 02:27:55,531]\u001b[0m Trial 35 finished with value: 1.5334229015992744 and parameters: {'x': 0.7616854593443254}. Best is trial 21 with value: 0.00031785238695438946.\u001b[0m\n",
      "\u001b[32m[I 2022-02-09 02:27:55,534]\u001b[0m Trial 36 finished with value: 58.372072724071565 and parameters: {'x': 9.640161825777747}. Best is trial 21 with value: 0.00031785238695438946.\u001b[0m\n",
      "\u001b[32m[I 2022-02-09 02:27:55,540]\u001b[0m Trial 37 finished with value: 1.2719025029191608 and parameters: {'x': 3.1277865502475017}. Best is trial 21 with value: 0.00031785238695438946.\u001b[0m\n",
      "\u001b[32m[I 2022-02-09 02:27:55,546]\u001b[0m Trial 38 finished with value: 93.90737136491687 and parameters: {'x': -7.690581580324106}. Best is trial 21 with value: 0.00031785238695438946.\u001b[0m\n",
      "\u001b[32m[I 2022-02-09 02:27:55,553]\u001b[0m Trial 39 finished with value: 8.837816672267337 and parameters: {'x': -0.9728465604984287}. Best is trial 21 with value: 0.00031785238695438946.\u001b[0m\n",
      "\u001b[32m[I 2022-02-09 02:27:55,559]\u001b[0m Trial 40 finished with value: 29.204594113790108 and parameters: {'x': -3.4041275071735777}. Best is trial 21 with value: 0.00031785238695438946.\u001b[0m\n",
      "\u001b[32m[I 2022-02-09 02:27:55,565]\u001b[0m Trial 41 finished with value: 0.19666206442750267 and parameters: {'x': 1.5565340323908692}. Best is trial 21 with value: 0.00031785238695438946.\u001b[0m\n",
      "\u001b[32m[I 2022-02-09 02:27:55,570]\u001b[0m Trial 42 finished with value: 7.006733555745175 and parameters: {'x': 4.6470235276145875}. Best is trial 21 with value: 0.00031785238695438946.\u001b[0m\n",
      "\u001b[32m[I 2022-02-09 02:27:55,575]\u001b[0m Trial 43 finished with value: 2.8440665511356844 and parameters: {'x': 0.3135639498825683}. Best is trial 21 with value: 0.00031785238695438946.\u001b[0m\n",
      "\u001b[32m[I 2022-02-09 02:27:55,580]\u001b[0m Trial 44 finished with value: 1.6657076733792966 and parameters: {'x': 3.290622978789428}. Best is trial 21 with value: 0.00031785238695438946.\u001b[0m\n",
      "\u001b[32m[I 2022-02-09 02:27:55,585]\u001b[0m Trial 45 finished with value: 0.032324018404348946 and parameters: {'x': 1.820211183872998}. Best is trial 21 with value: 0.00031785238695438946.\u001b[0m\n",
      "\u001b[32m[I 2022-02-09 02:27:55,590]\u001b[0m Trial 46 finished with value: 0.017225884022613967 and parameters: {'x': 1.8687525847012065}. Best is trial 21 with value: 0.00031785238695438946.\u001b[0m\n",
      "\u001b[32m[I 2022-02-09 02:27:55,595]\u001b[0m Trial 47 finished with value: 3.3536646313968133 and parameters: {'x': 0.16869865085049063}. Best is trial 21 with value: 0.00031785238695438946.\u001b[0m\n",
      "\u001b[32m[I 2022-02-09 02:27:55,601]\u001b[0m Trial 48 finished with value: 18.645118680093496 and parameters: {'x': 6.317999383984844}. Best is trial 21 with value: 0.00031785238695438946.\u001b[0m\n",
      "\u001b[32m[I 2022-02-09 02:27:55,606]\u001b[0m Trial 49 finished with value: 11.153419656393497 and parameters: {'x': -1.339673585306429}. Best is trial 21 with value: 0.00031785238695438946.\u001b[0m\n",
      "\u001b[32m[I 2022-02-09 02:27:55,611]\u001b[0m Trial 50 finished with value: 50.785200657439376 and parameters: {'x': -5.126373597941619}. Best is trial 21 with value: 0.00031785238695438946.\u001b[0m\n",
      "\u001b[32m[I 2022-02-09 02:27:55,616]\u001b[0m Trial 51 finished with value: 0.039718997397845804 and parameters: {'x': 1.800703744646705}. Best is trial 21 with value: 0.00031785238695438946.\u001b[0m\n",
      "\u001b[32m[I 2022-02-09 02:27:55,621]\u001b[0m Trial 52 finished with value: 3.24138504302237 and parameters: {'x': 3.8003846930648932}. Best is trial 21 with value: 0.00031785238695438946.\u001b[0m\n",
      "\u001b[32m[I 2022-02-09 02:27:55,627]\u001b[0m Trial 53 finished with value: 0.8831913729468656 and parameters: {'x': 2.9397826200493737}. Best is trial 21 with value: 0.00031785238695438946.\u001b[0m\n",
      "\u001b[32m[I 2022-02-09 02:27:55,631]\u001b[0m Trial 54 finished with value: 0.3775861500734462 and parameters: {'x': 1.3855196096916955}. Best is trial 21 with value: 0.00031785238695438946.\u001b[0m\n",
      "\u001b[32m[I 2022-02-09 02:27:55,636]\u001b[0m Trial 55 finished with value: 5.4620040462422885 and parameters: {'x': -0.3370930760759805}. Best is trial 21 with value: 0.00031785238695438946.\u001b[0m\n",
      "\u001b[32m[I 2022-02-09 02:27:55,642]\u001b[0m Trial 56 finished with value: 6.381813763711099 and parameters: {'x': 4.526225200513822}. Best is trial 21 with value: 0.00031785238695438946.\u001b[0m\n",
      "\u001b[32m[I 2022-02-09 02:27:55,647]\u001b[0m Trial 57 finished with value: 0.04704544127797316 and parameters: {'x': 2.216899611059986}. Best is trial 21 with value: 0.00031785238695438946.\u001b[0m\n",
      "\u001b[32m[I 2022-02-09 02:27:55,652]\u001b[0m Trial 58 finished with value: 1.2672476714595873 and parameters: {'x': 0.8742790436970682}. Best is trial 21 with value: 0.00031785238695438946.\u001b[0m\n",
      "\u001b[32m[I 2022-02-09 02:27:55,657]\u001b[0m Trial 59 finished with value: 3.8936681016992325 and parameters: {'x': 3.9732379739147614}. Best is trial 21 with value: 0.00031785238695438946.\u001b[0m\n",
      "\u001b[32m[I 2022-02-09 02:27:55,662]\u001b[0m Trial 60 finished with value: 3.0847495008834165 and parameters: {'x': 0.24365450412414114}. Best is trial 21 with value: 0.00031785238695438946.\u001b[0m\n",
      "\u001b[32m[I 2022-02-09 02:27:55,667]\u001b[0m Trial 61 finished with value: 0.00041851691027870383 and parameters: {'x': 2.020457685848568}. Best is trial 21 with value: 0.00031785238695438946.\u001b[0m\n",
      "\u001b[32m[I 2022-02-09 02:27:55,673]\u001b[0m Trial 62 finished with value: 0.3070056936379639 and parameters: {'x': 2.5540809450233457}. Best is trial 21 with value: 0.00031785238695438946.\u001b[0m\n",
      "\u001b[32m[I 2022-02-09 02:27:55,679]\u001b[0m Trial 63 finished with value: 0.07204038303764165 and parameters: {'x': 1.7315966039006927}. Best is trial 21 with value: 0.00031785238695438946.\u001b[0m\n",
      "\u001b[32m[I 2022-02-09 02:27:55,686]\u001b[0m Trial 64 finished with value: 1.510216054338748 and parameters: {'x': 3.2289084808637085}. Best is trial 21 with value: 0.00031785238695438946.\u001b[0m\n",
      "\u001b[32m[I 2022-02-09 02:27:55,693]\u001b[0m Trial 65 finished with value: 0.6376547155945637 and parameters: {'x': 1.2014671480805792}. Best is trial 21 with value: 0.00031785238695438946.\u001b[0m\n",
      "\u001b[32m[I 2022-02-09 02:27:55,702]\u001b[0m Trial 66 finished with value: 9.26708376207141 and parameters: {'x': 5.044188522754695}. Best is trial 21 with value: 0.00031785238695438946.\u001b[0m\n",
      "\u001b[32m[I 2022-02-09 02:27:55,711]\u001b[0m Trial 67 finished with value: 0.4781105940678338 and parameters: {'x': 2.691455417266966}. Best is trial 21 with value: 0.00031785238695438946.\u001b[0m\n",
      "\u001b[32m[I 2022-02-09 02:27:55,716]\u001b[0m Trial 68 finished with value: 0.000559297414311782 and parameters: {'x': 1.9763505303587632}. Best is trial 21 with value: 0.00031785238695438946.\u001b[0m\n",
      "\u001b[32m[I 2022-02-09 02:27:55,725]\u001b[0m Trial 69 finished with value: 2.500650298204567 and parameters: {'x': 3.5813444590615187}. Best is trial 21 with value: 0.00031785238695438946.\u001b[0m\n",
      "\u001b[32m[I 2022-02-09 02:27:55,732]\u001b[0m Trial 70 finished with value: 22.140294016762915 and parameters: {'x': -2.7053473853439254}. Best is trial 21 with value: 0.00031785238695438946.\u001b[0m\n",
      "\u001b[32m[I 2022-02-09 02:27:55,737]\u001b[0m Trial 71 finished with value: 0.0003733044476766892 and parameters: {'x': 2.0193210881597463}. Best is trial 21 with value: 0.00031785238695438946.\u001b[0m\n",
      "\u001b[32m[I 2022-02-09 02:27:55,742]\u001b[0m Trial 72 finished with value: 1.5049190747993142 and parameters: {'x': 0.7732485684543449}. Best is trial 21 with value: 0.00031785238695438946.\u001b[0m\n",
      "\u001b[32m[I 2022-02-09 02:27:55,747]\u001b[0m Trial 73 finished with value: 0.006132585175603165 and parameters: {'x': 2.0783108241279784}. Best is trial 21 with value: 0.00031785238695438946.\u001b[0m\n",
      "\u001b[32m[I 2022-02-09 02:27:55,753]\u001b[0m Trial 74 finished with value: 0.10366958673229323 and parameters: {'x': 2.3219776183716707}. Best is trial 21 with value: 0.00031785238695438946.\u001b[0m\n",
      "\u001b[32m[I 2022-02-09 02:27:55,759]\u001b[0m Trial 75 finished with value: 0.9058467402884866 and parameters: {'x': 1.0482401877109506}. Best is trial 21 with value: 0.00031785238695438946.\u001b[0m\n",
      "\u001b[32m[I 2022-02-09 02:27:55,765]\u001b[0m Trial 76 finished with value: 4.585101321979812 and parameters: {'x': 4.1412849698206475}. Best is trial 21 with value: 0.00031785238695438946.\u001b[0m\n",
      "\u001b[32m[I 2022-02-09 02:27:55,770]\u001b[0m Trial 77 finished with value: 5.521076067337054 and parameters: {'x': -0.34969701607187087}. Best is trial 21 with value: 0.00031785238695438946.\u001b[0m\n",
      "\u001b[32m[I 2022-02-09 02:27:55,775]\u001b[0m Trial 78 finished with value: 2.781694447063717 and parameters: {'x': 0.3321587464438598}. Best is trial 21 with value: 0.00031785238695438946.\u001b[0m\n",
      "\u001b[32m[I 2022-02-09 02:27:55,780]\u001b[0m Trial 79 finished with value: 1.03377065570704 and parameters: {'x': 3.0167451281943967}. Best is trial 21 with value: 0.00031785238695438946.\u001b[0m\n",
      "\u001b[32m[I 2022-02-09 02:27:55,785]\u001b[0m Trial 80 finished with value: 15.360104800247552 and parameters: {'x': 5.919196958593374}. Best is trial 21 with value: 0.00031785238695438946.\u001b[0m\n",
      "\u001b[32m[I 2022-02-09 02:27:55,790]\u001b[0m Trial 81 finished with value: 0.05163453396634953 and parameters: {'x': 1.7727676652270863}. Best is trial 21 with value: 0.00031785238695438946.\u001b[0m\n",
      "\u001b[32m[I 2022-02-09 02:27:55,796]\u001b[0m Trial 82 finished with value: 0.01355251100743349 and parameters: {'x': 2.1164152524690536}. Best is trial 21 with value: 0.00031785238695438946.\u001b[0m\n",
      "\u001b[32m[I 2022-02-09 02:27:55,802]\u001b[0m Trial 83 finished with value: 0.0035871371330989236 and parameters: {'x': 2.059892713522589}. Best is trial 21 with value: 0.00031785238695438946.\u001b[0m\n",
      "\u001b[32m[I 2022-02-09 02:27:55,807]\u001b[0m Trial 84 finished with value: 0.0661602773901267 and parameters: {'x': 2.257216401868401}. Best is trial 21 with value: 0.00031785238695438946.\u001b[0m\n",
      "\u001b[32m[I 2022-02-09 02:27:55,812]\u001b[0m Trial 85 finished with value: 2.169518627845319 and parameters: {'x': 3.47292858884785}. Best is trial 21 with value: 0.00031785238695438946.\u001b[0m\n",
      "\u001b[32m[I 2022-02-09 02:27:55,817]\u001b[0m Trial 86 finished with value: 0.7791988793774499 and parameters: {'x': 1.1172775751248585}. Best is trial 21 with value: 0.00031785238695438946.\u001b[0m\n",
      "\u001b[32m[I 2022-02-09 02:27:55,821]\u001b[0m Trial 87 finished with value: 0.7127897916272029 and parameters: {'x': 2.844268791101035}. Best is trial 21 with value: 0.00031785238695438946.\u001b[0m\n",
      "\u001b[32m[I 2022-02-09 02:27:55,826]\u001b[0m Trial 88 finished with value: 0.3612410424500011 and parameters: {'x': 1.39896668773686}. Best is trial 21 with value: 0.00031785238695438946.\u001b[0m\n",
      "\u001b[32m[I 2022-02-09 02:27:55,832]\u001b[0m Trial 89 finished with value: 2.2108498548013977 and parameters: {'x': 0.5131073156406352}. Best is trial 21 with value: 0.00031785238695438946.\u001b[0m\n",
      "\u001b[32m[I 2022-02-09 02:27:55,837]\u001b[0m Trial 90 finished with value: 9.212955283129699e-05 and parameters: {'x': 2.009598414078966}. Best is trial 90 with value: 9.212955283129699e-05.\u001b[0m\n",
      "\u001b[32m[I 2022-02-09 02:27:55,842]\u001b[0m Trial 91 finished with value: 0.0011144902385975264 and parameters: {'x': 2.0333839817666726}. Best is trial 90 with value: 9.212955283129699e-05.\u001b[0m\n",
      "\u001b[32m[I 2022-02-09 02:27:55,846]\u001b[0m Trial 92 finished with value: 4.054945063197314 and parameters: {'x': -0.013689415773275204}. Best is trial 90 with value: 9.212955283129699e-05.\u001b[0m\n",
      "\u001b[32m[I 2022-02-09 02:27:55,850]\u001b[0m Trial 93 finished with value: 0.3658695057966587 and parameters: {'x': 2.60487147874293}. Best is trial 90 with value: 9.212955283129699e-05.\u001b[0m\n",
      "\u001b[32m[I 2022-02-09 02:27:55,855]\u001b[0m Trial 94 finished with value: 7.808966133990079 and parameters: {'x': -0.7944527432021604}. Best is trial 90 with value: 9.212955283129699e-05.\u001b[0m\n",
      "\u001b[32m[I 2022-02-09 02:27:55,860]\u001b[0m Trial 95 finished with value: 3.608743304453263 and parameters: {'x': 3.899669261859354}. Best is trial 90 with value: 9.212955283129699e-05.\u001b[0m\n",
      "\u001b[32m[I 2022-02-09 02:27:55,866]\u001b[0m Trial 96 finished with value: 0.3891905057847483 and parameters: {'x': 1.3761486508912975}. Best is trial 90 with value: 9.212955283129699e-05.\u001b[0m\n",
      "\u001b[32m[I 2022-02-09 02:27:55,871]\u001b[0m Trial 97 finished with value: 0.004285135328864446 and parameters: {'x': 2.0654609450654697}. Best is trial 90 with value: 9.212955283129699e-05.\u001b[0m\n",
      "\u001b[32m[I 2022-02-09 02:27:55,876]\u001b[0m Trial 98 finished with value: 1.7934613377743096 and parameters: {'x': 3.3392017539468464}. Best is trial 90 with value: 9.212955283129699e-05.\u001b[0m\n",
      "\u001b[32m[I 2022-02-09 02:27:55,880]\u001b[0m Trial 99 finished with value: 0.41793765347372563 and parameters: {'x': 2.6464809768846456}. Best is trial 90 with value: 9.212955283129699e-05.\u001b[0m\n"
     ]
    },
    {
     "data": {
      "text/plain": [
       "{'x': 2.009598414078966}"
      ]
     },
     "execution_count": 1,
     "metadata": {},
     "output_type": "execute_result"
    }
   ],
   "source": []
  },
  {
   "cell_type": "code",
   "execution_count": null,
   "metadata": {},
   "outputs": [],
   "source": []
  }
 ],
 "metadata": {
  "kernelspec": {
   "display_name": "Python 3 (ipykernel)",
   "language": "python",
   "name": "python3"
  },
  "language_info": {
   "codemirror_mode": {
    "name": "ipython",
    "version": 3
   },
   "file_extension": ".py",
   "mimetype": "text/x-python",
   "name": "python",
   "nbconvert_exporter": "python",
   "pygments_lexer": "ipython3",
   "version": "3.10.6"
  }
 },
 "nbformat": 4,
 "nbformat_minor": 4
}
