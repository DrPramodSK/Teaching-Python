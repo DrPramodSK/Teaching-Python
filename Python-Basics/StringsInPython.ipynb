{
  "nbformat": 4,
  "nbformat_minor": 0,
  "metadata": {
    "colab": {
      "provenance": []
    },
    "kernelspec": {
      "name": "python3",
      "display_name": "Python 3"
    },
    "language_info": {
      "name": "python"
    }
  },
  "cells": [
    {
      "cell_type": "code",
      "execution_count": null,
      "metadata": {
        "id": "6vw-iX6AscGI"
      },
      "outputs": [],
      "source": [
        " "
      ]
    },
    {
      "cell_type": "markdown",
      "source": [
        "## Strings\n",
        "Strings are generally non numericall datatypes that are used to store variables like \"Names\" , \"Address\" \"Symbols\" etc\n",
        "\n",
        "\n",
        "For Eg:\n",
        "\n",
        "`a = \"Hello\"`"
      ],
      "metadata": {
        "id": "XOym20Crsp4m"
      }
    },
    {
      "cell_type": "markdown",
      "source": [
        "### How does \"+\" operator differs from numerical to string operation \n",
        "\n",
        "\n",
        "For Eg :\n",
        "\n",
        "```\n",
        "a = 10\n",
        "b = \"10\"\n",
        "```\n",
        "\n",
        "What will be the result below for all three scenarios \n",
        "\n",
        "scenario - 1 : Number + Number \n",
        "\n",
        "```\n",
        "c = 5\n",
        "print(a+c) \n",
        "```\n",
        "\n",
        "scenario - 2 : String + String\n",
        "\n",
        "```\n",
        "c = \"5\"\n",
        "print(b+c) \n",
        "```\n",
        "\n",
        "Scenaio - 3 : NUmber + string \n",
        "```\n",
        "f = 5\n",
        "print(\"b\" + f)\n",
        "```"
      ],
      "metadata": {
        "id": "8TYcr_B9s5A1"
      }
    },
    {
      "cell_type": "code",
      "source": [
        "### Scenario 1\n",
        "a = 10\n",
        "b = \"10\"\n",
        "c = 5\n",
        "print(a+c) \n"
      ],
      "metadata": {
        "colab": {
          "base_uri": "https://localhost:8080/"
        },
        "id": "Rs25s9eEszrj",
        "outputId": "2aa664b1-4f12-4deb-b2d9-bf80e65ea85b"
      },
      "execution_count": null,
      "outputs": [
        {
          "output_type": "stream",
          "name": "stdout",
          "text": [
            "15\n"
          ]
        }
      ]
    },
    {
      "cell_type": "code",
      "source": [
        "## scenario 2 \n",
        "c = \"5\"\n",
        "print(b+c) "
      ],
      "metadata": {
        "colab": {
          "base_uri": "https://localhost:8080/"
        },
        "id": "UYYk865ttqEm",
        "outputId": "e11bf22c-749f-44f5-e7bb-8d07b58f550c"
      },
      "execution_count": null,
      "outputs": [
        {
          "output_type": "stream",
          "name": "stdout",
          "text": [
            "105\n"
          ]
        }
      ]
    },
    {
      "cell_type": "code",
      "source": [
        "## Scenario3 \n",
        "f = 5\n",
        "print(\"b\" + f)"
      ],
      "metadata": {
        "colab": {
          "base_uri": "https://localhost:8080/",
          "height": 200
        },
        "id": "76PGtOGwtuhY",
        "outputId": "a7eb6065-471c-448d-8347-595686c31369"
      },
      "execution_count": null,
      "outputs": [
        {
          "output_type": "error",
          "ename": "TypeError",
          "evalue": "ignored",
          "traceback": [
            "\u001b[0;31m---------------------------------------------------------------------------\u001b[0m",
            "\u001b[0;31mTypeError\u001b[0m                                 Traceback (most recent call last)",
            "\u001b[0;32m<ipython-input-3-e5887fccf7ae>\u001b[0m in \u001b[0;36m<module>\u001b[0;34m\u001b[0m\n\u001b[1;32m      1\u001b[0m \u001b[0;31m## Scenario3\u001b[0m\u001b[0;34m\u001b[0m\u001b[0;34m\u001b[0m\u001b[0;34m\u001b[0m\u001b[0m\n\u001b[1;32m      2\u001b[0m \u001b[0mf\u001b[0m \u001b[0;34m=\u001b[0m \u001b[0;36m5\u001b[0m\u001b[0;34m\u001b[0m\u001b[0;34m\u001b[0m\u001b[0m\n\u001b[0;32m----> 3\u001b[0;31m \u001b[0mprint\u001b[0m\u001b[0;34m(\u001b[0m\u001b[0;34m\"b\"\u001b[0m \u001b[0;34m+\u001b[0m \u001b[0mf\u001b[0m\u001b[0;34m)\u001b[0m\u001b[0;34m\u001b[0m\u001b[0;34m\u001b[0m\u001b[0m\n\u001b[0m",
            "\u001b[0;31mTypeError\u001b[0m: can only concatenate str (not \"int\") to str"
          ]
        }
      ]
    },
    {
      "cell_type": "markdown",
      "source": [
        "## Note about String addition\n",
        "\n",
        "When two strings are added, string `concatenation` takes place. String concatenation is joining of two strings with each other. \n",
        "For Eg:\n",
        "`\"Hello\" + \"World\"` will yield \"HelloWorld\"\n",
        "\n",
        "\n",
        "Note: You can concatenate (\"+\") only a string with a string , not a string with a number "
      ],
      "metadata": {
        "id": "YrjH5ICut_et"
      }
    },
    {
      "cell_type": "code",
      "source": [],
      "metadata": {
        "id": "CRsVjTGYuOP5"
      },
      "execution_count": null,
      "outputs": []
    },
    {
      "cell_type": "markdown",
      "source": [
        "## Excerise - 1 \n",
        "--- \n",
        "\n",
        "### Print Hello user \n",
        "\n",
        "The objective is to write a function named hello(), which accepts the name of the user as input argument and it returns the string as \"Hello <username>\"\n",
        "\n",
        "for eg :     \n",
        "```\n",
        "k = hello(\"Magnus\") \n",
        "print(k)\n",
        "```\n",
        "should print output as \n",
        "```\n",
        "Hello Magnus\n",
        "```\n"
      ],
      "metadata": {
        "id": "etwl93yVuepo"
      }
    },
    {
      "cell_type": "code",
      "source": [
        "#@title Solution - Excersise 1\n",
        "def Hello(name):\n",
        "  # a = \"Hello \"\n",
        "  # b= name\n",
        "  ## return a +b\n",
        "\n",
        "  return \"Hello \" + name"
      ],
      "metadata": {
        "id": "9PRKR07ju6dt",
        "cellView": "form"
      },
      "execution_count": null,
      "outputs": []
    },
    {
      "cell_type": "markdown",
      "source": [
        "## Exercise 2\n",
        "---\n",
        "\n",
        "### Print user name with their age \n",
        "\n",
        "Define a function `HelloAge`\n",
        "- Input Arguments to the functions \n",
        "  - name of the user \n",
        "  - age of the user \n",
        "- Return \n",
        "   The method should return the final string\n",
        "- Output \n",
        "For Eg : `HelloAge(\"Magnus\",20)` should provide output as `Hi Magnus, your age is 20`"
      ],
      "metadata": {
        "id": "jGr4WUASxrAB"
      }
    },
    {
      "cell_type": "code",
      "source": [
        "#@title Solution - Problem 2\n",
        "def HelloAge(name,age):\n",
        "  return \"Hello \" + name + \", your age is \" + str(age)\n",
        "\n",
        "HelloAge(\"Magnus\", 5)"
      ],
      "metadata": {
        "colab": {
          "base_uri": "https://localhost:8080/",
          "height": 35
        },
        "id": "oyme8D9k1hqv",
        "outputId": "2f2bc119-e9ff-4cb1-b0dc-62a2c0ce6e08",
        "cellView": "form"
      },
      "execution_count": null,
      "outputs": [
        {
          "output_type": "execute_result",
          "data": {
            "text/plain": [
              "'Hello Magnus, your age is 5'"
            ],
            "application/vnd.google.colaboratory.intrinsic+json": {
              "type": "string"
            }
          },
          "metadata": {},
          "execution_count": 59
        }
      ]
    },
    {
      "cell_type": "markdown",
      "source": [
        "### Concatenation of String with numbers \n",
        "---\n",
        "\n",
        "\n",
        "If we have to concatenate a non string type ( such as numbers to a string ) then we should typecast ( convert ) the variable into a string and then append it. \n",
        "\n",
        "\n",
        "### Type casting ( Converting datatype )\n",
        "\n",
        "Typecasting is just changing the datatype of the given variable to another data type \n",
        "\n",
        "For Eg: If we need to change a number to string \n",
        "```\n",
        "a = 10\n",
        "```\n",
        "\n",
        "now \n",
        "\n",
        "```\n",
        "a= str(a)\n",
        "```\n",
        "\n",
        "will change the value of a to a string . i.e \n",
        "```\n",
        "a = \"10\"\n",
        "```\n",
        "\n",
        "--- \n",
        "---\n",
        "\n",
        "Similarly we can typecast  a string to number, given it is a proper numerical value. \n",
        "\n",
        "```\n",
        "k = \"1980\"\n",
        "```\n",
        "\n",
        "now we can typecast it back to number by using \n",
        "```\n",
        "j = int(k)\n",
        "```\n",
        "\n",
        "now, j will be a numerical datatype , So we can check that by adding another number to it\n",
        "```\n",
        ">>> print(j+4)\n",
        "    1984\n",
        "```\n",
        "\n",
        "\n",
        "\n",
        "#### Note :\n",
        "Only strings with proper numerical values can be typecasted into a int or float. \n",
        "\n",
        "For eg : ` b = int(\"1875\") ` is a valid conversion. However , `k = int(\"sdfsdfsd\")` is not a valid conversion and it will throw error"
      ],
      "metadata": {
        "id": "FzXJdwiDyLNO"
      }
    },
    {
      "cell_type": "code",
      "source": [
        "## String to int\n",
        "a = \"1776\"\n",
        "b = int(a) + 100\n",
        "print(b)"
      ],
      "metadata": {
        "colab": {
          "base_uri": "https://localhost:8080/"
        },
        "id": "L-uj5TQexS9u",
        "outputId": "231ff2ec-5424-4902-9ef0-beee4b01113d"
      },
      "execution_count": null,
      "outputs": [
        {
          "output_type": "stream",
          "name": "stdout",
          "text": [
            "1876\n"
          ]
        }
      ]
    },
    {
      "cell_type": "code",
      "source": [
        "### int to string\n",
        "a = 1900\n",
        "b = str(a)\n",
        "c = \"Hello \"\n",
        "print( c  + b)\n",
        "\n"
      ],
      "metadata": {
        "colab": {
          "base_uri": "https://localhost:8080/"
        },
        "id": "c6fdd7xYzSL4",
        "outputId": "39b7ea38-e179-4323-ef57-4e8499371a20"
      },
      "execution_count": null,
      "outputs": [
        {
          "output_type": "stream",
          "name": "stdout",
          "text": [
            "Hello 1900\n"
          ]
        }
      ]
    },
    {
      "cell_type": "code",
      "source": [
        "### String to int, invalid conversion \n",
        "a = \"sdfsdfsdF\"\n",
        "b = int(a)\n",
        "print(b)"
      ],
      "metadata": {
        "colab": {
          "base_uri": "https://localhost:8080/",
          "height": 218
        },
        "id": "PWgKDX2KzSxm",
        "outputId": "45f02d8d-0941-438c-85f2-63b4be2c93d6"
      },
      "execution_count": null,
      "outputs": [
        {
          "output_type": "error",
          "ename": "ValueError",
          "evalue": "ignored",
          "traceback": [
            "\u001b[0;31m---------------------------------------------------------------------------\u001b[0m",
            "\u001b[0;31mValueError\u001b[0m                                Traceback (most recent call last)",
            "\u001b[0;32m<ipython-input-13-714dd36c5cb0>\u001b[0m in \u001b[0;36m<module>\u001b[0;34m\u001b[0m\n\u001b[1;32m      1\u001b[0m \u001b[0;31m### String to int, invalid conversion\u001b[0m\u001b[0;34m\u001b[0m\u001b[0;34m\u001b[0m\u001b[0;34m\u001b[0m\u001b[0m\n\u001b[1;32m      2\u001b[0m \u001b[0ma\u001b[0m \u001b[0;34m=\u001b[0m \u001b[0;34m\"sdfsdfsdF\"\u001b[0m\u001b[0;34m\u001b[0m\u001b[0;34m\u001b[0m\u001b[0m\n\u001b[0;32m----> 3\u001b[0;31m \u001b[0mb\u001b[0m \u001b[0;34m=\u001b[0m \u001b[0mint\u001b[0m\u001b[0;34m(\u001b[0m\u001b[0ma\u001b[0m\u001b[0;34m)\u001b[0m\u001b[0;34m\u001b[0m\u001b[0;34m\u001b[0m\u001b[0m\n\u001b[0m\u001b[1;32m      4\u001b[0m \u001b[0mprint\u001b[0m\u001b[0;34m(\u001b[0m\u001b[0mb\u001b[0m\u001b[0;34m)\u001b[0m\u001b[0;34m\u001b[0m\u001b[0;34m\u001b[0m\u001b[0m\n",
            "\u001b[0;31mValueError\u001b[0m: invalid literal for int() with base 10: 'sdfsdfsdF'"
          ]
        }
      ]
    },
    {
      "cell_type": "code",
      "source": [
        "## String to a float \n",
        "a = \"10.20\"\n",
        "b = float(a)\n",
        "print(b+1.30)"
      ],
      "metadata": {
        "colab": {
          "base_uri": "https://localhost:8080/"
        },
        "id": "ZU36rI3o0mvh",
        "outputId": "4924cb7f-98db-44f7-da1e-bdda2e64667d"
      },
      "execution_count": null,
      "outputs": [
        {
          "output_type": "stream",
          "name": "stdout",
          "text": [
            "11.5\n"
          ]
        }
      ]
    },
    {
      "cell_type": "markdown",
      "source": [
        "With the above knowlegde lets correct the function below to produce proper output \n",
        "\n"
      ],
      "metadata": {
        "id": "kwh29Wda3EkA"
      }
    },
    {
      "cell_type": "code",
      "source": [
        "def HelloAge(name,age):\n",
        "  return \"Hello \" + name + \", your age is \" + age\n",
        "\n",
        "HelloAge(\"Magnus\", 5)"
      ],
      "metadata": {
        "id": "XJnurq_020VT"
      },
      "execution_count": null,
      "outputs": []
    },
    {
      "cell_type": "markdown",
      "source": [
        "I have two lists ,one with all piece names and another with all points \n",
        "\n",
        "piece = [\"Rook\",\"Pawn\",\"bishop\"]\n",
        "points = [5,1,3]\n",
        "\n",
        "\n",
        "write a function, which accepts these two lists as input arguments and then **print** the following \n",
        "\n",
        "```\n",
        "Rook is worth 5 Points \n",
        "Pawn is worth 1 Points\n",
        "Bishop is worth 3 points\n",
        "```\n",
        "\n",
        "\n",
        "## Hint\n",
        "\n",
        "Since we are going to work on two lists at once.\n",
        "So instead of using a forloop directly as `for p in piece` , use index based loop such as `for i in range(3):` and then use the indexes to access the value in every loop . Like `piece[i]`"
      ],
      "metadata": {
        "id": "ur0EbpFp3PB9"
      }
    },
    {
      "cell_type": "code",
      "source": [
        "#idk2\n",
        "piece = [\"Rook\",\"Pawn\",\"Bishop\"]\n",
        "points = [5,1,3]\n",
        "def Chess(piece,points):\n",
        "   for i in range(len(points)):\n",
        "      a = piece[i]\n",
        "      b = points[i]\n",
        "      print(str(a) + \" is worth \" + str(b) + \" Points\")"
      ],
      "metadata": {
        "id": "vbOJBhTwhmSl"
      },
      "execution_count": null,
      "outputs": []
    },
    {
      "cell_type": "code",
      "source": [
        "Chess(piece,points)"
      ],
      "metadata": {
        "id": "lVjyQyVYhQCw",
        "colab": {
          "base_uri": "https://localhost:8080/"
        },
        "outputId": "58fd5094-c6ca-49e7-b8b6-186426d105d2"
      },
      "execution_count": null,
      "outputs": [
        {
          "output_type": "stream",
          "name": "stdout",
          "text": [
            "Rook is worth 5 Points\n",
            "Pawn is worth 1 Points\n",
            "Bishop is worth 3 Points\n"
          ]
        }
      ]
    },
    {
      "cell_type": "markdown",
      "source": [
        "### What is the Problem in the above method ?\n",
        "\n",
        "1, We need to break out print statemens either by using a `,` or an concatenation `+` to substitute variables within our function \n",
        "2, Further, we need to typecast ( convert into another datatype) integer ( non string datatypes) into string before performing concatenation \n",
        "\n",
        "#### Variable Substitution \n",
        "\n",
        "Eg: \n",
        "\n",
        "```\n",
        "age=10\n",
        "## if i have to ptint your age is 10\n",
        "## then I need to substitute the value of the variable \"age\" into my print statement \n",
        "print(\"Your Age is \" , str(age))\n",
        "print(\"Your Age is \" + str(age))\n",
        "```\n",
        "\n",
        "\n",
        "What if we can write a single string , which can perform both of the following \n",
        "- Variable Substitution \n",
        "- Type Conversion \n",
        "\n",
        "\n",
        "So Thats where , Python FStrings are usefull \n",
        "---\n"
      ],
      "metadata": {
        "id": "ieIra7WBvwZv"
      }
    },
    {
      "cell_type": "markdown",
      "source": [
        "# F-Strings Python \n",
        "\n",
        "\n",
        "Fstrings in python are very similar to the normal strings , However we will just add an `f` before the delcaration of the string \n",
        "\n",
        "\n",
        "For Eg:\n",
        "```\n",
        "##Rather than declaring a simple string like \n",
        "### Name =  'Magnus'\n",
        "Name = f'Magnus'      ## Example of fstring\n",
        "```\n",
        "\n",
        "### How is this usefull ?\n",
        "\n",
        "Fstrings has a feature to substitute variables inside a string using a `{}`\n",
        ". So lets say if we have to substitute a variable called `name` in our string, then we can use \n",
        "\n",
        "#### Syntax  for variables substitution\n",
        "```\n",
        "f'normal String {variable} normal string'\n",
        "```\n",
        "```\n",
        "name = 'Magnus'\n",
        "print(f'Hello {name}')\n",
        "```\n",
        "\n",
        "\n",
        "#### How does variable substitution in fstring handle non string datatype \n",
        "\n",
        "\n",
        "Ans : It automatically typecasts any value into a string before substituting its value in our current string \n",
        "\n",
        "\n",
        "```\n",
        "name = 'Magnus'\n",
        "age = 10\n",
        "print(f'Hi {name}, Your age is {age}') \n",
        "```\n"
      ],
      "metadata": {
        "id": "XNPJD2gYwxHB"
      }
    },
    {
      "cell_type": "code",
      "source": [
        "name = 'Magnus'\n",
        "age = 10\n",
        "print(f'Hi {name}, Your age is {age}') "
      ],
      "metadata": {
        "colab": {
          "base_uri": "https://localhost:8080/"
        },
        "id": "3IfRNnQEvur3",
        "outputId": "1bb41b1a-ea4d-4cce-9287-139a1132e7e3"
      },
      "execution_count": null,
      "outputs": [
        {
          "output_type": "stream",
          "name": "stdout",
          "text": [
            "Hi Magnus, Your age is 10\n"
          ]
        }
      ]
    },
    {
      "cell_type": "markdown",
      "source": [
        "### Excersise 3 /\n",
        "### Repeat excersise-2 using fstrings\n",
        "\n"
      ],
      "metadata": {
        "id": "37IUJaAcyVdo"
      }
    },
    {
      "cell_type": "code",
      "source": [
        "a = \"LOL\"\n",
        "b = 23\n",
        "\n",
        "print(f'My ID is {a} and I like {b}')"
      ],
      "metadata": {
        "id": "mqre9tZSdxzc",
        "colab": {
          "base_uri": "https://localhost:8080/"
        },
        "outputId": "b6aab9ee-dcbb-42b3-9e31-eb4e78c22966"
      },
      "execution_count": null,
      "outputs": [
        {
          "output_type": "stream",
          "name": "stdout",
          "text": [
            "My ID is LOL and I like 23\n"
          ]
        }
      ]
    },
    {
      "cell_type": "code",
      "source": [
        "piece = [\"Rook\",\"Pawn\",\"Bishop\"]\n",
        "points = [5,1,3]\n",
        "def Chess(piece,points):\n",
        "   for i in range(len(points)):\n",
        "      a = piece[i]\n",
        "      b = points[i]\n",
        "      print(f'{a} is worth {b} Points')"
      ],
      "metadata": {
        "id": "u1eGY8VGesWu"
      },
      "execution_count": null,
      "outputs": []
    },
    {
      "cell_type": "code",
      "source": [
        "Chess(piece,points)"
      ],
      "metadata": {
        "colab": {
          "base_uri": "https://localhost:8080/"
        },
        "id": "mTxZO9ATzO4_",
        "outputId": "a8ffa095-71c6-44ec-9eea-884e9aa5438c"
      },
      "execution_count": null,
      "outputs": [
        {
          "output_type": "stream",
          "name": "stdout",
          "text": [
            "Rook is worth 5 Points\n",
            "Pawn is worth 1 Points\n",
            "Bishop is worth 3 Points\n"
          ]
        }
      ]
    },
    {
      "cell_type": "markdown",
      "source": [
        "### Additional functionalities available in fstrings \n",
        "\n",
        "1. Variable printing with variable name \n",
        "\n",
        "For Eg : in the previous code, if we have to print what is the value of a and b aat every iteration, then we might need to write a code similar to below \n",
        "\n",
        "```\n",
        "for i in range(len(points)):\n",
        "      a = piece[i]\n",
        "      b = points[i]\n",
        "      print(f'At Iteration i = {i}, a = {a} , b = {b}')\n",
        "```"
      ],
      "metadata": {
        "id": "nF0GNmzZzY4p"
      }
    },
    {
      "cell_type": "code",
      "source": [
        "piece = [\"Rook\",\"Pawn\",\"Bishop\"]\n",
        "points = [5,1,3]\n",
        "for i in range(len(points)):\n",
        "      a = piece[i]\n",
        "      b = points[i]\n",
        "      print(f'At Iteration i = {i}, a = {a} , b = {b}')"
      ],
      "metadata": {
        "id": "650FmSwYzX3h",
        "colab": {
          "base_uri": "https://localhost:8080/"
        },
        "outputId": "89e7b3af-28c5-46b8-a060-7b968c23d0b4"
      },
      "execution_count": null,
      "outputs": [
        {
          "output_type": "stream",
          "name": "stdout",
          "text": [
            "At Iteration i = 0, a = Rook , b = 5\n",
            "At Iteration i = 1, a = Pawn , b = 1\n",
            "At Iteration i = 2, a = Bishop , b = 3\n"
          ]
        }
      ]
    },
    {
      "cell_type": "markdown",
      "source": [
        "Instread of the above, we can just use `=` operator within fstring variable substitution so that python can automatically print those variables with their variable name \n",
        "\n",
        "#### Syntax :\n",
        "`f'{varName=}'`\n",
        "\n",
        "Eg:\n",
        "\n",
        "if we need to print `a=10`  in the code below, then we can just use \n",
        "```\n",
        "a = 10\n",
        "print(f'{a=}')\n",
        "```\n",
        "\n",
        "Output\n",
        "```\n",
        "a=10\n",
        "```"
      ],
      "metadata": {
        "id": "Gj29ks520p3S"
      }
    },
    {
      "cell_type": "markdown",
      "source": [
        "### String Formatting \n",
        "---\n",
        "\n",
        "printing the st"
      ],
      "metadata": {
        "id": "ZEhfg9M42EgW"
      }
    },
    {
      "cell_type": "code",
      "source": [
        "10/3\n"
      ],
      "metadata": {
        "colab": {
          "base_uri": "https://localhost:8080/"
        },
        "id": "crEixSfp0ljs",
        "outputId": "4ac3df17-2d72-48bf-dadf-c619273af5e7"
      },
      "execution_count": null,
      "outputs": [
        {
          "output_type": "execute_result",
          "data": {
            "text/plain": [
              "3.3333333333333335"
            ]
          },
          "metadata": {},
          "execution_count": 1
        }
      ]
    },
    {
      "cell_type": "markdown",
      "source": [
        "### How can I print a floating point number with fixed precision \n",
        "This can be done using a command called as `format`\n",
        "\n",
        "For Eg :\n",
        "\n",
        "\n",
        "```\n",
        "a = 10/3  ## full precision\n",
        "a_2decimal = \"{:.2f}\".format(a)\n",
        "```"
      ],
      "metadata": {
        "id": "6QBKEr7T8wvU"
      }
    },
    {
      "cell_type": "code",
      "source": [
        "a = 10/3  ## full precision\n",
        "a_2decimal = \"{:.2f}\".format(a)\n",
        "print(a_2decimal)\n",
        "\n",
        "\n"
      ],
      "metadata": {
        "colab": {
          "base_uri": "https://localhost:8080/"
        },
        "id": "WloJUlZG10s9",
        "outputId": "b2a082fb-10e2-49be-9c1e-362d142b6eb7"
      },
      "execution_count": null,
      "outputs": [
        {
          "output_type": "stream",
          "name": "stdout",
          "text": [
            "3.33\n"
          ]
        }
      ]
    },
    {
      "cell_type": "markdown",
      "source": [
        "The way in which the formater works is described as \n",
        "`\"{:k.pf}\".format(3.3333333333333)`\n",
        "\n",
        "- k :  How much space should I reserve for this string \n",
        "- pf : The decimal point precision \\"
      ],
      "metadata": {
        "id": "_fIjo5hu9NbQ"
      }
    },
    {
      "cell_type": "code",
      "source": [
        "print(\"{:7.3f}\".format(a))"
      ],
      "metadata": {
        "id": "QjH5y5qg14UE",
        "colab": {
          "base_uri": "https://localhost:8080/"
        },
        "outputId": "bbcffbc0-662f-4a8e-94cc-096c5c0f390d"
      },
      "execution_count": null,
      "outputs": [
        {
          "output_type": "stream",
          "name": "stdout",
          "text": [
            "  3.333\n"
          ]
        }
      ]
    },
    {
      "cell_type": "markdown",
      "source": [
        "## Repeat Strings \n",
        "--- \n",
        "\n",
        "Similar to addition of Strings ( Concatensation ) , we can also perform repetiion of charecters using the `*` operator with the string \n",
        "\n",
        "```\n",
        "a = \"*\"\n",
        "b = a*5\n",
        "print(b)\n",
        "```\n",
        "will result in \n",
        "```\n",
        "*****\n",
        "```"
      ],
      "metadata": {
        "id": "Fu2Q2IyuI8G8"
      }
    },
    {
      "cell_type": "markdown",
      "source": [
        "### Excersie - 4\n",
        "---\n",
        "\n",
        "So you have Two lists \n",
        "- list 1 is names of Students \n",
        "- List 2 is Marks of Students\n",
        "\n",
        "```\n",
        "names = [\"Alex\",\"Magnus\",\"Studentwithlongname1\" ,\"Studentwithlonngname2\"]\n",
        "Marks = [96.321456997874,99.999999999,87.7564756,56.978954563453]\n",
        "```\n",
        "\n",
        "\n",
        "Use , forloops string formatting to generate the output below\n",
        "```\n",
        "S.No   |  Names                  | Marks   |\n",
        "--------------------------------------------\n",
        "0      |  Alex                   |   96.32 |\n",
        "1      |  Magnus                 |  100.00 |\n",
        "2      |  Studentwithlongname1   |   87.76 |\n",
        "3      |  Studentwithlonngname2  |   56.98 |\n",
        "--------------------------------------------\n",
        "       |  Average                |   85.26 |\n",
        "       |  Max                    |  100.00 |\n",
        "       |  Min                    |   56.98 |\n",
        "```\n",
        "\n",
        "\n",
        "\n"
      ],
      "metadata": {
        "id": "qF6CKvzI_HHv"
      }
    },
    {
      "cell_type": "code",
      "source": [
        "#@title Solution - Problem 4\n",
        "### A function to print a Matrix of marks\n",
        "\n",
        "def MatrixOfMarks(names, marks):\n",
        "  ## Here we need to compute maximum length in the name String \n",
        "  b=[]\n",
        "  for i in names:\n",
        "    b.append(len(i))\n",
        "  MaximumLength = max(b)\n",
        "  def printline():\n",
        "    print(\"-\" * (7+1+MaximumLength+4+11))\n",
        "\n",
        "  print(\"{:7}\".format(\"S.No\")+\"|\"+\"{:{len}}\".format(\"  Names\",len=MaximumLength+4)+\"|\"+\"{:8}\".format(\" Marks\")+\" |\")\n",
        "  printline()\n",
        "  \n",
        "  for index,(nams, maks) in enumerate(zip(Names,Marks)):\n",
        "    print(\"{:7}\".format(f\"{index}\")+\"|\"+\"{:{len}}\".format( f\"  {nams}\",len=MaximumLength+4)+\"|\"+  \"{:8.2f}\".format(maks)+\" |\")\n",
        "  \n",
        "  printline()\n",
        "\n",
        "  ## Compute Average of marks\n",
        "  Average = sum(marks)/len(marks)\n",
        "  Maximum = max(marks)\n",
        "  Minimum = min(marks)\n",
        "  print(\"{:7}\".format(\"\")+\"|\"+\"{:{len}}\".format(\"  Average\",len=MaximumLength+4)+\"|\"+  \"{:8.2f}\".format(Average)+\" |\")\n",
        "  print(\"{:7}\".format(\"\")+\"|\"+\"{:{len}}\".format(\"  Max\",len=MaximumLength+4)+\"|\"+  \"{:8.2f}\".format(Maximum)+\" |\")\n",
        "  print(\"{:7}\".format(\"\")+\"|\"+\"{:{len}}\".format(\"  Min\",len=MaximumLength+4)+\"|\"+  \"{:8.2f}\".format(Minimum)+\" |\")\n",
        "\n",
        "\n",
        "Names = [\"Alex\",\"Magnus\",\"Studentwithlongname1\" ,\"Studentwithlonngname2\"]\n",
        "Marks = [96.321456997874,99.999999999,87.7564756,56.978954563453]\n",
        "MatrixOfMarks(Names, Marks)"
      ],
      "metadata": {
        "cellView": "form",
        "id": "aN2obqkDzJB7"
      },
      "execution_count": null,
      "outputs": []
    },
    {
      "cell_type": "markdown",
      "source": [
        "### Excersise 5:\n",
        "---\n",
        "\n",
        "Write a Student class , with the following details \n",
        "- Should have a constructor , which should accept `(studentName,Marks)`\n",
        "   Student(\"Magnus\",99.8757)\n",
        "inside constructor, Append (add) the name to a List called as `names` within the class\n",
        "Append the marks to the Marks List \n",
        "You need to have one more list which is for S.No, and you should assign serial numbers accordingly to students in which they were added\n",
        "\n",
        "\n",
        "- This class should have a function called as `print_summary()` , which will print the output identical as the previous excersise."
      ],
      "metadata": {
        "id": "PijD9luizVlG"
      }
    },
    {
      "cell_type": "code",
      "source": [
        "Names = [\"Alex\",\"Magnus\",\"Studentwithlongname1\" ,\"Studentwithlonngname2\"]\n",
        "Marks = [96.321456997874,99.999999999,87.7564756,56.978954563453]\n",
        "\n",
        " \n",
        "\n",
        "\n",
        "\n",
        "def printOperation2(w,h):\n",
        "  for k in range(h):\n",
        "    for i in range(w):\n",
        "      print('-',end='')\n",
        "    print('')\n",
        "\n",
        "\n",
        "\n",
        "def printOperation3():\n",
        "  for i in range(len(Marks)):\n",
        "    a = Names[i]\n",
        "    a += 1\n",
        "    b = Marks[i]\n",
        "    b += 1\n",
        "    if a and b < i == \"Studentwithlonngname2\":\n",
        "      break\n",
        "    else:\n",
        "      continue\n",
        "    c = [1,2,3,4]\n",
        "    for k in range(len(c)):\n",
        "      c = c[k]\n",
        "      c += 1\n",
        "    if c < k == \"56.978954563453\":\n",
        "      break\n",
        "    else:\n",
        "      continue\n",
        "      return(\"{:7}\".format(\"{c}\")+\"|\"+\"{:28}\".format(\"  {a}\")+\"|\"+\"{:7}\".format(\" {b}\")+\"|\")\n",
        "\n",
        "\n",
        "\n",
        "def printOperation4(w,h):\n",
        "  for k in range(h):\n",
        "    for i in range(w):\n",
        "      print('-',end='')\n",
        "    print('')\n",
        "class MaxMinAverage:\n",
        "  mark1 = Names\n",
        "  mark2 = Marks\n",
        "  MARK = []\n",
        "  \n",
        "  def __init__(self,mark1,mark2,):\n",
        "    self.mark1 = mark1\n",
        "    self.mark2 = mark2\n",
        "    self.MARK.append(self.mark1)\n",
        "    self.MARK.append(self.mark2)\n",
        "    \n",
        "  def getTotalMark(self):\n",
        "    a = self.mark1 + self.mark2 \n",
        "    return a\n",
        "\n",
        "  def Average(self):\n",
        "    a = self.mark1 + self.mark2 \n",
        "    return a/2\n",
        "\n",
        "  def MaxMark(self):\n",
        "    maxMark = 0\n",
        "\n",
        "    for a in self.MARK:\n",
        "      if a > maxMark:\n",
        "        maxMark = a\n",
        "    \n",
        "    return maxMark\n",
        "  \n",
        "  def MinimumMark(self):\n",
        "    minMark = 999999999\n",
        "  \n",
        "    for b in self.MARK:\n",
        "      if b < minMark:\n",
        "          minMark = b\n",
        "\n",
        "    return minMark\n",
        "\n",
        "  "
      ],
      "metadata": {
        "id": "xPI8NJ6-rmBG"
      },
      "execution_count": null,
      "outputs": []
    }
  ]
}