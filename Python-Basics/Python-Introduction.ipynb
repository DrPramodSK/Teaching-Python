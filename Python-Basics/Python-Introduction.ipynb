{
 "cells": [
  {
   "cell_type": "markdown",
   "metadata": {},
   "source": [
    "<link rel=\"preconnect\" href=\"https://fonts.googleapis.com\">\n",
    "<link rel=\"preconnect\" href=\"https://fonts.gstatic.com\" crossorigin>\n",
    "<link href=\"https://fonts.googleapis.com/css2?family=Nunito+Sans&family=Quicksand&display=swap\" rel=\"stylesheet\">\n",
    "\n",
    "<div display=\"flex\" align=\"center\" justify-content=\"center\" width=\"100%\">\n",
    "\n",
    "<img height=80 src=\"https://drive.google.com/uc?id=13kMLUyF9yPOsfMB782I1wk-_pYNiyxkI\"> </img>\n",
    "</div>\n",
    "\n",
    "<div style=\"font-family: 'Nunito Sans', sans-serif;\">\n",
    "    \n",
    "# **Introduction to Python**\n",
    "---\n",
    "    \n",
    "</div> \n",
    "\n",
    "<div  style=\"font-size: 22px; color:black; font-family: 'Quicksand', sans-serif;font-weight:500\">\n",
    "\n",
    "Author : Thivin Anandh D \n",
    "\n",
    "\n",
    "</div>\n",
    "\n",
    "\n",
    "<div  style=\"font-size: 18px; color:black; font-family: 'Quicksand', sans-serif;font-weight:400\">\n",
    "<a href=\"https://www.linkedin.com/in/thivinanandh/\" > Linkedin <img src=\"data:image/png;base64,iVBORw0KGgoAAAANSUhEUgAAAEAAAABACAYAAACqaXHeAAAEiUlEQVR4nO2bTWhcVRTHf++9yaQTOhPTNNHUWGILrUWwBbGli1RjBcF0Y0FdFxRBXYoKLhQUFF25cKEVuxWpRsS4EEXqLNrgR1RcCSlG01g7qW0mqdPJfDwX555M3kzS96ZN8ybk/jfz3r3nzjtzz3/OOffcd8FiY8NpaHnVdwE2T2a7ASpepX2NdVpVJNorBYC5dw//Ky2Ov7TfXXuVWgtLGOA7AKmnskcBHIeXTUfPmmu1mvCZlg/eAigcH/xUOoQJlgF6kX72a/nPLyS/ND37Y9LpZmEcwC3xMMD8iUM5sAwgoRflopcCcFy2XWuAb3xo1Q84U1xHyOQ0xpVWQQ80RjXLgKiCavCtaRlycGdnoH/sbB6AC/kS0NJMCMAyIExALd+TaQPg7cd3AnBkX7dKAPDFL5JoPf/RBAAzc+uDCZYBYQLq7Q/syAAwvHcLAB3J4NwN3yPtJ7/PAfD5+AwAXotTYMMzwE5A3ArEjVAfoBnemQmJ86PG2x/Zt8VISP/or9Ku+YDb4v99hWVAmIAaUuP6Cx9LnD/5Qy4gd2Zi1siVA+OuF37DRVCf1YJlQFRBnflzlxcA+KSOAZ4rAgkvaKJKVUxYrbPkogJuUF7zjmRCbKP5ho6/UqwEvtdzb4wSlgFhAroWyKQ8AI4N9gXuFfmCWOZE9m8ALv8nvmBoTxcA9+++BahZeKEsnyM/CpMuGB/z4B6RG7pLPrd3y/K9VBH536auyLifZgL3KxAsFJYBYQI6s5mUiD53WApGt3cFtwvOXSoCNd9wcV4sOrhL6gYvDd8RkJ+/KozxDSPuHdgMwEN3C2M6kkGGKR7ZK6vQJw70AvDKyB/yXMMkv0kqWAbE9eD2Npn7ZwyjetNJIDzOa/fA1k0AvHZ0AIDJi1cBGDMZqxsxOlgGxPXgNpMv3JoRy2tcn74keYZmntu6pL/XyNXbdXu3MEF9wvjkPADllRKPOlgGxK3AQrkKwPFTkj98mD0P1KrLu25LAfDmYzsAuO/O9LLfs9+0d3bIT4pak7QMiFuB08ZrvzH6JwA5YzmtJWZ/F5/wzldTALx/bDfQWJPsMVGkPSHj1AOExQLLgLgVGDs7B9T+s/WrQ8+Y6Oe/JOfPF2SN0ZFMLivnNFkwsAyIW4GSiQIathtXAGLRYknkKhHje1RYBsStQFTcrCLzhmeAnYC4FYgbdgLiViBu2AmIW4G4YScgbgXiRuRMUHPw87OyPq8vump7LVcXAV29/ZOX/rLZ4dE9xDmzPxCW6DX//GjY8AxYnMfUk9/2Aziud9o09S8V1F3YnnRb4F6hM68VHa3KdpodpcwmWefVV2pmDUPyIUxo9vnLMGEKwK9WDgIUPhiaAsuA5n3AtHk/YCWoYRYtbHaJdbe4Hk6d/Go9PyosA/TCq3hFgKqLvvrRv9yAZmc4qoWj4rpfCDFnh/QU2eL33bBG6xyNp8ae/u5RAKfqvGgkrnmCZB0gB+A7/usAhfcOjUizPTUGBKKAzEihz/8MIJ375hTUzhKtORLtq1L+TVSLRYC5vgfsyVELi0b8D5e9dd8mda97AAAAAElFTkSuQmCC\" height=\"20px\" alt=\"LinkedIn\"/></a>\n",
    "<a href=\"https://github.com/thivinanandh\" > Github <img src=\"data:image/png;base64,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\" height=\"20px\" alt=\"LinkedIn\"/></a>\n",
    "\n",
    "For opening this notebook in google colab, please click on the button below.<br />\n",
    "<br />\n",
    "<a href=\"https://colab.research.google.com/github/thivinanandh/Teaching-Python/blob/main/Python-Basics/Python-Introduction.ipynb\" target=\"_parent\"><img src=\"https://colab.research.google.com/assets/colab-badge.svg\" alt=\"Open In Colab\"/></a>\n",
    "\n",
    "</div>\n"
   ]
  },
  {
   "cell_type": "markdown",
   "metadata": {},
   "source": [
    "### Python - An Overview\n",
    "---\n",
    "\n",
    "\n",
    "1. **Popularity:** Python consistently ranks among the top most loved languages in developer surveys, with 66.7% expressing a desire to continue working with it in 2020.\n",
    "\n",
    "2. **Origins:** Conceived in the late 80s by Guido van Rossum, Python is one of the older languages, known for its longevity and reliability.\n",
    "\n",
    "3. **Expressiveness:** Despite its quirky name inspired by Monty Python, Python is a highly expressive language, making it efficient and readable for a variety of applications.\n",
    "\n",
    "4. **Versatility:** While not primarily used for performance-intensive programming, Python is well-suited for applications like data science and web development, finding applications in healthcare, finance, VFX, and AI.\n",
    "\n",
    "5. **Beginner-Friendly:** Python is often considered an ideal language for beginners due to its use of English words, strict rules about whitespace, and concise code compared to other languages.\n",
    "\n",
    "6. **Usage Growth:** Python's usage has seen significant growth since its 1.0 release in 1991, surpassing other major languages in Stack Overflow question views since 2012.\n",
    "\n",
    "7. **Popularity Rankings:** TIOBE's 2021 index ranks Python as the third most popular language at 10.86%, gaining rapidly on C and Java.\n",
    "\n",
    "8. **Global Adoption:** Currently, 44% of developers and technologists worldwide are using Python for various programming tasks.\n",
    "\n",
    "Source :\n",
    "\n",
    "[https://stackoverflow.blog/2021/07/14/getting-started-with-python/](https://stackoverflow.blog/2021/07/14/getting-started-with-python/)"
   ]
  },
  {
   "cell_type": "markdown",
   "metadata": {},
   "source": [
    "## Compiled vs Interpreted Languages\n",
    "---\n",
    "\n",
    "In the realm of programming languages, a fundamental distinction is made between compiled and interpreted languages. This distinction refers to the way a program is executed and translated into machine code. Let's explore the key differences between these two approaches.\n",
    "\n",
    "\n",
    "### Compiled Languages - Definition\n",
    "\n",
    "Compiled languages undergo a separate compilation phase before execution. The entire source code is translated into machine code by a compiler, producing an executable file.\n",
    "\n",
    "### Characteristics\n",
    "\n",
    "- **Efficiency:** Generally, compiled languages are more efficient in terms of runtime performance.\n",
    "- **Distribution:** Executable files can be distributed without revealing the source code.\n",
    "- **Examples:** C, C++, Rust\n",
    "\n",
    "### Interpreted Languages\n",
    "\n",
    "## Definition\n",
    "\n",
    "Interpreted languages are executed line by line or statement by statement by an interpreter during runtime. The source code is not translated into machine code before execution.\n",
    "\n",
    "### Characteristics\n",
    "\n",
    "- **Portability:** Code can be run on any system with the corresponding interpreter.\n",
    "- **Debugging:** Easier to debug due to the ability to execute code interactively.\n",
    "- **Examples:** Python, JavaScript, Ruby\n",
    "\n",
    "## Examples\n",
    "\n",
    "### Compiled Language Example: C\n",
    "\n",
    "```c\n",
    "#include <stdio.h>\n",
    "\n",
    "int main() {\n",
    "    printf(\"Hello, World!\\n\");\n",
    "    return 0;\n",
    "}\n",
    "```\n",
    "\n",
    "\n",
    "### Interpreted Language Example: Python\n",
    "\n",
    "```python\n",
    "print(\"Hello, World!\")\n",
    "```\n",
    "\n"
   ]
  },
  {
   "cell_type": "markdown",
   "metadata": {},
   "source": [
    "## Is Python Compiled or Interpreted?\n",
    "---\n",
    "\n",
    "In general, python is considered an interpreted language. It depends upon the implementation of python. There are two well known implementations of python \n",
    "\n",
    "- CPython - Most commonly used implementation of python. It is written in C and is the default implementation of python. It is an interpreter.\n",
    "- PyPy    - It is a fast, compliant alternative implementation of python. It is written in RPython and is a just-in-time compiler.\n",
    "\n",
    "### CPython\n",
    "\n",
    "**Compilation/Interpretation:**\n",
    "- CPython is the default and most widely used implementation of Python.\n",
    "- It follows the traditional interpretation approach where Python source code is first translated into intermediate bytecode, and then the bytecode is executed by the Python interpreter.\n",
    "\n",
    "**Execution Model:**\n",
    "- The CPython interpreter executes Python code in a step-by-step manner, interpreting each line as it encounters it.\n",
    "- Dynamic typing and late binding are core features, providing flexibility but potentially impacting performance.\n",
    "\n",
    "**Performance:**\n",
    "- CPython's interpretation model and Global Interpreter Lock (GIL) can limit its performance, especially in scenarios involving CPU-bound tasks and parallel processing.\n",
    "- Extensions written in C can be used to improve performance in critical sections.\n",
    "\n",
    "### PyPy\n",
    "\n",
    "**Compilation/Interpretation:**\n",
    "- PyPy takes a different approach by utilizing a Just-In-Time (JIT) compiler.\n",
    "- It first translates Python source code into an intermediate representation (IR) and then dynamically compiles this IR into machine code at runtime.\n",
    "\n",
    "**Execution Model:**\n",
    "- PyPy's JIT compilation allows it to generate optimized machine code, potentially providing faster execution compared to CPython for certain workloads.\n",
    "- The JIT compilation adapts to the runtime behavior of the code, optimizing frequently executed paths.\n",
    "\n",
    "**Performance:**\n",
    "- PyPy is known for its improved performance, especially in scenarios involving computationally intensive tasks.\n",
    "- It effectively addresses some of the performance limitations associated with CPython's traditional interpretation model.\n",
    "\n",
    "**Key Differences:**\n",
    "- CPython's interpretation model can result in slower execution for CPU-bound tasks.\n",
    "- PyPy's JIT compilation offers performance improvements, making it a compelling choice for certain use cases.\n",
    "- CPython's wide adoption and extensive standard library make it suitable for various applications.\n",
    "- PyPy, while offering performance advantages, may have compatibility issues with certain CPython extensions.\n",
    "\n",
    "\n",
    "Additional information can be found here : [stack overflow](https://stackoverflow.com/questions/6889747/is-python-interpreted-or-compiled-or-both)\n",
    "\n",
    "\n",
    "#### Are you interested to check what your python implementation is ?\n",
    "\n",
    "\n",
    "Run the following code in your python enviroinment\n",
    "```python\n",
    "import platform\n",
    "print(platform.python_implementation())\n",
    "```"
   ]
  },
  {
   "cell_type": "markdown",
   "metadata": {},
   "source": [
    "## Basic introduction on Jupyter and Jupyter Notebooks\n",
    "---\n",
    "\n",
    "### Introduction to Jupyter Notebooks and Jupyter\n",
    "\n",
    "#### Jupyter Notebooks\n",
    "\n",
    "[Jupyter Notebooks](https://jupyter.org/) are interactive computing environments that allow the creation and sharing of live code, equations, visualizations, and narrative text. They are widely used in data science, machine learning, scientific research, and education.\n",
    "\n",
    "##### Key Features:\n",
    "\n",
    "1. **Interactive Code Cells:**\n",
    "   - Code is written and executed in cells, promoting an interactive and iterative workflow.\n",
    "   - Outputs are displayed below each code cell, allowing immediate feedback.\n",
    "\n",
    "2. **Markdown Cells:**\n",
    "   - Support for Markdown cells enables the creation of formatted text, headings, lists, and multimedia elements.\n",
    "   - Enables the integration of narrative explanations with code.\n",
    "\n",
    "3. **Rich Media Output:**\n",
    "   - Visualizations, charts, and graphs generated in code cells are displayed directly in the notebook.\n",
    "   - Supports various data visualization libraries.\n",
    "\n",
    "4. **Kernel Architecture:**\n",
    "   - Jupyter Notebooks support multiple programming languages through different kernels.\n",
    "   - Common kernels include Python, R, Julia, and more.\n",
    "\n",
    "5. **Export and Sharing:**\n",
    "   - Notebooks can be exported to various formats, such as HTML, PDF, or slideshows.\n",
    "   - Shareable via platforms like GitHub or JupyterHub.\n",
    "\n",
    "### Jupyter\n",
    "\n",
    "[Jupyter](https://jupyter.org/) is an open-source project that evolved from the IPython project. The name \"Jupyter\" is a combination of three core programming languages: **Ju**lia, **Py**thon, and **R**.\n",
    "\n",
    "#### Components:\n",
    "\n",
    "1. **Jupyter Notebook:**\n",
    "   - The interactive web application for creating and sharing documents that contain live code, equations, visualizations, and narrative text.\n",
    "\n",
    "2. **JupyterLab:**\n",
    "   - An extensible environment that provides an integrated interface for interactive computing, offering features beyond the classic notebook.\n",
    "\n",
    "3. **Jupyter Kernels:**\n",
    "   - Separate computational engines that execute the code contained in a notebook document.\n",
    "   - Allow the use of different programming languages within the same notebook.\n",
    "\n",
    "#### Use Cases:\n",
    "\n",
    "- **Data Exploration and Analysis:**\n",
    "  - Ideal for exploratory data analysis, visualizations, and statistical modeling.\n",
    "\n",
    "- **Machine Learning and AI:**\n",
    "  - Popular among data scientists and machine learning practitioners for prototyping and experimenting.\n",
    "\n",
    "- **Scientific Research:**\n",
    "  - Widely used in academia for conducting experiments, simulations, and collaborative research.\n",
    "\n",
    "- **Education:**\n",
    "  - Valuable for teaching programming, data science, and computational concepts interactively.\n",
    "\n",
    "Jupyter Notebooks have become a versatile tool in the data science and research communities, providing an effective way to combine code, visualization, and documentation in a single, shareable document.\n"
   ]
  },
  {
   "cell_type": "markdown",
   "metadata": {},
   "source": [
    "---\n",
    "\n",
    "---\n",
    "\n",
    "# First Python Program\n",
    "\n",
    "---\n",
    "\n",
    "---\n",
    "\n",
    "In this section, we will cover the basics of writing and running a simple Python program. We'll go through the process of setting up your development environment, writing a basic program, and running it to see the output.\n",
    "\n",
    "\n",
    "### Step 1: Setting up your development environment\n",
    "- Before writing Python code, you need to have Python installed on your machine.\n",
    "- You can download Python from [python.org](https://www.python.org/downloads/).\n",
    "- Additionally, you may want to use an Integrated Development Environment (IDE) like VS Code or PyCharm.\n",
    "\n",
    "### Step 2: Writing your first program\n",
    "- Once you have Python installed, you can write your first program.\n",
    "- Open your IDE and create a new file called `hello.py`.\n",
    "- Add the following code to the file and save it.\n",
    "\n",
    "```python\n",
    "print(\"Hello, World!\")\n",
    "```\n",
    "\n",
    "### Step 3: Running your program\n",
    "- Now that you have a Python program, you can run it to see the output.\n",
    "- Open a terminal window and navigate to the directory containing your `hello.py` file.\n",
    "- Run the following command to execute the program.\n",
    "\n",
    "```bash\n",
    "python hello.py\n",
    "```\n",
    "\n",
    "- You should see the following output in the terminal.\n",
    "\n",
    "```bash\n",
    "Hello, World!\n",
    "```\n",
    "\n",
    "\n",
    "###  Note:\n",
    "\n",
    "This notebook focusses more on exploring python using jupyter-lab enviroinments. For better understanding on how to install python and run python programs, please refer to the following link.\n",
    "[Python for Everybody](https://www.py4e.com/lessons)"
   ]
  },
  {
   "cell_type": "markdown",
   "metadata": {},
   "source": [
    "---\n",
    "\n",
    "---\n",
    "\n",
    "\n",
    "# Getting started with Jupyter Notebooks (Colab)\n",
    "\n",
    "---\n",
    "\n",
    "---\n",
    "\n",
    "\n",
    "### Print Statement\n",
    "\n",
    "to start with python, we can look into the `print` statement. the basic print statement is used to display information on the screen. It is a fundamental command for outputting text or variables to the console. Let's explore the basic usage of the print statement.\n"
   ]
  },
  {
   "cell_type": "code",
   "execution_count": 159,
   "metadata": {},
   "outputs": [
    {
     "name": "stdout",
     "output_type": "stream",
     "text": [
      "Hello, Python!\n",
      "Name: John\n",
      "Age: 25\n"
     ]
    }
   ],
   "source": [
    "# Basic print statement\n",
    "print(\"Hello, Python!\")\n",
    "\n",
    "# Printing variables\n",
    "name = \"John\"\n",
    "age = 25\n",
    "print(\"Name:\", name)\n",
    "print(\"Age:\", age)\n"
   ]
  },
  {
   "cell_type": "markdown",
   "metadata": {},
   "source": [
    "### Variables getting printed on notebooks\n",
    "\n",
    "In a Jupyter or Colab notebook, when you run a cell containing multiple print statements, only the result of the last statement will be displayed. This is important to keep in mind when organizing your code in cells. Further, this can be used for easy debugging of your code.\n",
    "\n",
    "\n"
   ]
  },
  {
   "cell_type": "code",
   "execution_count": 160,
   "metadata": {},
   "outputs": [
    {
     "data": {
      "text/plain": [
       "30"
      ]
     },
     "execution_count": 160,
     "metadata": {},
     "output_type": "execute_result"
    }
   ],
   "source": [
    "# Only the result of the last statement will be displayed\n",
    "x = 10\n",
    "y = 20\n",
    "z = x + y\n",
    "x  # This will not be displayed\n",
    "y  # This will not be displayed\n",
    "z  # Only the result of this statement will be displayed\n"
   ]
  },
  {
   "cell_type": "markdown",
   "metadata": {},
   "source": [
    "### Arithmetic Operations on the go\n",
    "\n",
    "Python supports various arithmetic operations that can be performed on numerical data. These operations include addition, subtraction, multiplication, division, and more. Let's explore some basic arithmetic operations and their usage.\n"
   ]
  },
  {
   "cell_type": "code",
   "execution_count": 161,
   "metadata": {},
   "outputs": [
    {
     "data": {
      "text/plain": [
       "8"
      ]
     },
     "execution_count": 161,
     "metadata": {},
     "output_type": "execute_result"
    }
   ],
   "source": [
    "# Addition\n",
    "5 + 3"
   ]
  },
  {
   "cell_type": "code",
   "execution_count": 162,
   "metadata": {},
   "outputs": [
    {
     "name": "stdout",
     "output_type": "stream",
     "text": [
      "6\n"
     ]
    }
   ],
   "source": [
    "print(10 - 4) # Subtraction with a print statement"
   ]
  },
  {
   "cell_type": "code",
   "execution_count": 163,
   "metadata": {},
   "outputs": [
    {
     "name": "stdout",
     "output_type": "stream",
     "text": [
      "The result of multiplication is: 12\n",
      "The result of division is: 5.0\n",
      "The result of floor division is: 3\n",
      "The result of modulus is: 1\n",
      "The result of exponentiation is: 8\n"
     ]
    }
   ],
   "source": [
    "# Multiplication\n",
    "result_multiplication = 6 * 2\n",
    "\n",
    "# we can add multiple print statements in a single line by separating them with a comma\n",
    "print(\"The result of multiplication is:\", result_multiplication)  # here we are printing the text and the result of multiplication in a single print statement\n",
    "\n",
    "# Division\n",
    "result_division = 10 / 2\n",
    "print(\"The result of division is:\", result_division)\n",
    "\n",
    "# Floor Division\n",
    "result_floor_division = 10 // 3\n",
    "print(\"The result of floor division is:\", result_floor_division)\n",
    "\n",
    "# Modulus\n",
    "result_modulus = 10 % 3\n",
    "print(\"The result of modulus is:\", result_modulus)\n",
    "\n",
    "# Exponentiation\n",
    "result_exponentiation = 2 ** 3\n",
    "print(\"The result of exponentiation is:\", result_exponentiation)\n"
   ]
  },
  {
   "cell_type": "markdown",
   "metadata": {},
   "source": [
    "#### Tip:\n",
    "\n",
    "It's important to note that Python follows the order of operations (PEMDAS) when evaluating expressions. This means that calculations inside parentheses are performed first, followed by exponentiation, multiplication and division, and finally addition and subtraction.\n",
    "\n",
    "For more information on PEMDAS, refer to the following link : [PEMDAS](https://www.mathsisfun.com/operation-order-pemdas.html) and [Python Documentation](https://docs.python.org/3/reference/expressions.html#operator-precedence)"
   ]
  },
  {
   "cell_type": "code",
   "execution_count": 164,
   "metadata": {},
   "outputs": [
    {
     "name": "stdout",
     "output_type": "stream",
     "text": [
      "Result using Order of Operations: 14.0\n"
     ]
    }
   ],
   "source": [
    "# Order of operations\n",
    "result_order_of_operations = (3 + 5) * 2 - 4 / 2\n",
    "print(\"Result using Order of Operations:\", result_order_of_operations)\n"
   ]
  },
  {
   "cell_type": "markdown",
   "metadata": {},
   "source": [
    "--- \n",
    "\n",
    "---\n",
    "\n",
    "\n",
    "# Types of Variables in Python\n",
    "\n",
    "---\n",
    "\n",
    "---\n",
    "\n",
    "### Variables and Data Types in Python\n",
    "\n",
    "### Variables:\n",
    "In Python, variables are used to store and manage data. A variable is like a container that holds a value, and it can be assigned a different value at any time during the program. Variable names are case-sensitive and must start with a letter or underscore.\n",
    "\n",
    "### Data Types:\n",
    "Python has several built-in data types, each serving a specific purpose. The three fundamental data types we'll explore here are `int` (integer), `float` (floating-point), and `str` (string).\n",
    "\n",
    "### Introduction to Data Types:\n",
    "Let's delve into a brief introduction to each data type with some code examples.\n"
   ]
  },
  {
   "cell_type": "markdown",
   "metadata": {},
   "source": [
    "#### Integer\n",
    "\n",
    "Integer:\n",
    "\n",
    "- Integer, often shortened as int, is a data type in Python that is used to represent whole numbers, i.e., numbers without a fractional component.\n",
    "\n",
    "- Integers in Python can be of any length, it is only limited by the amount of memory your system has.\n",
    "\n",
    "Here's an example of an integer:\n",
    "\n",
    "```python\n",
    "age = 25\n",
    "```\n",
    "\n",
    "In this example, `25` is an integer representing a person's age.\n",
    "\n",
    "You can perform mathematical operations with integers:\n",
    "\n",
    "```python\n",
    "a = 10\n",
    "b = 5\n",
    "sum = a + b\n",
    "print(sum)  # Output: 15\n",
    "```\n",
    "\n",
    "In this example, the sum of two integers is calculated.\n",
    "\n",
    "Python supports various forms of integers, including binary, octal, and hexadecimal:\n",
    "\n",
    "```python\n",
    "# binary\n",
    "binary_num = 0b1010  # Represents the binary number 1010, which is 10 in decimal\n",
    "print(binary_num)  # Output: 10\n",
    "\n",
    "# octal\n",
    "octal_num = 0o12  # Represents the octal number 12, which is 10 in decimal\n",
    "print(octal_num)  # Output: 10\n",
    "\n",
    "# hexadecimal\n",
    "hex_num = 0xA  # Represents the hexadecimal number A, which is 10 in decimal\n",
    "print(hex_num)  # Output: 10\n",
    "```\n",
    "\n",
    "In these examples, different forms of integers are represented and printed."
   ]
  },
  {
   "cell_type": "code",
   "execution_count": 165,
   "metadata": {},
   "outputs": [
    {
     "name": "stdout",
     "output_type": "stream",
     "text": [
      "Age: 25\n"
     ]
    }
   ],
   "source": [
    "\n",
    "# Integer variable\n",
    "age = 25\n",
    "print(\"Age:\", age)"
   ]
  },
  {
   "cell_type": "markdown",
   "metadata": {},
   "source": [
    "#### Float\n",
    "\n",
    "\n",
    "- Float, or floating point number is a data type that is used in Python to store decimal numbers. Floats can represent real numbers, like the results of mathematical operations that don't result in an integer.\n",
    "\n",
    "- Floats in Python are created by including a decimal point in the number, or by using scientific notation.\n",
    "\n",
    "Here's an example of a float:\n",
    "\n",
    "```python\n",
    "pi = 3.14159\n",
    "```\n",
    "\n",
    "In this example, `3.14159` is a float representing an approximation of the mathematical constant pi.\n",
    "\n",
    "You can perform mathematical operations with floats:\n",
    "\n",
    "```python\n",
    "radius = 5.0\n",
    "area = pi * (radius ** 2)\n",
    "print(area)  # Output: 78.53975\n",
    "```\n",
    "\n",
    "In this example, the area of a circle is calculated using the formula `pi * r^2`, where `r` is the radius of the circle. The result is a float.\n",
    "\n",
    "Python also supports scientific notation, which is a way of representing very large or very small numbers using powers of 10:\n",
    "\n",
    "```python\n",
    "speed_of_light = 3.0e8  # This represents 3.0 * 10^8\n",
    "```\n",
    "\n",
    "In this example, `3.0e8` is a float representing the speed of light in meters per second.\n",
    "\n",
    "Floats in Python can be rounded to a certain number of decimal places using the `round()` function:\n",
    "\n",
    "```python\n",
    "rounded_pi = round(pi, 2)\n",
    "print(rounded_pi)  # Output: 3.14\n",
    "```\n",
    "\n",
    "In this example, the `round()` function is used to round pi to two decimal places."
   ]
  },
  {
   "cell_type": "code",
   "execution_count": 166,
   "metadata": {},
   "outputs": [
    {
     "name": "stdout",
     "output_type": "stream",
     "text": [
      "Height: 5.9\n"
     ]
    }
   ],
   "source": [
    "# Float variable\n",
    "height = 5.9\n",
    "print(\"Height:\", height)\n"
   ]
  },
  {
   "cell_type": "markdown",
   "metadata": {},
   "source": [
    "#### String\n",
    "\n",
    "- Strings in Python are a type of data structure that are used for storing text data. They are created by enclosing characters in quotes. Python treats single quotes the same as double quotes.\n",
    "\n",
    "- Strings are ordered sequences of characters. This means that we can use the index to access individual characters of a string. Python uses zero-based indexing, meaning that the first character has an index of 0.\n",
    "\n",
    "Here's an example of a string:\n",
    "\n",
    "```python\n",
    "greeting = \"Hello, World!\"\n",
    "```\n",
    "\n",
    "In this string, `\"Hello, World!\"` is the text data stored in the string. You can access the characters in a string by referring to their index number:\n",
    "\n",
    "```python\n",
    "print(greeting[0])  # Output: H\n",
    "```\n",
    "\n",
    "Strings in Python are immutable. This means that once a string is created, it cannot be changed. Any operation that seems to change the string will actually create a new string.\n",
    "\n",
    "```python\n",
    "greeting[1] = \"a\"  # Raises a TypeError\n",
    "```\n",
    "\n",
    "In this example, trying to change the second character of the string raises a `TypeError`.\n",
    "\n",
    "You can determine how many characters a string has by using the `len()` function:\n",
    "\n",
    "```python\n",
    "print(len(greeting))  # Output: 13\n",
    "```\n",
    "\n",
    "Strings in Python can be formatted for output using either the `format()` method, f-strings, or string interpolation. They can also be concatenated (joined) or replicated (repeated) using the `+` and `*` operators respectively."
   ]
  },
  {
   "cell_type": "code",
   "execution_count": 167,
   "metadata": {},
   "outputs": [
    {
     "name": "stdout",
     "output_type": "stream",
     "text": [
      "Name: John\n"
     ]
    }
   ],
   "source": [
    "# String variable\n",
    "name = \"John\"\n",
    "print(\"Name:\", name)\n"
   ]
  },
  {
   "cell_type": "markdown",
   "metadata": {},
   "source": [
    "\n",
    "#### List:\n",
    "\n",
    "- Lists in Python are a type of data structure that allow you to store multiple items in a single variable. Lists are one of four built-in data types in Python used to store collections of data, the other three are Tuple, Set, and Dictionary, all with different qualities and usage.\n",
    "\n",
    "- Lists are ordered. This means that the items have a defined order, and that order will not change. If you add new items to a list, the new items will be placed at the end of the list.\n",
    "\n",
    "- List items are indexed and you can access them by referring to the index number. Python uses zero-based indexing, meaning that the first item has an index of 0.\n",
    "\n",
    "Here's an example of a list:\n",
    "\n",
    "```python\n",
    "fruits = [\"apple\", \"banana\", \"cherry\"]\n",
    "```\n",
    "\n",
    "In this list, `\"apple\"`, `\"banana\"`, and `\"cherry\"` are the items of the list. You can access the items in a list by referring to their index number:\n",
    "\n",
    "```python\n",
    "print(fruits[0])  # Output: apple\n",
    "```\n",
    "\n",
    "Lists are mutable, which means that you can change their content:\n",
    "\n",
    "```python\n",
    "fruits[1] = \"blackcurrant\"\n",
    "print(fruits)  # Output: ['apple', 'blackcurrant', 'cherry']\n",
    "```\n",
    "\n",
    "In this example, the second item's value has been changed from `\"banana\"` to `\"blackcurrant\"`.\n",
    "\n",
    "You can determine how many items a list has by using the `len()` function:\n",
    "\n",
    "```python\n",
    "print(len(fruits))  # Output: 3\n",
    "```"
   ]
  },
  {
   "cell_type": "code",
   "execution_count": 168,
   "metadata": {},
   "outputs": [
    {
     "name": "stdout",
     "output_type": "stream",
     "text": [
      "Numbers: [1, 2, 3, 4, 5]\n"
     ]
    }
   ],
   "source": [
    "# List variable\n",
    "numbers = [1, 2, 3, 4, 5]\n",
    "print(\"Numbers:\", numbers)\n"
   ]
  },
  {
   "cell_type": "markdown",
   "metadata": {},
   "source": [
    "#### Tuple:\n",
    "\n",
    "\n",
    "- Tuples in Python are a type of data structure that are used for holding multiple pieces of data. They are similar to lists in that they can hold multiple, different types of data. However, unlike lists, tuples are immutable. This means that once a tuple is created, it cannot be changed - you cannot add, remove, or modify elements in the tuple.\n",
    "\n",
    "- Tuples are ordered. This means that the items have a defined order, and that order will not change. \n",
    "\n",
    "- Tuple items are indexed and you can access them by referring to the index number. Python uses zero-based indexing, meaning that the first item has an index of 0.\n",
    "\n",
    "Here's an example of a tuple:\n",
    "\n",
    "```python\n",
    "fruits = (\"apple\", \"banana\", \"cherry\")\n",
    "```\n",
    "\n",
    "In this tuple, `\"apple\"`, `\"banana\"`, and `\"cherry\"` are the items of the tuple. You can access the items in a tuple by referring to their index number:\n",
    "\n",
    "```python\n",
    "print(fruits[0])  # Output: apple\n",
    "```\n",
    "\n",
    "As mentioned, tuples are immutable. If you try to change an item in a tuple, Python will raise a `TypeError`:\n",
    "\n",
    "```python\n",
    "fruits[1] = \"blackcurrant\"  # Raises a TypeError\n",
    "```\n",
    "\n",
    "You can determine how many items a tuple has by using the `len()` function:\n",
    "\n",
    "```python\n",
    "print(len(fruits))  # Output: 3\n",
    "```\n",
    "\n",
    "Even though tuples are quite similar to lists, they are often used in different situations and for different purposes. Tuples are used to store multiple items in a single variable and are used for things that shouldn't be changed, such as days of the week, or dates on a calendar."
   ]
  },
  {
   "cell_type": "code",
   "execution_count": 169,
   "metadata": {},
   "outputs": [
    {
     "name": "stdout",
     "output_type": "stream",
     "text": [
      "Coordinates: (3.5, 7.2)\n"
     ]
    }
   ],
   "source": [
    "# Tuple variable\n",
    "coordinates = (3.5, 7.2)\n",
    "print(\"Coordinates:\", coordinates)\n"
   ]
  },
  {
   "cell_type": "markdown",
   "metadata": {},
   "source": [
    "####  Dictionary:\n",
    "\n",
    "- Dictionaries in Python are a type of data structure that allow you to store data in key-value pairs. The 'key' is used to identify the item and the 'value' holds as the name suggests, the value of the item.\n",
    "\n",
    "- Dictionaries are unordered. This means that the items in the dictionary are stored in no particular order. You can't assume that the order in which you add items to the dictionary will be the same order they'll be outputted when you iterate over the dictionary.\n",
    "\n",
    "- Each key in a dictionary must be unique. If you try to add an item with a key that already exists in the dictionary, the new item will overwrite the existing item. This is because the keys act like identifiers for their corresponding values.\n",
    "\n",
    "Here's an example of a dictionary:\n",
    "\n",
    "```python\n",
    "student = {\n",
    "    \"name\": \"John Doe\",\n",
    "    \"age\": 20,\n",
    "    \"courses\": [\"Math\", \"Science\"]\n",
    "}\n",
    "```\n",
    "\n",
    "In this example, the keys are `name`, `age`, and `courses`. The values are `John Doe`, `20`, and `[\"Math\", \"Science\"]` respectively. You can access the items in a dictionary by their keys:\n",
    "\n",
    "```python\n",
    "print(student[\"name\"])  # Output: John Doe\n",
    "```\n",
    "\n",
    "If you try to access a key that doesn't exist in the dictionary, Python will raise a `KeyError`. To avoid this, you can use the `get` method, which returns `None` if the key doesn't exist:\n",
    "\n",
    "```python\n",
    "print(student.get(\"grade\"))  # Output: None\n",
    "```"
   ]
  },
  {
   "cell_type": "code",
   "execution_count": 170,
   "metadata": {},
   "outputs": [
    {
     "name": "stdout",
     "output_type": "stream",
     "text": [
      "Person: {'name': 'Alice', 'age': 30, 'city': 'Wonderland'}\n"
     ]
    }
   ],
   "source": [
    "# Dictionary variable\n",
    "person = {\"name\": \"Alice\", \"age\": 30, \"city\": \"Wonderland\"}\n",
    "print(\"Person:\", person)\n"
   ]
  },
  {
   "cell_type": "markdown",
   "metadata": {},
   "source": [
    "---\n",
    "\n",
    "---\n",
    "\n",
    "# Basics of Functions and Classes in Python\n",
    "\n",
    "---\n",
    "\n",
    "---\n",
    "\n",
    "\n",
    "**Note : This is just for information purposes to solve the project problems at end. Refer to the functions notebook for more detailed explanation**\n",
    "\n",
    "### Functions in Python\n",
    "\n",
    "Functions are a core concept in programming that allow you to organize your code into logical blocks of code that can be reused. Functions are useful for executing a block of code multiple times, with different inputs each time. In this section, we'll explore the basics of functions in Python. A Function has a name, parameters, and a body. The body of the function is indented, just like conditional statements.\n",
    "\n",
    "### Defining a Function\n",
    "\n",
    "In Python, functions are defined using the `def` keyword followed by the function name and parentheses `()`. The body of the function is indented below the function definition. Let's look at an example of a function definition.\n",
    "\n",
    "```python\n",
    "def greet():\n",
    "    print(\"Hello, World!\")\n",
    "```\n",
    "\n",
    "### Indentation in Python\n",
    "\n",
    "Python uses indentation to indicate a block of code. The indentation level of a line of code determines which block it belongs to. The standard indentation in Python is four spaces. Let's look at an example of indentation in Python.\n",
    "\n",
    "```python\n",
    "if 5 > 2:\n",
    "    print(\"Five is greater than two!\")\n",
    "```\n",
    "\n",
    "In this example, the `print()` statement is indented below the `if` statement. This indicates that the `print()` statement is part of the `if` block. If the `print()` statement was not indented, it would not be part of the `if` block.\n",
    "\n",
    "### Calling a Function\n",
    "\n",
    "Once a function is defined, it can be called or invoked to execute the code inside the function body. To call a function, simply write the function name followed by parentheses `()`.\n",
    "\n",
    "```python\n",
    "def greet():\n",
    "    print(\"Hello, World!\")\n",
    "\n",
    "greet()  # Output: Hello, World!\n",
    "\n",
    "```\n",
    "\n",
    "### Returning Values from a Function\n",
    "\n",
    "Functions can optionally return a value to the caller using the `return` keyword. The return value can then be used for further processing. Let's look at an example of a function that returns a value.\n",
    "\n",
    "```python\n",
    "def add(a, b):\n",
    "    return a + b\n",
    "```\n",
    "\n",
    "In this example, the `add()` function takes two parameters `a` and `b` and returns their sum. The `return` keyword is used to return a value from the function. The return value can be stored in a variable and used for further processing.\n",
    "\n",
    "```python\n",
    "result = add(2, 3)\n",
    "print(result)  # Output: 5\n",
    "```\n",
    "\n",
    "### Function Parameters\n",
    "\n",
    "Functions can take zero or more parameters. Parameters are variables that are passed into the function when it is called. They are used to customize the function's behavior. Let's look at an example of a function with parameters.\n",
    "\n",
    "```python\n",
    "def greet(name):\n",
    "    print(\"Hello\", name\")\n",
    "\n",
    "greet(\"John\")  # Output: Hello, John!\n",
    "```\n",
    "\n",
    "In this example, the `greet()` function takes a parameter `name` and prints a greeting message. When the function is called, the value of the `name` parameter is passed into the function. This allows the function to be customized based on the value of the parameter.\n",
    "\n"
   ]
  },
  {
   "cell_type": "markdown",
   "metadata": {},
   "source": [
    "---\n",
    "\n",
    "---\n",
    "\n",
    "# Type Conversion and Type Checking in Python\n",
    "\n",
    "---\n",
    "\n",
    "---\n",
    "\n",
    "#### Dynamic Typing in Python\n",
    "\n",
    "Python is a dynamically typed language, which means that the type of a variable is checked during runtime. This is different from statically typed languages, where the type of a variable is checked at compile time. In Python, you can assign different types of data to the same variable. Here's an example:\n",
    "\n"
   ]
  },
  {
   "cell_type": "code",
   "execution_count": 171,
   "metadata": {},
   "outputs": [],
   "source": [
    "var = 10  # var is an integer\n",
    "var = \"Hello World\"  # var is now a string"
   ]
  },
  {
   "cell_type": "markdown",
   "metadata": {},
   "source": [
    "#### Explicit Type Conversion in Python\n",
    "\n",
    "In Python, you can explicitly convert or cast types using built-in functions like `int()`, `float()`, and `str()`. This is known as explicit type conversion or type casting. Here's an example:"
   ]
  },
  {
   "cell_type": "code",
   "execution_count": 172,
   "metadata": {},
   "outputs": [
    {
     "name": "stdout",
     "output_type": "stream",
     "text": [
      "10\n"
     ]
    }
   ],
   "source": [
    "num = 10.5\n",
    "print(int(num))  # Output: 10"
   ]
  },
  {
   "cell_type": "markdown",
   "metadata": {},
   "source": [
    "#### Implicit Type Conversion in Python\n",
    "\n",
    "Python also supports implicit type conversion, also known as type coercion. This is when Python automatically converts one data type to another without the programmer explicitly asking for this conversion. Here's an example:"
   ]
  },
  {
   "cell_type": "code",
   "execution_count": 173,
   "metadata": {},
   "outputs": [
    {
     "name": "stdout",
     "output_type": "stream",
     "text": [
      "124.23\n"
     ]
    }
   ],
   "source": [
    "num_int = 123  # An integer\n",
    "num_flt = 1.23  # A floating-point number\n",
    "\n",
    "# Python automatically converts integer to float\n",
    "num_new = num_int + num_flt\n",
    "\n",
    "print(num_new)  # Output: 124.23"
   ]
  },
  {
   "cell_type": "markdown",
   "metadata": {},
   "source": [
    "#### Limitations of Type Conversion in Python\n",
    "\n",
    "Not all types can be converted to other types. For example, you cannot convert a string that does not represent a number into an integer or a float. Trying to do so will raise a `ValueError`. Here's an example:"
   ]
  },
  {
   "cell_type": "code",
   "execution_count": 174,
   "metadata": {},
   "outputs": [
    {
     "ename": "ValueError",
     "evalue": "invalid literal for int() with base 10: 'Hello'",
     "output_type": "error",
     "traceback": [
      "\u001b[0;31m---------------------------------------------------------------------------\u001b[0m",
      "\u001b[0;31mValueError\u001b[0m                                Traceback (most recent call last)",
      "Cell \u001b[0;32mIn[174], line 2\u001b[0m\n\u001b[1;32m      1\u001b[0m str_val \u001b[38;5;241m=\u001b[39m \u001b[38;5;124m\"\u001b[39m\u001b[38;5;124mHello\u001b[39m\u001b[38;5;124m\"\u001b[39m\n\u001b[0;32m----> 2\u001b[0m \u001b[38;5;28mprint\u001b[39m(\u001b[38;5;28;43mint\u001b[39;49m\u001b[43m(\u001b[49m\u001b[43mstr_val\u001b[49m\u001b[43m)\u001b[49m)  \u001b[38;5;66;03m# Raises ValueError: invalid literal for int() with base 10: 'Hello'\u001b[39;00m\n",
      "\u001b[0;31mValueError\u001b[0m: invalid literal for int() with base 10: 'Hello'"
     ]
    }
   ],
   "source": [
    "str_val = \"Hello\"\n",
    "print(int(str_val))  # Raises ValueError: invalid literal for int() with base 10: 'Hello'"
   ]
  },
  {
   "cell_type": "markdown",
   "metadata": {},
   "source": [
    "### Checking Type with `type()`\n",
    "\n",
    "In Python, you can check the type of a variable using the `type()` function. This function returns the type of the object. Here's an example:"
   ]
  },
  {
   "cell_type": "code",
   "execution_count": null,
   "metadata": {},
   "outputs": [],
   "source": [
    "num = 10.5\n",
    "print(type(num))  # Output: <class 'float'>"
   ]
  },
  {
   "cell_type": "markdown",
   "metadata": {},
   "source": [
    "#### Checking Type with `isinstance()`\n",
    "\n",
    "Python also provides the `isinstance()` function, which checks if an object is of a certain type and returns `True` or `False`. The difference between `type()` and `isinstance()` is that `type()` does not consider inheritance, while `isinstance()` does. Here's an example:"
   ]
  },
  {
   "cell_type": "code",
   "execution_count": null,
   "metadata": {},
   "outputs": [],
   "source": [
    "class Polygon:\n",
    "    pass\n",
    "\n",
    "class Rectangle(Polygon):\n",
    "    pass\n",
    "\n",
    "rect = Rectangle()\n",
    "\n",
    "print(isinstance(rect, Rectangle))  # Output: True\n",
    "print(isinstance(rect, Polygon))  # Output: True\n",
    "print(type(rect) is Polygon)  # Output: False"
   ]
  },
  {
   "cell_type": "markdown",
   "metadata": {},
   "source": [
    "#### Tip for advanced users:\n",
    "\n",
    "The difference between `type()` and `isinstance()` is that `type()` does not consider inheritance, while `isinstance()` does. This means that `isinstance()` can be used to check if an object is of a certain type, or a subclass of that type. However, `type()` cannot be used to check subclasses.\n",
    "\n",
    "For Eg:\n",
    "\n",
    "```python\n",
    "class A:\n",
    "    pass\n",
    "\n",
    "class B(A):\n",
    "    pass\n",
    "\n",
    "print(isinstance(B(), A))  # Output: True\n",
    "print(type(B()) == A)  # Output: False\n",
    "```\n"
   ]
  },
  {
   "cell_type": "markdown",
   "metadata": {},
   "source": [
    "---\n",
    "\n",
    "---\n",
    "\n",
    "# Operators in Python\n",
    "\n",
    "---\n",
    "\n",
    "---\n",
    "\n",
    "### Operators in Python\n",
    "\n",
    "Operators are special symbols in Python that carry out arithmetic or logical computation. The value that the operator operates on is called the operand. Operators can manipulate individual items and returns a result. The data items are referred as operands or arguments. Operators are represented by special characters or by keywords and provide a way to perform various operations. For example, the `+` operator can be used to add two numbers (3 + 4 = 7) or concatenate two strings (\"Hello\" + \"World\" = \"Hello World\")."
   ]
  },
  {
   "cell_type": "markdown",
   "metadata": {},
   "source": [
    "#### Arithmetic Operators\n",
    "\n",
    "Arithmetic operators are used to perform mathematical operations like addition (`+`), subtraction (`-`), multiplication (`*`), division (`/`), modulus (`%`), exponentiation (`**`), and floor division (`//`). They operate on numerical values and can perform operations on integers, floats, and complex numbers. Let's explore some examples of arithmetic operators."
   ]
  },
  {
   "cell_type": "code",
   "execution_count": null,
   "metadata": {},
   "outputs": [],
   "source": [
    "a = 10\n",
    "b = 20\n",
    "\n",
    "# Addition\n",
    "print(a + b)  # Output: 30\n",
    "\n",
    "# Subtraction\n",
    "print(a - b)  # Output: -10\n",
    "\n",
    "# Multiplication\n",
    "print(a * b)  # Output: 200\n",
    "\n",
    "# Division\n",
    "print(a / b)  # Output: 0.5\n",
    "\n",
    "# Floor Division\n",
    "print(a // b)  # Output: 0\n",
    "\n",
    "# Modulus\n",
    "print(a % b)  # Output: 10\n",
    "\n",
    "# Exponentiation\n",
    "print(a ** b)  # Output: 100000000000000000000\n",
    "\n"
   ]
  },
  {
   "cell_type": "markdown",
   "metadata": {},
   "source": [
    "#### Comparison Operators\n",
    "\n",
    "Comparison operators are used to compare values. It either returns True or False according to the condition. These operators include equal to (`==`), not equal to (`!=`), less than (`<`), less than or equal to (`<=`), greater than (`>`), and greater than or equal to (`>=`). They are used in conditional statements for decision making and loops. "
   ]
  },
  {
   "cell_type": "code",
   "execution_count": null,
   "metadata": {},
   "outputs": [],
   "source": [
    "a = 10\n",
    "b = 20\n",
    "\n",
    "# Equal to\n",
    "print(a == b)  # Output: False\n",
    "\n",
    "# Not equal to\n",
    "print(a != b)  # Output: True\n",
    "\n",
    "# Less than\n",
    "print(a < b)  # Output: True\n",
    "\n",
    "# Greater than\n",
    "print(a > b)  # Output: False"
   ]
  },
  {
   "cell_type": "markdown",
   "metadata": {},
   "source": [
    "#### Logical Operators\n",
    "\n",
    "Logical operators are the `and`, `or`, `not` operators. They are used to combine conditional statements. The `and` operator returns `True` if both the operands are true. The `or` operator returns `True` if either of the operands is true. The `not` operator returns `True` if the operand is false and `False` if the operand is true. Let's explore some examples of logical operators."
   ]
  },
  {
   "cell_type": "code",
   "execution_count": null,
   "metadata": {},
   "outputs": [],
   "source": [
    "a = True\n",
    "b = False\n",
    "\n",
    "# and operator\n",
    "print(a and b)  # Output: False\n",
    "\n",
    "# or operator\n",
    "print(a or b)  # Output: True\n",
    "\n",
    "# not operator\n",
    "print(not a)  # Output: False"
   ]
  },
  {
   "cell_type": "markdown",
   "metadata": {},
   "source": [
    "#### Bitwise Operators\n",
    "\n",
    "Bitwise operators act on operands as if they were strings of binary digits. They operate bit by bit. Bitwise operators include bitwise AND (`&`), bitwise OR (`|`), bitwise NOT (`~`), bitwise XOR (`^`), left shift (`<<`), and right shift (`>>`). These operators are used to perform operations on binary representations of integers."
   ]
  },
  {
   "cell_type": "code",
   "execution_count": null,
   "metadata": {},
   "outputs": [
    {
     "name": "stdout",
     "output_type": "stream",
     "text": [
      "0\n",
      "14\n",
      "-11\n",
      "14\n"
     ]
    }
   ],
   "source": [
    "a = 10  # binary: 1010\n",
    "b = 4   # binary: 0100\n",
    "\n",
    "# bitwise AND\n",
    "print(a & b)  # Output: 0\n",
    "\n",
    "# bitwise OR\n",
    "print(a | b)  # Output: 14\n",
    "\n",
    "# bitwise NOT\n",
    "print(~a)  # Output: -11\n",
    "\n",
    "# bitwise XOR\n",
    "print(a ^ b)  # Output: 14"
   ]
  },
  {
   "cell_type": "markdown",
   "metadata": {},
   "source": [
    "The use of bit-wise operators may seem new to the average Python programmer. However, they are used in various applications, including encryption, compression, graphics, communications, and image processing.  This article provides more information on the real-world applications of bitwise operators.\n",
    "[stackoverflow](https://stackoverflow.com/questions/2096916/real-world-use-cases-of-bitwise-operators)"
   ]
  },
  {
   "cell_type": "markdown",
   "metadata": {},
   "source": [
    "---\n",
    "\n",
    "---\n",
    "\n",
    "# Commonly used built-in functions in Python\n",
    "\n",
    "---\n",
    "\n",
    "---"
   ]
  },
  {
   "cell_type": "markdown",
   "metadata": {},
   "source": [
    "Python provides several built-in functions that are readily available for use. These functions are implemented into Python's core, which means they can be used without the necessity of an import statement. Some of the most commonly used built-in functions include `print()`, `input()`, `max()`, `min()`, `len()`, and `type()`."
   ]
  },
  {
   "cell_type": "code",
   "execution_count": null,
   "metadata": {},
   "outputs": [
    {
     "name": "stdout",
     "output_type": "stream",
     "text": [
      "Hello, world!\n",
      "My name is John and I am 30 years old.\n"
     ]
    }
   ],
   "source": [
    "# Printing a simple string\n",
    "print(\"Hello, world!\")\n",
    "\n",
    "# Printing multiple values\n",
    "name = \"John\"\n",
    "age = 30\n",
    "print(\"My name is\", name, \"and I am\", age, \"years old.\")"
   ]
  },
  {
   "cell_type": "markdown",
   "metadata": {},
   "source": [
    "#### The input() function\n",
    "\n",
    "The `input()` function allows user input. It can include a string argument which is displayed on the screen as a prompt to the user. The function always returns a string, so if you want a number, you'll need to convert the string to the appropriate type."
   ]
  },
  {
   "cell_type": "code",
   "execution_count": null,
   "metadata": {},
   "outputs": [
    {
     "name": "stdout",
     "output_type": "stream",
     "text": [
      "Hello, \n"
     ]
    }
   ],
   "source": [
    "# Asking for user input\n",
    "name = input(\"What is your name? \")\n",
    "print(\"Hello,\", name)"
   ]
  },
  {
   "cell_type": "markdown",
   "metadata": {},
   "source": [
    "#### The max() and min() functions\n",
    "\n",
    "The `max()` function returns the item with the highest value, and the `min()` function returns the item with the lowest value. These functions can be used with any iterable, such as lists and tuples, and with two or more arguments."
   ]
  },
  {
   "cell_type": "code",
   "execution_count": null,
   "metadata": {},
   "outputs": [
    {
     "name": "stdout",
     "output_type": "stream",
     "text": [
      "5\n",
      "1\n"
     ]
    }
   ],
   "source": [
    "numbers = [1, 2, 3, 4, 5]\n",
    "\n",
    "# Finding the maximum value\n",
    "print(max(numbers))  # Output: 5\n",
    "\n",
    "# Finding the minimum value\n",
    "print(min(numbers))  # Output: 1"
   ]
  },
  {
   "cell_type": "markdown",
   "metadata": {},
   "source": [
    "#### The len() function\n",
    "\n",
    "The `len()` function returns the number of items in an object. When the object is a string, the `len()` function returns the number of characters in the string."
   ]
  },
  {
   "cell_type": "code",
   "execution_count": null,
   "metadata": {},
   "outputs": [
    {
     "name": "stdout",
     "output_type": "stream",
     "text": [
      "5\n",
      "13\n"
     ]
    }
   ],
   "source": [
    "# Finding the length of a list\n",
    "numbers = [1, 2, 3, 4, 5]\n",
    "print(len(numbers))  # Output: 5\n",
    "\n",
    "# Finding the length of a string\n",
    "print(len(\"Hello, world!\"))  # Output: 13"
   ]
  },
  {
   "cell_type": "markdown",
   "metadata": {},
   "source": [
    "#### The type() function\n",
    "\n",
    "The `type()` function returns the type of the specified object. This can be useful when you want to perform an action based on the type of a variable."
   ]
  },
  {
   "cell_type": "code",
   "execution_count": null,
   "metadata": {},
   "outputs": [
    {
     "name": "stdout",
     "output_type": "stream",
     "text": [
      "<class 'int'>\n",
      "<class 'float'>\n",
      "<class 'str'>\n",
      "<class 'list'>\n"
     ]
    }
   ],
   "source": [
    "# Checking the type of different variables\n",
    "print(type(10))  # Output: <class 'int'>\n",
    "print(type(3.14))  # Output: <class 'float'>\n",
    "print(type(\"Hello\"))  # Output: <class 'str'>\n",
    "print(type([1, 2, 3]))  # Output: <class 'list'>"
   ]
  },
  {
   "cell_type": "markdown",
   "metadata": {},
   "source": [
    "--- \n",
    "\n",
    "---\n",
    "\n",
    "# Comments in Python\n",
    "\n",
    "---\n",
    "\n",
    "---\n",
    "\n",
    "In Python, comments are used to explain the purpose of the code and how it works. They are not executed by the interpreter, and therefore have no impact on the output of the program. Comments are a crucial part of programming, as they make the code more readable and understandable, not only for others, but also for the author when they revisit their code in the future.\n",
    "\n",
    "#### Single-line comments\n",
    "\n",
    "Single-line comments in Python are denoted by the `#` symbol. Everything after the `#` on that line is considered a comment. Single-line comments are useful for adding short notes or temporarily disabling a piece of code.\n",
    "\n"
   ]
  },
  {
   "cell_type": "code",
   "execution_count": null,
   "metadata": {},
   "outputs": [
    {
     "name": "stdout",
     "output_type": "stream",
     "text": [
      "Hello, world!\n"
     ]
    }
   ],
   "source": [
    "# This is a single-line comment\n",
    "\n",
    "print(\"Hello, world!\")  # This is an inline comment"
   ]
  },
  {
   "cell_type": "markdown",
   "metadata": {},
   "source": [
    "#### Multi-line comments\n",
    "\n",
    "Python does not have a specific syntax for multi-line comments. However, a common practice is to use triple quotes (`'''` or `\"\"\"`), which are typically used for docstrings (documentation strings), to create multi-line comments. Everything between the triple quotes is ignored by the Python interpreter."
   ]
  },
  {
   "cell_type": "code",
   "execution_count": null,
   "metadata": {},
   "outputs": [
    {
     "name": "stdout",
     "output_type": "stream",
     "text": [
      "Hello, world!\n"
     ]
    }
   ],
   "source": [
    "'''\n",
    "This is a multi-line comment.\n",
    "You can write as many lines as you want.\n",
    "'''\n",
    "\n",
    "print(\"Hello, world!\")"
   ]
  },
  {
   "cell_type": "code",
   "execution_count": null,
   "metadata": {},
   "outputs": [],
   "source": [
    "## DO NOT CHANGE THIS\n",
    "\n",
    "ans = {}"
   ]
  },
  {
   "cell_type": "markdown",
   "metadata": {},
   "source": [
    "---\n",
    "\n",
    "---\n",
    "\n",
    "# Quiz\n",
    "\n",
    "---\n",
    "\n",
    "---\n",
    "\n",
    "\n",
    "\n",
    "Let's test your understanding of the topics covered so far. Please answer the following multiple-choice questions. Good luck!\n",
    "\n",
    "---\n",
    "\n",
    "---\n",
    "\n",
    "Topic: Types of variables in Python\n",
    "Difficulty: Easy\n",
    "\n",
    "What is the type of `a = {\"name\": \"John\", \"age\": 30}` in Python?\n",
    "\n",
    "(a) - List\n",
    "(b) - Dict\n",
    "(c) - Tuple\n",
    "(d) - Set\n",
    "\n",
    "Enter your answer in the code cell below "
   ]
  },
  {
   "cell_type": "code",
   "execution_count": null,
   "metadata": {},
   "outputs": [],
   "source": [
    "# please enter your option below. For MCQ, if answer is \"b\", then enter ans=\"b\" (Within double quotes)\n",
    "ans[\"q_1\"]=\"\""
   ]
  },
  {
   "cell_type": "markdown",
   "metadata": {},
   "source": [
    "---\n",
    "\n",
    "Topic: Different implementations of Python\n",
    "Difficulty: Intermediate\n",
    "\n",
    "Which of the following is NOT an implementation of Python?\n",
    "\n",
    "(a) - CPython\n",
    "(b) - JPython\n",
    "(c) - IronPython\n",
    "(d) - SilverPython\n",
    "\n",
    "Enter your answer in the code cell below "
   ]
  },
  {
   "cell_type": "code",
   "execution_count": null,
   "metadata": {},
   "outputs": [],
   "source": [
    "ans[\"q_2\"]=\"\""
   ]
  },
  {
   "cell_type": "markdown",
   "metadata": {},
   "source": [
    "---\n",
    "\n",
    "Topic: Basic introduction to Jupyter notebooks\n",
    "Difficulty: Easy\n",
    "\n",
    "In Jupyter notebooks, what does the term 'cell' refer to?\n",
    "\n",
    "(a) - A storage area for data\n",
    "(b) - A unit of code execution\n",
    "(c) - A type of variable\n",
    "(d) - A Python library\n",
    "\n",
    "Enter your answer in the code cell below "
   ]
  },
  {
   "cell_type": "code",
   "execution_count": null,
   "metadata": {},
   "outputs": [],
   "source": [
    "ans[\"q_3\"]=\"\""
   ]
  },
  {
   "cell_type": "markdown",
   "metadata": {},
   "source": [
    "---\n",
    "\n",
    "Topic: Introduction to Google Colab\n",
    "Difficulty: Intermediate\n",
    "\n",
    "Google Colab is a free cloud service that provides a platform to execute which type of code?\n",
    "\n",
    "(a) - Python\n",
    "(b) - Java\n",
    "(c) - C++\n",
    "(d) - All of the above\n",
    "\n",
    "Enter your answer in the code cell below "
   ]
  },
  {
   "cell_type": "code",
   "execution_count": null,
   "metadata": {},
   "outputs": [],
   "source": [
    "ans[\"q_4\"]=\"\""
   ]
  },
  {
   "cell_type": "markdown",
   "metadata": {},
   "source": [
    "---\n",
    "\n",
    "Topic: Types of variables in Python\n",
    "Difficulty: Easy\n",
    "\n",
    "`a = (1,2,3,4,5)` represents which datatype in Python?\n",
    "\n",
    "(a) - List\n",
    "(b) - Dict\n",
    "(c) - Tuple\n",
    "(d) - Set\n",
    "\n",
    "Enter your answer in the code cell below "
   ]
  },
  {
   "cell_type": "code",
   "execution_count": null,
   "metadata": {},
   "outputs": [],
   "source": [
    "ans[\"q_5\"]=\"\""
   ]
  },
  {
   "cell_type": "markdown",
   "metadata": {},
   "source": [
    "---\n",
    "\n",
    "Topic: Type conversion and type checking in Python\n",
    "Difficulty: Hard\n",
    "\n",
    "Which function would you use to convert a string to an integer in Python?\n",
    "\n",
    "(a) - str()\n",
    "(b) - int()\n",
    "(c) - float()\n",
    "(d) - chr()\n",
    "\n",
    "Enter your answer in the code cell below "
   ]
  },
  {
   "cell_type": "code",
   "execution_count": null,
   "metadata": {},
   "outputs": [],
   "source": [
    "ans[\"q_6\"]=\"\""
   ]
  },
  {
   "cell_type": "markdown",
   "metadata": {},
   "source": [
    "---\n",
    "\n",
    "Topic: Operators in Python\n",
    "Difficulty: Intermediate\n",
    "\n",
    "What does the `//` operator do in Python?\n",
    "\n",
    "(a) - Performs floating point division\n",
    "(b) - Performs integer division\n",
    "(c) - Raises to the power\n",
    "(d) - Performs modulo operation\n",
    "\n",
    "Enter your answer in the code cell below "
   ]
  },
  {
   "cell_type": "code",
   "execution_count": null,
   "metadata": {},
   "outputs": [],
   "source": [
    "ans[\"q_7\"]=\"\""
   ]
  },
  {
   "cell_type": "markdown",
   "metadata": {},
   "source": [
    "---\n",
    "\n",
    "Topic: Commonly used built-in functions in Python\n",
    "Difficulty: Hard\n",
    "\n",
    "Which built-in function would you use to get the ASCII value of a character?\n",
    "\n",
    "(a) - chr()\n",
    "(b) - ord()\n",
    "(c) - ascii()\n",
    "(d) - char()\n",
    "\n",
    "Enter your answer in the code cell below "
   ]
  },
  {
   "cell_type": "code",
   "execution_count": null,
   "metadata": {},
   "outputs": [],
   "source": [
    "ans[\"q_8\"]=\"\""
   ]
  },
  {
   "cell_type": "markdown",
   "metadata": {},
   "source": [
    "---\n",
    "\n",
    "Topic: Python as a language overview\n",
    "Difficulty: Intermediate\n",
    "\n",
    "Which of the following is NOT a key feature of Python?\n",
    "\n",
    "(a) - Easy to learn and use\n",
    "(b) - Object-oriented\n",
    "(c) - High-level language\n",
    "(d) - Does not support modules and packages\n",
    "\n",
    "Enter your answer in the code cell below "
   ]
  },
  {
   "cell_type": "code",
   "execution_count": null,
   "metadata": {},
   "outputs": [],
   "source": [
    "ans[\"q_9\"]=\"\""
   ]
  },
  {
   "cell_type": "markdown",
   "metadata": {},
   "source": [
    "---\n",
    "\n",
    "Topic: Types of variables in Python\n",
    "Difficulty: Hard\n",
    "\n",
    "Which of the following is an immutable data type in Python?\n",
    "\n",
    "(a) - List\n",
    "(b) - Set\n",
    "(c) - Dictionary\n",
    "(d) - Tuple\n",
    "\n",
    "Enter your answer in the code cell below "
   ]
  },
  {
   "cell_type": "code",
   "execution_count": null,
   "metadata": {},
   "outputs": [],
   "source": [
    "ans[\"q_10\"]=\"a\""
   ]
  },
  {
   "cell_type": "markdown",
   "metadata": {},
   "source": [
    "## Run the below cell to check your Score\n",
    "\n",
    "The answers will be generated in the file called `quiz_report.txt` in the same directory as this notebook. You can access them from the left sidebar of this Colab notebook.\n",
    "\n",
    "#### DO NOT CHANGE THE CONTENTS OF THE BELOW CELL\n",
    "\n"
   ]
  },
  {
   "cell_type": "code",
   "execution_count": null,
   "metadata": {},
   "outputs": [],
   "source": [
    "correct_answers = {\n",
    "    \"q_1\": {\"answer\": \"b\", \"text\": \"Dict\", \"explanation\": \"Curly braces are used for dicts.\"},\n",
    "    \"q_2\": {\"answer\": \"d\", \"text\": \"SilverPython\", \"explanation\": \"SilverPython is not a known Python implementation. The known ones are CPython, Jython, IronPython, etc.\"},\n",
    "    \"q_3\": {\"answer\": \"b\", \"text\": \"A unit of code execution\", \"explanation\": \"In Jupyter notebooks, a cell is a unit of code that can be executed independently.\"},\n",
    "    \"q_4\": {\"answer\": \"a\", \"text\": \"Python\", \"explanation\": \"Google Colab is a free cloud service that provides a platform to execute Python code.\"},\n",
    "    \"q_5\": {\"answer\": \"c\", \"text\": \"Tuple\", \"explanation\": \"In Python, parentheses are used to define a tuple.\"},\n",
    "    \"q_6\": {\"answer\": \"b\", \"text\": \"int()\", \"explanation\": \"The int() function in Python is used to convert a string to an integer.\"},\n",
    "    \"q_7\": {\"answer\": \"b\", \"text\": \"Performs integer division\", \"explanation\": \"The // operator in Python performs integer (floor) division.\"},\n",
    "    \"q_8\": {\"answer\": \"b\", \"text\": \"ord()\", \"explanation\": \"The ord() function in Python gives the integer representing the Unicode character.\"},\n",
    "    \"q_9\": {\"answer\": \"d\", \"text\": \"Does not support modules and packages\", \"explanation\": \"Python does support modules and packages, which is one of its key features.\"},\n",
    "    \"q_10\": {\"answer\": \"d\", \"text\": \"Tuple\", \"explanation\": \"In Python, tuples are immutable, meaning they cannot be changed after they are created.\"}\n",
    "}\n",
    "\n",
    "def calculate_mark(ans, correct_answers):\n",
    "    mark = 0\n",
    "\n",
    "    output = \"\"\n",
    "    print_output = \"\"\n",
    "\n",
    "    with open('quiz_report.txt', 'w') as f:\n",
    "        f.write(\"QUIZ REPORT\\n\\n\")\n",
    "        f.write(\"Automated Quiz Report\\n\\n Generated from https://github/thivinanandh/Teaching-Python \\n\\n\")\n",
    "        for question, answer in correct_answers.items():\n",
    "            output += \"--------------------------------------------\\n\"\n",
    "            print_output += \"--------------------------------------------\\n\"\n",
    "            output += f\"{question} :\\n\\n\"\n",
    "            print_output += f\"{question} :\\n\\n\"\n",
    "\n",
    "            output += f\"Expected Answer: {correct_answers[question]['text']} ({correct_answers[question]['answer']})\\n\"\n",
    "            print_output += f\"Expected Answer: {correct_answers[question]['text']} ({correct_answers[question]['answer']})\\n\"\n",
    "\n",
    "            answer = ans[question]\n",
    "\n",
    "            output += f\"Your Answer: {answer}\\n\\n\"\n",
    "            print_output += f\"Your Answer: {answer}\\n\\n\"\n",
    "\n",
    "\n",
    "            if answer == \"\":\n",
    "                output += \"State : Not Attempted\\n\"\n",
    "                print_output += \"State : \" + \"\\033[93m\" + \"Not Attempted\" + \"\\033[0m\" + \"\\n\"\n",
    "            \n",
    "            elif question in correct_answers and answer == correct_answers[question]['answer']:\n",
    "                output += \"State : Correct\\n\"  # Print in green color\n",
    "                print_output += \"State : \" + \"\\033[92m\" + \"Correct\" + \"\\033[0m\" + \"\\n\"\n",
    "                \n",
    "                mark += 1\n",
    "            else:\n",
    "                output += \"State : Wrong\\n\"  # Print in red color\n",
    "                print_output += \"State : \" + \"\\033[91m\" + \"Wrong\" + \"\\033[0m\" + \"\\n\"\n",
    "            \n",
    "            output += \"\\nExplanation: \"\n",
    "            print_output += \"\\nExplanation: \"\n",
    "\n",
    "            output += f\"{correct_answers[question]['explanation']}\\n\\n\"\n",
    "            print_output += f\"{correct_answers[question]['explanation']}\\n\\n\"\n",
    "\n",
    "        \n",
    "\n",
    "        \n",
    "\n",
    "        f.write(\"\\n\\n--------------------------------------------\")\n",
    "        f.write(\"\\nTotal Marks Secured : \" + str(mark) + \"/10\")\n",
    "        f.write(\"\\n--------------------------------------------\")\n",
    "\n",
    "        print(\"--------------------------------------------\")\n",
    "        print(\"Total Marks Secured :\", mark, \"/10\")\n",
    "        print(\"--------------------------------------------\")\n",
    "\n",
    "        print(\"NOTE : You need atleast 7 marks to pass the quiz.\\n\\n\")\n",
    "\n",
    "        if(mark >= 7):\n",
    "            print(\"\\033[92m\" + \"Congratulations! You have passed the quiz.\" + \"\\033[0m\")\n",
    "            f.write(\"\\n\\nCongratulations! You have passed the quiz.\")\n",
    "        else:\n",
    "            print(\"\\033[91m\" + \"Sorry! You have failed the quiz.\" + \"\\033[0m\")\n",
    "            f.write(\"\\n\\nSorry! You have failed the quiz.\\n\\n\\n\")\n",
    "\n",
    "        print(\"\\n Summary of your quiz report is saved in quiz_report.txt file.\")\n",
    "\n",
    "        f.write(output)\n",
    "\n",
    "        print(print_output)\n",
    "\n",
    "    return mark\n",
    "\n",
    "# Example usage:\n",
    "# ans = {\"q_1\": \"b\", \"q_2\": \"d\", \"q_3\": \"b\", \"q_4\": \"a\", \"q_5\": \"c\", \"q_6\": \"b\", \"q_7\": \"b\", \"q_8\": \"b\", \"q_9\": \"d\", \"q_10\": \"d\"}\n",
    "print(calculate_mark(ans, correct_answers))"
   ]
  },
  {
   "cell_type": "markdown",
   "metadata": {},
   "source": [
    "--- \n",
    "\n",
    "---\n",
    "\n",
    "# Programming Exercises\n",
    "\n",
    "---\n",
    "\n",
    "---\n",
    "\n",
    "## Project 1 \n",
    "\n",
    "#### Level : Easy\n",
    "\n",
    "Write a Python program that asks the user for their name and age, then stores these in a dictionary. The program should then print out the name and age. the key to store the name value should be `name` and the key to store the age value should be `age`.\n",
    "\n",
    "\n",
    "### Sample Input\n",
    "```python\n",
    "get_user_info(\"John\", 25)\n",
    "```\n",
    "\n",
    "### Sample Output\n",
    "```bash\n",
    "Name: John, Age: 25\n",
    "```\n",
    "and the code should return a dictionary as follows\n",
    "```python\n",
    "{'name': 'John', 'age': 25}\n",
    "```\n",
    "\n",
    "#### Note: Only change the code in the below cell where it is mentioned `# YOUR CODE HERE`\n"
   ]
  },
  {
   "cell_type": "code",
   "execution_count": null,
   "metadata": {},
   "outputs": [],
   "source": [
    "# Boilerplate code for the task\n",
    "def get_user_info(name, age):\n",
    "    # Create a dictionary to store user info\n",
    "    user_info = {}\n",
    "\n",
    "    # TODO: Store the name and age in the dictionary\n",
    "\n",
    "    # TODO: Print the name and age in the format: \"Name: <name>, Age: <age>\"\n",
    "\n",
    "    # Return the dictionary\n",
    "    return user_info"
   ]
  },
  {
   "cell_type": "markdown",
   "metadata": {},
   "source": [
    "**DO NOT CHANGE THE CONTENTS OF THE BELOW CELL**\n",
    "\n",
    "Run the below cell to see the solution for the above problem and also to check the correctness of your code.\n"
   ]
  },
  {
   "cell_type": "code",
   "execution_count": null,
   "metadata": {},
   "outputs": [
    {
     "name": "stdout",
     "output_type": "stream",
     "text": [
      "Test case 1:\n",
      "Input: ('John', 25)\n",
      "Expected output: {'name': 'John', 'age': 25}\n",
      "Output: {}\n",
      "\u001b[91mTest case failed\u001b[0m\n",
      "\n",
      "Test case 2:\n",
      "Input: ('Jane', 30)\n",
      "Expected output: {'name': 'Jane', 'age': 30}\n",
      "Output: {}\n",
      "\u001b[91mTest case failed\u001b[0m\n",
      "\n",
      "Test case 3:\n",
      "Input: ('Alice', 20)\n",
      "Expected output: {'name': 'Alice', 'age': 20}\n",
      "Output: {}\n",
      "\u001b[91mTest case failed\u001b[0m\n",
      "\n",
      "Final score: 0/3\n",
      "\u001b[91mSorry! You failed more than half of the test cases. Try again.\u001b[0m\n"
     ]
    }
   ],
   "source": [
    "# Test cases\n",
    "def test_get_user_info(func):\n",
    "    # List of inputs\n",
    "    inputs = [(\"John\", 25), (\"Jane\", 30), (\"Alice\", 20)]\n",
    "    # List of expected outputs\n",
    "    expected_outputs = [{\"name\": \"John\", \"age\": 25}, {\"name\": \"Jane\", \"age\": 30}, {\"name\": \"Alice\", \"age\": 20}]\n",
    "\n",
    "    # Initialize score\n",
    "    score = 0\n",
    "\n",
    "    # Iterate over inputs and expected outputs\n",
    "    for i, (input, expected_output) in enumerate(zip(inputs, expected_outputs)):\n",
    "        # Call the function with the input\n",
    "        output = func(*input)\n",
    "        # Print input, expected output, and output\n",
    "        print(f\"Test case {i+1}:\")\n",
    "        print(f\"Input: {input}\")\n",
    "        print(f\"Expected output: {expected_output}\")\n",
    "        print(f\"Output: {output}\")\n",
    "        # Check if the output matches the expected output\n",
    "        if output == expected_output:\n",
    "            print(\"\\033[92m\" + \"Test case passed\" + \"\\033[0m\")\n",
    "            score += 1\n",
    "        else:\n",
    "            print(\"\\033[91m\" + \"Test case failed\" + \"\\033[0m\")\n",
    "        print()\n",
    "\n",
    "    # Print final score\n",
    "    print(f\"Final score: {score}/{len(inputs)}\")\n",
    "\n",
    "    if score == len(inputs):\n",
    "        print(\"\\033[92m\" + \"Congratulations! All test cases passed.\" + \"\\033[0m\")\n",
    "    elif score >= len(inputs) / 3:\n",
    "        print(\"\\033[93m\" + \"Atleast half of the test cases passed. Try again to get all test cases passed.\" + \"\\033[0m\")\n",
    "    else:\n",
    "        print(\"\\033[91m\" + \"Sorry! You failed more than half of the test cases. Try again.\" + \"\\033[0m\")\n",
    "# Call the test function with the get_user_info function\n",
    "test_get_user_info(get_user_info)"
   ]
  },
  {
   "cell_type": "markdown",
   "metadata": {},
   "source": [
    "## Project 2\n",
    "\n",
    "#### Level : Medium\n",
    "\n",
    "Write a Python program that asks the user for two numbers, then performs addition, subtraction, multiplication, division, and modulus operations on these numbers. The program should then store the results of these operations in a dictionary and print the dictionary.\n",
    "\n",
    "#### Sample Input\n",
    "```python\n",
    "perform_operations(10, 5)\n",
    "```\n",
    "\n",
    "#### Sample Output\n",
    "```bash\n",
    "{'addition': 15, 'subtraction': 5, 'multiplication': 50, 'division': 2.0, 'modulus': 0}\n",
    "```\n",
    "\n",
    "#### Note: Only change the code in the below cell where it is mentioned `# YOUR CODE HERE`"
   ]
  },
  {
   "cell_type": "code",
   "execution_count": null,
   "metadata": {},
   "outputs": [],
   "source": [
    "# Boilerplate code for the task\n",
    "\n",
    "def perform_operations(num1, num2):\n",
    "    # Create a dictionary to store the results\n",
    "    results = {}\n",
    "\n",
    "    # TODO: Perform addition, subtraction, multiplication, division, and modulus operations\n",
    "    # TODO: Store the results in the dictionary\n",
    "\n",
    "    # TODO: Print the results in the format: \"Addition: <result>, Subtraction: <result>, Multiplication: <result>, Division: <result>, Modulus: <result>\"\n",
    "\n",
    "    # Return the dictionary\n",
    "    return results\n",
    "\n"
   ]
  },
  {
   "cell_type": "markdown",
   "metadata": {},
   "source": [
    "**DO NOT CHANGE THE CONTENTS OF THE BELOW CELL**\n",
    "\n",
    "Run the below cell to see the solution for the above problem and also to check the correctness of your code."
   ]
  },
  {
   "cell_type": "code",
   "execution_count": null,
   "metadata": {},
   "outputs": [
    {
     "name": "stdout",
     "output_type": "stream",
     "text": [
      "Test case 1:\n",
      "Input: (10, 5)\n",
      "Expected output: {'addition': 15, 'subtraction': 5, 'multiplication': 50, 'division': 2.0, 'modulus': 0}\n",
      "Output: {}\n",
      "Test case failed\n",
      "\n",
      "Test case 2:\n",
      "Input: (20, 3)\n",
      "Expected output: {'addition': 23, 'subtraction': 17, 'multiplication': 60, 'division': 6.666666666666667, 'modulus': 2}\n",
      "Output: {}\n",
      "Test case failed\n",
      "\n",
      "Test case 3:\n",
      "Input: (15, 7)\n",
      "Expected output: {'addition': 22, 'subtraction': 8, 'multiplication': 105, 'division': 2.142857142857143, 'modulus': 1}\n",
      "Output: {}\n",
      "Test case failed\n",
      "\n",
      "Final score: 0/3\n"
     ]
    }
   ],
   "source": [
    "# Test cases\n",
    "def test_perform_operations(func):\n",
    "    # List of inputs\n",
    "    inputs = [(10, 5), (20, 3), (15, 7)]\n",
    "    # List of expected outputs\n",
    "    expected_outputs = [\n",
    "        {\"addition\": 15, \"subtraction\": 5, \"multiplication\": 50, \"division\": 2.0, \"modulus\": 0},\n",
    "        {\"addition\": 23, \"subtraction\": 17, \"multiplication\": 60, \"division\": 6.666666666666667, \"modulus\": 2},\n",
    "        {\"addition\": 22, \"subtraction\": 8, \"multiplication\": 105, \"division\": 2.142857142857143, \"modulus\": 1}\n",
    "    ]\n",
    "\n",
    "    # Initialize score\n",
    "    score = 0\n",
    "\n",
    "    # Iterate over inputs and expected outputs\n",
    "    for i, (input, expected_output) in enumerate(zip(inputs, expected_outputs)):\n",
    "        # Call the function with the input\n",
    "        output = func(*input)\n",
    "        # Print input, expected output, and output\n",
    "        print(f\"Test case {i+1}:\")\n",
    "        print(f\"Input: {input}\")\n",
    "        print(f\"Expected output: {expected_output}\")\n",
    "        print(f\"Output: {output}\")\n",
    "        # Check if the output matches the expected output\n",
    "        if output == expected_output:\n",
    "            print(\"Test case passed\")\n",
    "            score += 1\n",
    "        else:\n",
    "            print(\"Test case failed\")\n",
    "        print()\n",
    "\n",
    "    # Print final score\n",
    "    print(f\"Final score: {score}/{len(inputs)}\")\n",
    "\n",
    "# Call the test function with the perform_operations function\n",
    "test_perform_operations(perform_operations)"
   ]
  },
  {
   "cell_type": "markdown",
   "metadata": {},
   "source": [
    "## Project 3\n",
    "\n",
    "---\n",
    "\n",
    "\n",
    "#### Level : Hard\n",
    "\n",
    "\n",
    "\n",
    "Write a Python function `process_inputs(input_string, input_int, input_float, input_list)` that takes four arguments: a string, an integer, a float, and a list. The function should first check the type of each input. If any input is of the wrong type, the function should print an error with the following messages:\n",
    "\n",
    "- If `input_string` is not a string, the error message should be \"input_string must be a string.\"\n",
    "- If `input_int` is not an integer, the error message should be \"input_int must be an integer.\"\n",
    "- If `input_float` is not a float, the error message should be \"input_float must be a float.\"\n",
    "- If `input_list` is not a list or if its length is less than 3, the error message should be \"input_list must be a list with at least 3 elements.\"\n",
    "\n",
    "The function should then perform the following operations and store the results in a dictionary:\n",
    "\n",
    "- Convert the float to an integer and store it in the key 'intval'.\n",
    "- Convert the integer to a float and store it in the key 'floatval'.\n",
    "- Concatenate the input string with the input integer (converted to a string) and concatenate it with length of the list  store it in the key 'strval'.\n",
    "- Concatenate the first element of the list (converted to a string), the first character of the string, the last character of the string, and the last element of the list (converted to a string) and store it in the key 'strval2'.\n",
    "\n",
    "Finally, the function should return the dictionary.\n",
    "\n",
    "\n",
    "\n",
    "#### Sample Input\n",
    "```python\n",
    "process_inputs(\"Hello\", 6, 3.14, [1, 2, 3, 4, 5])\n",
    "```\n",
    "\n",
    "#### Sample Output\n",
    "```bash\n",
    "{\n",
    "    'intval': 3,\n",
    "    'floatval': 10.0,\n",
    "    'strval': 'Hello65',  # hello + 6 + 5\n",
    "    'strval2': '5Ho',\n",
    "    'param1': str,\n",
    "    'param2': int,\n",
    "    'param3': float,\n",
    "    'param4': list\n",
    "}\n",
    "```\n",
    "\n",
    "\n",
    "Write your code in the below cell where it is mentioned `# YOUR CODE HERE`"
   ]
  },
  {
   "cell_type": "code",
   "execution_count": null,
   "metadata": {},
   "outputs": [],
   "source": [
    "def process_inputs(input_string, input_int, input_float, input_list):\n",
    "\n",
    "    # Perform the required operations to fill the dictionary\n",
    "    ans = {}\n",
    "\n",
    "    # TODO YOUR CODE HERE\n",
    "    \n",
    "\n",
    "    return ans"
   ]
  },
  {
   "cell_type": "markdown",
   "metadata": {},
   "source": [
    "**DO NOT CHANGE THE CONTENTS OF THE BELOW CELL**\n",
    "\n",
    "Run the below cell to see the solution for the above problem and also to check the correctness of your code."
   ]
  },
  {
   "cell_type": "code",
   "execution_count": null,
   "metadata": {},
   "outputs": [
    {
     "name": "stdout",
     "output_type": "stream",
     "text": [
      "Input: ('Hello', 4, 3.3, [5, 4, 2])\n",
      "Expected output: {'intval': 3, 'floatval': 4.0, 'strval': 'Hello43', 'strval2': '5Ho2', 'param1': <class 'str'>, 'param2': <class 'int'>, 'param3': <class 'float'>, 'param4': <class 'list'>}\n",
      "Your Output: {}\n",
      "\u001b[91mTest case failed\u001b[0m\n",
      "Input: ('World', 10, 9.9, [1, 2, 3])\n",
      "Expected output: {'intval': 9, 'floatval': 10.0, 'strval': 'World103', 'strval2': '1Wd3', 'param1': <class 'str'>, 'param2': <class 'int'>, 'param3': <class 'float'>, 'param4': <class 'list'>}\n",
      "Your Output: {}\n",
      "\u001b[91mTest case failed\u001b[0m\n",
      "Input: ('Test', 0, 0.0, [0, 0, 0])\n",
      "Expected output: {'intval': 0, 'floatval': 0.0, 'strval': 'Test03', 'strval2': '0Tt0', 'param1': <class 'str'>, 'param2': <class 'int'>, 'param3': <class 'float'>, 'param4': <class 'list'>}\n",
      "Your Output: {}\n",
      "\u001b[91mTest case failed\u001b[0m\n",
      "Input: ('AI', 1, 1.1, [1, 1, 1])\n",
      "Expected output: {'intval': 1, 'floatval': 1.0, 'strval': 'AI13', 'strval2': '1AI1', 'param1': <class 'str'>, 'param2': <class 'int'>, 'param3': <class 'float'>, 'param4': <class 'list'>}\n",
      "Your Output: {}\n",
      "\u001b[91mTest case failed\u001b[0m\n",
      "Score: 0 out of 4\n"
     ]
    }
   ],
   "source": [
    "def test_process_inputs():\n",
    "    # Define the test cases and the expected results\n",
    "    test_cases = [\n",
    "        ((\"Hello\", 4, 3.3, [5, 4, 2]), {\n",
    "            'intval': 3,\n",
    "            'floatval': 4.0,\n",
    "            'strval': 'Hello43',\n",
    "            'strval2': '5Ho2',\n",
    "            'param1': str,\n",
    "            'param2': int,\n",
    "            'param3': float,\n",
    "            'param4': list\n",
    "        }),\n",
    "        ((\"World\", 10, 9.9, [1, 2, 3]), {\n",
    "            'intval': 9,\n",
    "            'floatval': 10.0,\n",
    "            'strval': 'World103',\n",
    "            'strval2': '1Wd3',\n",
    "            'param1': str,\n",
    "            'param2': int,\n",
    "            'param3': float,\n",
    "            'param4': list\n",
    "        }),\n",
    "        ((\"Test\", 0, 0.0, [0, 0, 0]), {\n",
    "            'intval': 0,\n",
    "            'floatval': 0.0,\n",
    "            'strval': 'Test03',\n",
    "            'strval2': '0Tt0',\n",
    "            'param1': str,\n",
    "            'param2': int,\n",
    "            'param3': float,\n",
    "            'param4': list\n",
    "        }),\n",
    "        ((\"AI\", 1, 1.1, [1, 1, 1]), {\n",
    "            'intval': 1,\n",
    "            'floatval': 1.0,\n",
    "            'strval': 'AI13',\n",
    "            'strval2': '1AI1',\n",
    "            'param1': str,\n",
    "            'param2': int,\n",
    "            'param3': float,\n",
    "            'param4': list\n",
    "        })\n",
    "    ]\n",
    "\n",
    "    # Initialize the score\n",
    "    score = 0\n",
    "\n",
    "    # Loop through the test cases\n",
    "    for inputs, expected_output in test_cases:\n",
    "        # Run the function with the inputs\n",
    "        output = process_inputs(*inputs)\n",
    "        # Check if the output matches the expected output\n",
    "\n",
    "        # Print the input, expected output, and output\n",
    "        print(f\"Input: {inputs}\")\n",
    "        print(f\"Expected output: {expected_output}\")\n",
    "        print(f\"Your Output: {output}\")\n",
    "\n",
    "        passed = False\n",
    "\n",
    "        for key, value in expected_output.items():\n",
    "            \n",
    "            # check if the key is present in the output\n",
    "            if key not in output:\n",
    "                passed = False\n",
    "                break\n",
    "\n",
    "            elif output[key] == value:\n",
    "                passed = True\n",
    "            else:\n",
    "                passed = False\n",
    "                break\n",
    "\n",
    "\n",
    "        if passed:\n",
    "            # If the output is correct, increment the score\n",
    "            score += 1\n",
    "\n",
    "            # Print \"Test case passed\" in green\n",
    "            print(\"\\033[92m\" + \"Test case passed\" + \"\\033[0m\")\n",
    "        else:\n",
    "            # Print \"Test case failed\" in red\n",
    "            print(\"\\033[91m\" + \"Test case failed\" + \"\\033[0m\")\n",
    "\n",
    "    # Print the final score\n",
    "    print(f\"Score: {score} out of {len(test_cases)}\")\n",
    "\n",
    "    # Print the final result\n",
    "    \n",
    "test_process_inputs()"
   ]
  },
  {
   "cell_type": "markdown",
   "metadata": {},
   "source": [
    "Run the below cell to generate see the output of problem 1. Do not see the solution before attempting the problem atleast twice"
   ]
  },
  {
   "cell_type": "code",
   "execution_count": null,
   "metadata": {},
   "outputs": [],
   "source": [
    "# @title Solution for Project 1 { display-mode: \"form\" }\n",
    "\n",
    "prob1_solution = \"\"\" \n",
    "def get_user_info(name, age):\n",
    "    # Create a dictionary to store user info\n",
    "    user_info = {\"name\": name, \"age\": age}\n",
    "\n",
    "    # Print the name and age in the format: \"Name: <name>, Age: <age>\"\n",
    "    print(f\"Name: {user_info['name']}, Age: {user_info['age']}\")\n",
    "\n",
    "    # Return the dictionary\n",
    "    return user_info\"\"\"\n",
    "\n",
    "print(prob1_solution)"
   ]
  },
  {
   "cell_type": "markdown",
   "metadata": {},
   "source": [
    "Run the below cell to generate see the output of problem 2. Do not see the solution before attempting the problem atleast twice"
   ]
  },
  {
   "cell_type": "code",
   "execution_count": null,
   "metadata": {},
   "outputs": [],
   "source": [
    "# @title Solution for Project 2 { display-mode: \"form\" }\n",
    "\n",
    "prob2_solution = \"\"\" def perform_operations(num1, num2):\n",
    "    # Create a dictionary to store the results\n",
    "    results = {}\n",
    "\n",
    "    # Perform addition, subtraction, multiplication, division, and modulus operations\n",
    "    results['addition'] = num1 + num2\n",
    "    results['subtraction'] = num1 - num2\n",
    "    results['multiplication'] = num1 * num2\n",
    "    results['division'] = num1 / num2\n",
    "    results['modulus'] = num1 % num2\n",
    "\n",
    "    # Print the results in the format: \"Addition: <result>, Subtraction: <result>, Multiplication: <result>, Division: <result>, Modulus: <result>\"\n",
    "    print(f\"Addition: {results['addition']}, Subtraction: {results['subtraction']}, Multiplication: {results['multiplication']}, Division: {results['division']}, Modulus: {results['modulus']}\")\n",
    "\n",
    "    # Return the dictionary\n",
    "    return results\"\"\"\n",
    "\n",
    "print(prob2_solution)"
   ]
  },
  {
   "cell_type": "markdown",
   "metadata": {},
   "source": [
    "Run the below cell to generate see the output of problem 3. Do not see the solution before attempting the problem atleast twice"
   ]
  },
  {
   "cell_type": "code",
   "execution_count": null,
   "metadata": {},
   "outputs": [],
   "source": [
    "# @title Solution for Project 3 { display-mode: \"form\" }\n",
    "\n",
    "\n",
    "prob3_soln = \"\"\"\n",
    "def process_inputs(input_string, input_int, input_float, input_list):\n",
    "\n",
    "    # Perform the required operations\n",
    "    ans = {\n",
    "        \"intval\": int(input_float),\n",
    "        \"floatval\": float(input_int),\n",
    "        \"strval\": input_string + str(input_int) + str(len(input_string)),\n",
    "        \"strval2\": str(input_list[0]) + input_string[0] + input_string[-1] + str(input_list[-1]),\n",
    "        \"param1\": type(input_string),\n",
    "        \"param2\": type(input_int),\n",
    "        \"param3\": type(input_float),\n",
    "        \"param4\": type(input_list),\n",
    "    }\n",
    "\n",
    "    return ans\n",
    "\"\"\"\n",
    "\n",
    "print(prob3_soln)"
   ]
  },
  {
   "cell_type": "code",
   "execution_count": null,
   "metadata": {},
   "outputs": [],
   "source": []
  }
 ],
 "metadata": {
  "kernelspec": {
   "display_name": "Python 3",
   "language": "python",
   "name": "python3"
  },
  "language_info": {
   "codemirror_mode": {
    "name": "ipython",
    "version": 3
   },
   "file_extension": ".py",
   "mimetype": "text/x-python",
   "name": "python",
   "nbconvert_exporter": "python",
   "pygments_lexer": "ipython3",
   "version": "3.11.5"
  }
 },
 "nbformat": 4,
 "nbformat_minor": 2
}
