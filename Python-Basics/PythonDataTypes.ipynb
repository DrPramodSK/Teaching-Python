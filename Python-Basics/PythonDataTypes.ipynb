{
  "nbformat": 4,
  "nbformat_minor": 0,
  "metadata": {
    "colab": {
      "provenance": []
    },
    "kernelspec": {
      "name": "python3",
      "display_name": "Python 3"
    },
    "language_info": {
      "name": "python"
    }
  },
  "cells": [
    {
      "cell_type": "markdown",
      "source": [
        "## What is a Variable ?\n",
        "\n",
        "- Variable stores a value so that it can be used later. \n",
        "- That assigned value can be changed later in code\n",
        "\n"
      ],
      "metadata": {
        "id": "hnM2GBCCxc6L"
      }
    },
    {
      "cell_type": "code",
      "source": [
        "a = 5\n",
        "\n",
        "## here a is the variable which stores the value of 5\n",
        "\n",
        "## now, lets say, we need to change the value of a, then we can just do \n",
        "\n",
        "a = 6 \n",
        "\n",
        "## now, a is the same variable as the above, however now its storing a value 6"
      ],
      "metadata": {
        "id": "QkkfFl-BxlkH"
      },
      "execution_count": null,
      "outputs": []
    },
    {
      "cell_type": "markdown",
      "source": [
        "## Strings vs Variables vs Commands in Python\n",
        "\n",
        "If any text is entered without quotes `\" \"`, means its either a  keyword in python ( like `for` , `in`, `while`, `print`,`len` etc ) or a variable\n",
        "\n",
        "### Variable always refer to the value it stores, not the variable name itself. \n",
        "\n",
        "\n",
        "For Eg ⁉\n",
        "\n",
        "```\n",
        "eight = 9\n",
        "print(eight)\n",
        "```\n",
        "\n",
        "What will be the output?\n",
        "\n",
        "```\n",
        "9\n",
        "```\n",
        "\n",
        "So here, when we say \"eight\", since `eight` is an variable, it will always refer to the value stored in the variable, So 9 will be printed..!"
      ],
      "metadata": {
        "id": "biK_v6YPyCXT"
      }
    },
    {
      "cell_type": "code",
      "source": [
        "### What will be the output ????\n",
        "\n",
        "a = 8\n",
        "b = a\n",
        "\n",
        "print(b)"
      ],
      "metadata": {
        "colab": {
          "base_uri": "https://localhost:8080/"
        },
        "id": "lXB-RQ6ux-Y1",
        "outputId": "ba689715-e702-4e56-d66b-11369729101b"
      },
      "execution_count": null,
      "outputs": [
        {
          "output_type": "stream",
          "name": "stdout",
          "text": [
            "8\n"
          ]
        }
      ]
    },
    {
      "cell_type": "markdown",
      "source": [
        "### Keywords in python\n",
        "---\n",
        "\n",
        "Like every languages, python has a list of reserved keywords, which we are not supposed to use it for variable naming."
      ],
      "metadata": {
        "id": "MUCdysmV2bX9"
      }
    },
    {
      "cell_type": "code",
      "source": [
        "import keyword\n",
        "print(keyword.kwlist)"
      ],
      "metadata": {
        "colab": {
          "base_uri": "https://localhost:8080/"
        },
        "id": "hgXY2Klgzlik",
        "outputId": "3a2b5847-c3ef-445a-e355-6a7bd884f987"
      },
      "execution_count": 1,
      "outputs": [
        {
          "output_type": "stream",
          "name": "stdout",
          "text": [
            "['False', 'None', 'True', '__peg_parser__', 'and', 'as', 'assert', 'async', 'await', 'break', 'class', 'continue', 'def', 'del', 'elif', 'else', 'except', 'finally', 'for', 'from', 'global', 'if', 'import', 'in', 'is', 'lambda', 'nonlocal', 'not', 'or', 'pass', 'raise', 'return', 'try', 'while', 'with', 'yield']\n"
          ]
        }
      ]
    },
    {
      "cell_type": "markdown",
      "source": [
        "# Lists \n",
        "---\n",
        "### Lists \n",
        "Lists are collection of items\n",
        "\n",
        "\n",
        "- Lists can be iterated , that means, we can use for loops or index to loop over every element in that list \n",
        "  - For eg : `a = [4,7,2,8,9]`, Then to access any element ,we can just use `a[index]`\n",
        "\n",
        "### Indexing \n",
        "\n",
        "INdexisng is how we access a particular element in an list by using its position in the list . Note : the index always starts from zero.\n",
        "- The index of first elemtn in list will be `0`\n",
        "- The index of last element ( consider the size of list is n) in the list will be `n-1`. \n",
        "\n",
        "eg ⁉\n",
        "``` a = [5,7,2,4,9] ```\n",
        "\n",
        "to access the elemt `7`,we need to use the index of element 7 , which is `1`. So we can access the element 7 ( second element in the list ) using \n",
        "`a[1]` \n",
        "\n",
        "### Length of list \n",
        "We can use the `len` function to get the number of elements in  a list\n",
        "\n",
        "`len(<lstname>)`\n",
        "\n",
        "for eg:\n",
        "\n",
        "length of list a will be \n",
        "\n",
        "``` len(a)```\n",
        "\n"
      ],
      "metadata": {
        "id": "bcKEq1J83I_h"
      }
    },
    {
      "cell_type": "markdown",
      "source": [
        "## Excersise 1 :\n",
        "---\n",
        "\n",
        "``` a = [9,6,4,5] ```\n",
        "\n",
        "#### Q : What wil `print(a[len(a)-1])` will print ?\n",
        "\n"
      ],
      "metadata": {
        "id": "c_l40Cx0Audi"
      }
    },
    {
      "cell_type": "markdown",
      "source": [
        "### Answer \n",
        "---\n",
        "\n",
        "Print the last element in the Array, because if you remember, the index of last element in an list will be `size of array -1`"
      ],
      "metadata": {
        "id": "eCTqjUxzAywS"
      }
    },
    {
      "cell_type": "markdown",
      "source": [
        "## Slicing\n",
        "---\n",
        "\n",
        "Slicing is an method to get a slice ( or a part of list ) from a starting position to ending position \n",
        "\n",
        "For eg : \n",
        "``` a = [1,5,8,2,4,9] ```\n",
        "if we need to get the firt 3 elements from the list `a`, So we need to `slice` the array from first position to the 3rd position . To do that we need to use \n",
        "\n",
        "`a[startingIndex:endingIndex+1]`\n",
        "\n",
        "which means, the first three lements can be obtained by \n",
        "\n",
        "`a[0:3]`\n"
      ],
      "metadata": {
        "id": "DvRJzG54BZnQ"
      }
    },
    {
      "cell_type": "markdown",
      "source": [
        "#### Q: slice the last three elements of the list `a`"
      ],
      "metadata": {
        "id": "Aj-TzROHBgkT"
      }
    },
    {
      "cell_type": "code",
      "source": [
        "a[3:6]"
      ],
      "metadata": {
        "id": "2AORs8rW1jrE"
      },
      "execution_count": null,
      "outputs": []
    },
    {
      "cell_type": "markdown",
      "source": [
        "#### Trick..Slicing with skips  ( third parameter in slicing )\n",
        "\n",
        "```\n",
        "a = [1,2,3,4,5,6,7,8,9,10,11,12,13,14,15]\n",
        "```\n",
        "`a[1:10]`\n",
        "\n",
        "SO this will print \n",
        "`[2,3,4,5,6,7,8,9,10]`\n",
        "\n",
        "INstead we can give \n",
        "`a[1:10:2]`  ( Here the 2 at the last means, pick only one element per 2 continious elements, (or), Skip one element for each )\n",
        "\n"
      ],
      "metadata": {
        "id": "Gh-zAYvJCggz"
      }
    },
    {
      "cell_type": "markdown",
      "source": [
        "## Looping (Basic)\n",
        "---\n",
        "\n",
        "Looping is used to perform same tasks with different data every time. \n",
        "\n",
        "foe eg: Printing all names in an array \n",
        "so here the operation print is common to all the nams , however the variable name will change for every iteration\n",
        "\n",
        "`names = [\"Alex\",\"Magnus\",\"Eike\",\"Thivin\"]`\n",
        "\n",
        "```\n",
        "for i in range(4):\n",
        "  print(names[i])\n",
        "  ```\n",
        "Output \n",
        "```\n",
        "Alex\n",
        "Magnus\n",
        "Eike\n",
        "Thivin \n",
        "```\n",
        "\n",
        "### What happens in a loop\n",
        "\n",
        "For a `for` loop, we wil give a list to a for loop , and the fr loop will take one item from the list everytime and then executes the code below the for loop. \n",
        "This continues untill all the elements given to the for loop are completed.\n",
        "\n",
        "SO when we say, `for i in range(4):` , \n",
        "\n",
        "- range(4) - this will create a list which will have numbers from `0` to `4-1` , i.e `[0,1,2,3]`\n",
        "- `i` , the i in the for loop is a variable which will represent the element that the for lop gives for each iteration \n",
        "\n",
        "\n",
        "- The for loop gets initalised with a list of `[0,1,2,3] ( due to `range(4)` ) \n",
        "- Then it will pick one element from the list and assign it to `i` \n",
        "\n",
        "FIRST ITERATION:\n",
        "- The first value from the list will be assigned to `i` , in that case, `i=0` \n",
        "\n",
        "- Now , using the value of i=0, the code below `for` loop will get executed. `print(names[i])`\n",
        "- Which means , the execution will happen as `print(names[0])` , So the first name in the array will get printed. which wll be \n",
        "`Alex`\n",
        "\n",
        "SECOND ITERATION:\n",
        "- The isecond  value from the list will be assigned to `i` , in that case, `i=1` \n",
        "\n",
        "- Now , using the value of i=0, the code below `for` loop will get executed. `print(names[i])`\n",
        "- Which means , the execution will happen as `print(names[1])` , So the first name in the array will get printed. which wll be \n",
        "`Magnus`\n"
      ],
      "metadata": {
        "id": "pVGw4sjRCq4L"
      }
    },
    {
      "cell_type": "code",
      "source": [],
      "metadata": {
        "id": "soJZ1YecIsAR"
      },
      "execution_count": null,
      "outputs": []
    }
  ]
}