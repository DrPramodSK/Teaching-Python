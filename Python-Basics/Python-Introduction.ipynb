{
 "cells": [
  {
   "cell_type": "markdown",
   "metadata": {},
   "source": [
    "<link rel=\"preconnect\" href=\"https://fonts.googleapis.com\">\n",
    "<link rel=\"preconnect\" href=\"https://fonts.gstatic.com\" crossorigin>\n",
    "<link href=\"https://fonts.googleapis.com/css2?family=Nunito+Sans&family=Quicksand&display=swap\" rel=\"stylesheet\">\n",
    "\n",
    "<div display=\"flex\" align=\"center\" justify-content=\"center\" width=\"100%\">\n",
    "\n",
    "<img height=80 src=\"https://drive.google.com/uc?id=13kMLUyF9yPOsfMB782I1wk-_pYNiyxkI\"> </img>\n",
    "</div>\n",
    "\n",
    "<div style=\"font-family: 'Nunito Sans', sans-serif;\">\n",
    "    \n",
    "# **Introduction to Python**\n",
    "---\n",
    "    \n",
    "</div> \n",
    "\n",
    "<div  style=\"font-size: 22px; color:black; font-family: 'Quicksand', sans-serif;font-weight:500\">\n",
    "\n",
    "Author : Thivin Anandh D \n",
    "\n",
    "\n",
    "</div>\n",
    "\n",
    "\n",
    "<div  style=\"font-size: 18px; color:black; font-family: 'Quicksand', sans-serif;font-weight:400\">\n",
    "<a href=\"https://www.linkedin.com/in/thivinanandh/\" > Linkedin <img src=\"data:image/png;base64,iVBORw0KGgoAAAANSUhEUgAAAEAAAABACAYAAACqaXHeAAAEiUlEQVR4nO2bTWhcVRTHf++9yaQTOhPTNNHUWGILrUWwBbGli1RjBcF0Y0FdFxRBXYoKLhQUFF25cKEVuxWpRsS4EEXqLNrgR1RcCSlG01g7qW0mqdPJfDwX555M3kzS96ZN8ybk/jfz3r3nzjtzz3/OOffcd8FiY8NpaHnVdwE2T2a7ASpepX2NdVpVJNorBYC5dw//Ky2Ov7TfXXuVWgtLGOA7AKmnskcBHIeXTUfPmmu1mvCZlg/eAigcH/xUOoQJlgF6kX72a/nPLyS/ND37Y9LpZmEcwC3xMMD8iUM5sAwgoRflopcCcFy2XWuAb3xo1Q84U1xHyOQ0xpVWQQ80RjXLgKiCavCtaRlycGdnoH/sbB6AC/kS0NJMCMAyIExALd+TaQPg7cd3AnBkX7dKAPDFL5JoPf/RBAAzc+uDCZYBYQLq7Q/syAAwvHcLAB3J4NwN3yPtJ7/PAfD5+AwAXotTYMMzwE5A3ArEjVAfoBnemQmJ86PG2x/Zt8VISP/or9Ku+YDb4v99hWVAmIAaUuP6Cx9LnD/5Qy4gd2Zi1siVA+OuF37DRVCf1YJlQFRBnflzlxcA+KSOAZ4rAgkvaKJKVUxYrbPkogJuUF7zjmRCbKP5ho6/UqwEvtdzb4wSlgFhAroWyKQ8AI4N9gXuFfmCWOZE9m8ALv8nvmBoTxcA9+++BahZeKEsnyM/CpMuGB/z4B6RG7pLPrd3y/K9VBH536auyLifZgL3KxAsFJYBYQI6s5mUiD53WApGt3cFtwvOXSoCNd9wcV4sOrhL6gYvDd8RkJ+/KozxDSPuHdgMwEN3C2M6kkGGKR7ZK6vQJw70AvDKyB/yXMMkv0kqWAbE9eD2Npn7ZwyjetNJIDzOa/fA1k0AvHZ0AIDJi1cBGDMZqxsxOlgGxPXgNpMv3JoRy2tcn74keYZmntu6pL/XyNXbdXu3MEF9wvjkPADllRKPOlgGxK3AQrkKwPFTkj98mD0P1KrLu25LAfDmYzsAuO/O9LLfs9+0d3bIT4pak7QMiFuB08ZrvzH6JwA5YzmtJWZ/F5/wzldTALx/bDfQWJPsMVGkPSHj1AOExQLLgLgVGDs7B9T+s/WrQ8+Y6Oe/JOfPF2SN0ZFMLivnNFkwsAyIW4GSiQIathtXAGLRYknkKhHje1RYBsStQFTcrCLzhmeAnYC4FYgbdgLiViBu2AmIW4G4YScgbgXiRuRMUHPw87OyPq8vump7LVcXAV29/ZOX/rLZ4dE9xDmzPxCW6DX//GjY8AxYnMfUk9/2Aziud9o09S8V1F3YnnRb4F6hM68VHa3KdpodpcwmWefVV2pmDUPyIUxo9vnLMGEKwK9WDgIUPhiaAsuA5n3AtHk/YCWoYRYtbHaJdbe4Hk6d/Go9PyosA/TCq3hFgKqLvvrRv9yAZmc4qoWj4rpfCDFnh/QU2eL33bBG6xyNp8ae/u5RAKfqvGgkrnmCZB0gB+A7/usAhfcOjUizPTUGBKKAzEihz/8MIJ375hTUzhKtORLtq1L+TVSLRYC5vgfsyVELi0b8D5e9dd8mda97AAAAAElFTkSuQmCC\" height=\"20px\" alt=\"LinkedIn\"/></a>\n",
    "<a href=\"https://github.com/thivinanandh\" > Github <img src=\"data:image/png;base64,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\" height=\"20px\" alt=\"LinkedIn\"/></a>\n",
    "\n",
    "For opening this notebook in google colab, please click on the button below.<br />\n",
    "<br />\n",
    "<a href=\"https://colab.research.google.com/github/thivinanandh/Teaching-Python/blob/main/Python-Basics/Python-Introduction.ipynb\" target=\"_parent\"><img src=\"https://colab.research.google.com/assets/colab-badge.svg\" alt=\"Open In Colab\"/></a>\n",
    "\n",
    "</div>\n"
   ]
  },
  {
   "cell_type": "markdown",
   "metadata": {},
   "source": [
    "### Python - An Overview\n",
    "---\n",
    "\n",
    "\n",
    "1. **Popularity:** Python consistently ranks among the top most loved languages in developer surveys, with 66.7% expressing a desire to continue working with it in 2020.\n",
    "\n",
    "2. **Origins:** Conceived in the late 80s by Guido van Rossum, Python is one of the older languages, known for its longevity and reliability.\n",
    "\n",
    "3. **Expressiveness:** Despite its quirky name inspired by Monty Python, Python is a highly expressive language, making it efficient and readable for a variety of applications.\n",
    "\n",
    "4. **Versatility:** While not primarily used for performance-intensive programming, Python is well-suited for applications like data science and web development, finding applications in healthcare, finance, VFX, and AI.\n",
    "\n",
    "5. **Beginner-Friendly:** Python is often considered an ideal language for beginners due to its use of English words, strict rules about whitespace, and concise code compared to other languages.\n",
    "\n",
    "6. **Usage Growth:** Python's usage has seen significant growth since its 1.0 release in 1991, surpassing other major languages in Stack Overflow question views since 2012.\n",
    "\n",
    "7. **Popularity Rankings:** TIOBE's 2021 index ranks Python as the third most popular language at 10.86%, gaining rapidly on C and Java.\n",
    "\n",
    "8. **Global Adoption:** Currently, 44% of developers and technologists worldwide are using Python for various programming tasks.\n",
    "\n",
    "Source :\n",
    "\n",
    "[https://stackoverflow.blog/2021/07/14/getting-started-with-python/](https://stackoverflow.blog/2021/07/14/getting-started-with-python/)"
   ]
  },
  {
   "cell_type": "markdown",
   "metadata": {},
   "source": [
    "## Compiled vs Interpreted Languages\n",
    "---\n",
    "\n",
    "In the realm of programming languages, a fundamental distinction is made between compiled and interpreted languages. This distinction refers to the way a program is executed and translated into machine code. Let's explore the key differences between these two approaches.\n",
    "\n",
    "\n",
    "### Compiled Languages - Definition\n",
    "\n",
    "Compiled languages undergo a separate compilation phase before execution. The entire source code is translated into machine code by a compiler, producing an executable file.\n",
    "\n",
    "### Characteristics\n",
    "\n",
    "- **Efficiency:** Generally, compiled languages are more efficient in terms of runtime performance.\n",
    "- **Distribution:** Executable files can be distributed without revealing the source code.\n",
    "- **Examples:** C, C++, Rust\n",
    "\n",
    "### Interpreted Languages\n",
    "\n",
    "## Definition\n",
    "\n",
    "Interpreted languages are executed line by line or statement by statement by an interpreter during runtime. The source code is not translated into machine code before execution.\n",
    "\n",
    "### Characteristics\n",
    "\n",
    "- **Portability:** Code can be run on any system with the corresponding interpreter.\n",
    "- **Debugging:** Easier to debug due to the ability to execute code interactively.\n",
    "- **Examples:** Python, JavaScript, Ruby\n",
    "\n",
    "## Examples\n",
    "\n",
    "### Compiled Language Example: C\n",
    "\n",
    "```c\n",
    "#include <stdio.h>\n",
    "\n",
    "int main() {\n",
    "    printf(\"Hello, World!\\n\");\n",
    "    return 0;\n",
    "}\n",
    "```\n",
    "\n",
    "\n",
    "### Interpreted Language Example: Python\n",
    "\n",
    "```python\n",
    "print(\"Hello, World!\")\n",
    "```\n",
    "\n"
   ]
  },
  {
   "cell_type": "markdown",
   "metadata": {},
   "source": [
    "## Is Python Compiled or Interpreted?\n",
    "---\n",
    "\n",
    "In general, python is considered an interpreted language. It depends upon the implementation of python. There are two well known implementations of python \n",
    "\n",
    "- CPython - Most commonly used implementation of python. It is written in C and is the default implementation of python. It is an interpreter.\n",
    "- PyPy    - It is a fast, compliant alternative implementation of python. It is written in RPython and is a just-in-time compiler.\n",
    "\n",
    "### CPython\n",
    "\n",
    "**Compilation/Interpretation:**\n",
    "- CPython is the default and most widely used implementation of Python.\n",
    "- It follows the traditional interpretation approach where Python source code is first translated into intermediate bytecode, and then the bytecode is executed by the Python interpreter.\n",
    "\n",
    "**Execution Model:**\n",
    "- The CPython interpreter executes Python code in a step-by-step manner, interpreting each line as it encounters it.\n",
    "- Dynamic typing and late binding are core features, providing flexibility but potentially impacting performance.\n",
    "\n",
    "**Performance:**\n",
    "- CPython's interpretation model and Global Interpreter Lock (GIL) can limit its performance, especially in scenarios involving CPU-bound tasks and parallel processing.\n",
    "- Extensions written in C can be used to improve performance in critical sections.\n",
    "\n",
    "### PyPy\n",
    "\n",
    "**Compilation/Interpretation:**\n",
    "- PyPy takes a different approach by utilizing a Just-In-Time (JIT) compiler.\n",
    "- It first translates Python source code into an intermediate representation (IR) and then dynamically compiles this IR into machine code at runtime.\n",
    "\n",
    "**Execution Model:**\n",
    "- PyPy's JIT compilation allows it to generate optimized machine code, potentially providing faster execution compared to CPython for certain workloads.\n",
    "- The JIT compilation adapts to the runtime behavior of the code, optimizing frequently executed paths.\n",
    "\n",
    "**Performance:**\n",
    "- PyPy is known for its improved performance, especially in scenarios involving computationally intensive tasks.\n",
    "- It effectively addresses some of the performance limitations associated with CPython's traditional interpretation model.\n",
    "\n",
    "**Key Differences:**\n",
    "- CPython's interpretation model can result in slower execution for CPU-bound tasks.\n",
    "- PyPy's JIT compilation offers performance improvements, making it a compelling choice for certain use cases.\n",
    "- CPython's wide adoption and extensive standard library make it suitable for various applications.\n",
    "- PyPy, while offering performance advantages, may have compatibility issues with certain CPython extensions.\n",
    "\n",
    "\n",
    "Additional information can be found here : [stack overflow](https://stackoverflow.com/questions/6889747/is-python-interpreted-or-compiled-or-both)\n",
    "\n",
    "\n",
    "#### Are you interested to check what your python implementation is ?\n",
    "\n",
    "\n",
    "Run the following code in your python enviroinment\n",
    "```python\n",
    "import platform\n",
    "print(platform.python_implementation())\n",
    "```"
   ]
  },
  {
   "cell_type": "markdown",
   "metadata": {},
   "source": [
    "## Basic introduction on Jupyter and Jupyter Notebooks\n",
    "---\n",
    "\n",
    "### Introduction to Jupyter Notebooks and Jupyter\n",
    "\n",
    "#### Jupyter Notebooks\n",
    "\n",
    "[Jupyter Notebooks](https://jupyter.org/) are interactive computing environments that allow the creation and sharing of live code, equations, visualizations, and narrative text. They are widely used in data science, machine learning, scientific research, and education.\n",
    "\n",
    "##### Key Features:\n",
    "\n",
    "1. **Interactive Code Cells:**\n",
    "   - Code is written and executed in cells, promoting an interactive and iterative workflow.\n",
    "   - Outputs are displayed below each code cell, allowing immediate feedback.\n",
    "\n",
    "2. **Markdown Cells:**\n",
    "   - Support for Markdown cells enables the creation of formatted text, headings, lists, and multimedia elements.\n",
    "   - Enables the integration of narrative explanations with code.\n",
    "\n",
    "3. **Rich Media Output:**\n",
    "   - Visualizations, charts, and graphs generated in code cells are displayed directly in the notebook.\n",
    "   - Supports various data visualization libraries.\n",
    "\n",
    "4. **Kernel Architecture:**\n",
    "   - Jupyter Notebooks support multiple programming languages through different kernels.\n",
    "   - Common kernels include Python, R, Julia, and more.\n",
    "\n",
    "5. **Export and Sharing:**\n",
    "   - Notebooks can be exported to various formats, such as HTML, PDF, or slideshows.\n",
    "   - Shareable via platforms like GitHub or JupyterHub.\n",
    "\n",
    "### Jupyter\n",
    "\n",
    "[Jupyter](https://jupyter.org/) is an open-source project that evolved from the IPython project. The name \"Jupyter\" is a combination of three core programming languages: **Ju**lia, **Py**thon, and **R**.\n",
    "\n",
    "#### Components:\n",
    "\n",
    "1. **Jupyter Notebook:**\n",
    "   - The interactive web application for creating and sharing documents that contain live code, equations, visualizations, and narrative text.\n",
    "\n",
    "2. **JupyterLab:**\n",
    "   - An extensible environment that provides an integrated interface for interactive computing, offering features beyond the classic notebook.\n",
    "\n",
    "3. **Jupyter Kernels:**\n",
    "   - Separate computational engines that execute the code contained in a notebook document.\n",
    "   - Allow the use of different programming languages within the same notebook.\n",
    "\n",
    "#### Use Cases:\n",
    "\n",
    "- **Data Exploration and Analysis:**\n",
    "  - Ideal for exploratory data analysis, visualizations, and statistical modeling.\n",
    "\n",
    "- **Machine Learning and AI:**\n",
    "  - Popular among data scientists and machine learning practitioners for prototyping and experimenting.\n",
    "\n",
    "- **Scientific Research:**\n",
    "  - Widely used in academia for conducting experiments, simulations, and collaborative research.\n",
    "\n",
    "- **Education:**\n",
    "  - Valuable for teaching programming, data science, and computational concepts interactively.\n",
    "\n",
    "Jupyter Notebooks have become a versatile tool in the data science and research communities, providing an effective way to combine code, visualization, and documentation in a single, shareable document.\n"
   ]
  },
  {
   "cell_type": "markdown",
   "metadata": {},
   "source": [
    "---\n",
    "\n",
    "---\n",
    "\n",
    "# First Python Program\n",
    "\n",
    "---\n",
    "\n",
    "---\n",
    "\n",
    "In this section, we will cover the basics of writing and running a simple Python program. We'll go through the process of setting up your development environment, writing a basic program, and running it to see the output.\n",
    "\n",
    "\n",
    "### Step 1: Setting up your development environment\n",
    "- Before writing Python code, you need to have Python installed on your machine.\n",
    "- You can download Python from [python.org](https://www.python.org/downloads/).\n",
    "- Additionally, you may want to use an Integrated Development Environment (IDE) like VS Code or PyCharm.\n",
    "\n",
    "### Step 2: Writing your first program\n",
    "- Once you have Python installed, you can write your first program.\n",
    "- Open your IDE and create a new file called `hello.py`.\n",
    "- Add the following code to the file and save it.\n",
    "\n",
    "```python\n",
    "print(\"Hello, World!\")\n",
    "```\n",
    "\n",
    "### Step 3: Running your program\n",
    "- Now that you have a Python program, you can run it to see the output.\n",
    "- Open a terminal window and navigate to the directory containing your `hello.py` file.\n",
    "- Run the following command to execute the program.\n",
    "\n",
    "```bash\n",
    "python hello.py\n",
    "```\n",
    "\n",
    "- You should see the following output in the terminal.\n",
    "\n",
    "```bash\n",
    "Hello, World!\n",
    "```\n",
    "\n",
    "\n",
    "###  Note:\n",
    "\n",
    "This notebook focusses more on exploring python using jupyter-lab enviroinments. For better understanding on how to install python and run python programs, please refer to the following link.\n",
    "[Python for Everybody](https://www.py4e.com/lessons)"
   ]
  },
  {
   "cell_type": "markdown",
   "metadata": {},
   "source": [
    "---\n",
    "\n",
    "---\n",
    "\n",
    "\n",
    "# Getting started with Jupyter Notebooks (Colab)\n",
    "\n",
    "---\n",
    "\n",
    "---\n",
    "\n",
    "\n",
    "### Print Statement\n",
    "\n",
    "to start with python, we can look into the `print` statement. the basic print statement is used to display information on the screen. It is a fundamental command for outputting text or variables to the console. Let's explore the basic usage of the print statement.\n"
   ]
  },
  {
   "cell_type": "code",
   "execution_count": 49,
   "metadata": {},
   "outputs": [
    {
     "name": "stdout",
     "output_type": "stream",
     "text": [
      "Hello, Python!\n",
      "Name: John\n",
      "Age: 25\n"
     ]
    }
   ],
   "source": [
    "# Basic print statement\n",
    "print(\"Hello, Python!\")\n",
    "\n",
    "# Printing variables\n",
    "name = \"John\"\n",
    "age = 25\n",
    "print(\"Name:\", name)\n",
    "print(\"Age:\", age)\n"
   ]
  },
  {
   "cell_type": "markdown",
   "metadata": {},
   "source": [
    "### Variables getting printed on notebooks\n",
    "\n",
    "In a Jupyter or Colab notebook, when you run a cell containing multiple print statements, only the result of the last statement will be displayed. This is important to keep in mind when organizing your code in cells. Further, this can be used for easy debugging of your code.\n",
    "\n",
    "\n"
   ]
  },
  {
   "cell_type": "code",
   "execution_count": 50,
   "metadata": {},
   "outputs": [
    {
     "data": {
      "text/plain": [
       "30"
      ]
     },
     "execution_count": 50,
     "metadata": {},
     "output_type": "execute_result"
    }
   ],
   "source": [
    "# Only the result of the last statement will be displayed\n",
    "x = 10\n",
    "y = 20\n",
    "z = x + y\n",
    "x  # This will not be displayed\n",
    "y  # This will not be displayed\n",
    "z  # Only the result of this statement will be displayed\n"
   ]
  },
  {
   "cell_type": "markdown",
   "metadata": {},
   "source": [
    "### Arithmetic Operations on the go\n",
    "\n",
    "Python supports various arithmetic operations that can be performed on numerical data. These operations include addition, subtraction, multiplication, division, and more. Let's explore some basic arithmetic operations and their usage.\n"
   ]
  },
  {
   "cell_type": "code",
   "execution_count": 51,
   "metadata": {},
   "outputs": [
    {
     "data": {
      "text/plain": [
       "8"
      ]
     },
     "execution_count": 51,
     "metadata": {},
     "output_type": "execute_result"
    }
   ],
   "source": [
    "# Addition\n",
    "5 + 3"
   ]
  },
  {
   "cell_type": "code",
   "execution_count": 52,
   "metadata": {},
   "outputs": [
    {
     "name": "stdout",
     "output_type": "stream",
     "text": [
      "6\n"
     ]
    }
   ],
   "source": [
    "print(10 - 4) # Subtraction with a print statement"
   ]
  },
  {
   "cell_type": "code",
   "execution_count": 53,
   "metadata": {},
   "outputs": [
    {
     "name": "stdout",
     "output_type": "stream",
     "text": [
      "The result of multiplication is: 12\n",
      "The result of division is: 5.0\n",
      "The result of floor division is: 3\n",
      "The result of modulus is: 1\n",
      "The result of exponentiation is: 8\n"
     ]
    }
   ],
   "source": [
    "# Multiplication\n",
    "result_multiplication = 6 * 2\n",
    "\n",
    "# we can add multiple print statements in a single line by separating them with a comma\n",
    "print(\"The result of multiplication is:\", result_multiplication)  # here we are printing the text and the result of multiplication in a single print statement\n",
    "\n",
    "# Division\n",
    "result_division = 10 / 2\n",
    "print(\"The result of division is:\", result_division)\n",
    "\n",
    "# Floor Division\n",
    "result_floor_division = 10 // 3\n",
    "print(\"The result of floor division is:\", result_floor_division)\n",
    "\n",
    "# Modulus\n",
    "result_modulus = 10 % 3\n",
    "print(\"The result of modulus is:\", result_modulus)\n",
    "\n",
    "# Exponentiation\n",
    "result_exponentiation = 2 ** 3\n",
    "print(\"The result of exponentiation is:\", result_exponentiation)\n"
   ]
  },
  {
   "cell_type": "markdown",
   "metadata": {},
   "source": [
    "#### Tip:\n",
    "\n",
    "It's important to note that Python follows the order of operations (PEMDAS) when evaluating expressions. This means that calculations inside parentheses are performed first, followed by exponentiation, multiplication and division, and finally addition and subtraction.\n",
    "\n",
    "For more information on PEMDAS, refer to the following link : [PEMDAS](https://www.mathsisfun.com/operation-order-pemdas.html) and [Python Documentation](https://docs.python.org/3/reference/expressions.html#operator-precedence)"
   ]
  },
  {
   "cell_type": "code",
   "execution_count": 54,
   "metadata": {},
   "outputs": [
    {
     "name": "stdout",
     "output_type": "stream",
     "text": [
      "Result using Order of Operations: 14.0\n"
     ]
    }
   ],
   "source": [
    "# Order of operations\n",
    "result_order_of_operations = (3 + 5) * 2 - 4 / 2\n",
    "print(\"Result using Order of Operations:\", result_order_of_operations)\n"
   ]
  },
  {
   "cell_type": "markdown",
   "metadata": {},
   "source": [
    "--- \n",
    "\n",
    "---\n",
    "\n",
    "\n",
    "# Types of Variables in Python\n",
    "\n",
    "---\n",
    "\n",
    "---\n",
    "\n",
    "### Variables and Data Types in Python\n",
    "\n",
    "### Variables:\n",
    "In Python, variables are used to store and manage data. A variable is like a container that holds a value, and it can be assigned a different value at any time during the program. Variable names are case-sensitive and must start with a letter or underscore.\n",
    "\n",
    "### Data Types:\n",
    "Python has several built-in data types, each serving a specific purpose. The three fundamental data types we'll explore here are `int` (integer), `float` (floating-point), and `str` (string).\n",
    "\n",
    "### Introduction to Data Types:\n",
    "Let's delve into a brief introduction to each data type with some code examples.\n"
   ]
  },
  {
   "cell_type": "markdown",
   "metadata": {},
   "source": [
    "#### Integer\n",
    "\n",
    "Integer:\n",
    "\n",
    "- Integer, often shortened as int, is a data type in Python that is used to represent whole numbers, i.e., numbers without a fractional component.\n",
    "\n",
    "- Integers in Python can be of any length, it is only limited by the amount of memory your system has.\n",
    "\n",
    "Here's an example of an integer:\n",
    "\n",
    "```python\n",
    "age = 25\n",
    "```\n",
    "\n",
    "In this example, `25` is an integer representing a person's age.\n",
    "\n",
    "You can perform mathematical operations with integers:\n",
    "\n",
    "```python\n",
    "a = 10\n",
    "b = 5\n",
    "sum = a + b\n",
    "print(sum)  # Output: 15\n",
    "```\n",
    "\n",
    "In this example, the sum of two integers is calculated.\n",
    "\n",
    "Python supports various forms of integers, including binary, octal, and hexadecimal:\n",
    "\n",
    "```python\n",
    "# binary\n",
    "binary_num = 0b1010  # Represents the binary number 1010, which is 10 in decimal\n",
    "print(binary_num)  # Output: 10\n",
    "\n",
    "# octal\n",
    "octal_num = 0o12  # Represents the octal number 12, which is 10 in decimal\n",
    "print(octal_num)  # Output: 10\n",
    "\n",
    "# hexadecimal\n",
    "hex_num = 0xA  # Represents the hexadecimal number A, which is 10 in decimal\n",
    "print(hex_num)  # Output: 10\n",
    "```\n",
    "\n",
    "In these examples, different forms of integers are represented and printed."
   ]
  },
  {
   "cell_type": "code",
   "execution_count": 55,
   "metadata": {},
   "outputs": [
    {
     "name": "stdout",
     "output_type": "stream",
     "text": [
      "Age: 25\n"
     ]
    }
   ],
   "source": [
    "\n",
    "# Integer variable\n",
    "age = 25\n",
    "print(\"Age:\", age)"
   ]
  },
  {
   "cell_type": "markdown",
   "metadata": {},
   "source": [
    "#### Float\n",
    "\n",
    "\n",
    "- Float, or floating point number is a data type that is used in Python to store decimal numbers. Floats can represent real numbers, like the results of mathematical operations that don't result in an integer.\n",
    "\n",
    "- Floats in Python are created by including a decimal point in the number, or by using scientific notation.\n",
    "\n",
    "Here's an example of a float:\n",
    "\n",
    "```python\n",
    "pi = 3.14159\n",
    "```\n",
    "\n",
    "In this example, `3.14159` is a float representing an approximation of the mathematical constant pi.\n",
    "\n",
    "You can perform mathematical operations with floats:\n",
    "\n",
    "```python\n",
    "radius = 5.0\n",
    "area = pi * (radius ** 2)\n",
    "print(area)  # Output: 78.53975\n",
    "```\n",
    "\n",
    "In this example, the area of a circle is calculated using the formula `pi * r^2`, where `r` is the radius of the circle. The result is a float.\n",
    "\n",
    "Python also supports scientific notation, which is a way of representing very large or very small numbers using powers of 10:\n",
    "\n",
    "```python\n",
    "speed_of_light = 3.0e8  # This represents 3.0 * 10^8\n",
    "```\n",
    "\n",
    "In this example, `3.0e8` is a float representing the speed of light in meters per second.\n",
    "\n",
    "Floats in Python can be rounded to a certain number of decimal places using the `round()` function:\n",
    "\n",
    "```python\n",
    "rounded_pi = round(pi, 2)\n",
    "print(rounded_pi)  # Output: 3.14\n",
    "```\n",
    "\n",
    "In this example, the `round()` function is used to round pi to two decimal places."
   ]
  },
  {
   "cell_type": "code",
   "execution_count": 56,
   "metadata": {},
   "outputs": [
    {
     "name": "stdout",
     "output_type": "stream",
     "text": [
      "Height: 5.9\n"
     ]
    }
   ],
   "source": [
    "# Float variable\n",
    "height = 5.9\n",
    "print(\"Height:\", height)\n"
   ]
  },
  {
   "cell_type": "markdown",
   "metadata": {},
   "source": [
    "#### String\n",
    "\n",
    "- Strings in Python are a type of data structure that are used for storing text data. They are created by enclosing characters in quotes. Python treats single quotes the same as double quotes.\n",
    "\n",
    "- Strings are ordered sequences of characters. This means that we can use the index to access individual characters of a string. Python uses zero-based indexing, meaning that the first character has an index of 0.\n",
    "\n",
    "Here's an example of a string:\n",
    "\n",
    "```python\n",
    "greeting = \"Hello, World!\"\n",
    "```\n",
    "\n",
    "In this string, `\"Hello, World!\"` is the text data stored in the string. You can access the characters in a string by referring to their index number:\n",
    "\n",
    "```python\n",
    "print(greeting[0])  # Output: H\n",
    "```\n",
    "\n",
    "Strings in Python are immutable. This means that once a string is created, it cannot be changed. Any operation that seems to change the string will actually create a new string.\n",
    "\n",
    "```python\n",
    "greeting[1] = \"a\"  # Raises a TypeError\n",
    "```\n",
    "\n",
    "In this example, trying to change the second character of the string raises a `TypeError`.\n",
    "\n",
    "You can determine how many characters a string has by using the `len()` function:\n",
    "\n",
    "```python\n",
    "print(len(greeting))  # Output: 13\n",
    "```\n",
    "\n",
    "Strings in Python can be formatted for output using either the `format()` method, f-strings, or string interpolation. They can also be concatenated (joined) or replicated (repeated) using the `+` and `*` operators respectively."
   ]
  },
  {
   "cell_type": "code",
   "execution_count": 57,
   "metadata": {},
   "outputs": [
    {
     "name": "stdout",
     "output_type": "stream",
     "text": [
      "Name: John\n"
     ]
    }
   ],
   "source": [
    "# String variable\n",
    "name = \"John\"\n",
    "print(\"Name:\", name)\n"
   ]
  },
  {
   "cell_type": "markdown",
   "metadata": {},
   "source": [
    "\n",
    "#### List:\n",
    "\n",
    "- Lists in Python are a type of data structure that allow you to store multiple items in a single variable. Lists are one of four built-in data types in Python used to store collections of data, the other three are Tuple, Set, and Dictionary, all with different qualities and usage.\n",
    "\n",
    "- Lists are ordered. This means that the items have a defined order, and that order will not change. If you add new items to a list, the new items will be placed at the end of the list.\n",
    "\n",
    "- List items are indexed and you can access them by referring to the index number. Python uses zero-based indexing, meaning that the first item has an index of 0.\n",
    "\n",
    "Here's an example of a list:\n",
    "\n",
    "```python\n",
    "fruits = [\"apple\", \"banana\", \"cherry\"]\n",
    "```\n",
    "\n",
    "In this list, `\"apple\"`, `\"banana\"`, and `\"cherry\"` are the items of the list. You can access the items in a list by referring to their index number:\n",
    "\n",
    "```python\n",
    "print(fruits[0])  # Output: apple\n",
    "```\n",
    "\n",
    "Lists are mutable, which means that you can change their content:\n",
    "\n",
    "```python\n",
    "fruits[1] = \"blackcurrant\"\n",
    "print(fruits)  # Output: ['apple', 'blackcurrant', 'cherry']\n",
    "```\n",
    "\n",
    "In this example, the second item's value has been changed from `\"banana\"` to `\"blackcurrant\"`.\n",
    "\n",
    "You can determine how many items a list has by using the `len()` function:\n",
    "\n",
    "```python\n",
    "print(len(fruits))  # Output: 3\n",
    "```"
   ]
  },
  {
   "cell_type": "code",
   "execution_count": 58,
   "metadata": {},
   "outputs": [
    {
     "name": "stdout",
     "output_type": "stream",
     "text": [
      "Numbers: [1, 2, 3, 4, 5]\n"
     ]
    }
   ],
   "source": [
    "# List variable\n",
    "numbers = [1, 2, 3, 4, 5]\n",
    "print(\"Numbers:\", numbers)\n"
   ]
  },
  {
   "cell_type": "markdown",
   "metadata": {},
   "source": [
    "#### Tuple:\n",
    "\n",
    "\n",
    "- Tuples in Python are a type of data structure that are used for holding multiple pieces of data. They are similar to lists in that they can hold multiple, different types of data. However, unlike lists, tuples are immutable. This means that once a tuple is created, it cannot be changed - you cannot add, remove, or modify elements in the tuple.\n",
    "\n",
    "- Tuples are ordered. This means that the items have a defined order, and that order will not change. \n",
    "\n",
    "- Tuple items are indexed and you can access them by referring to the index number. Python uses zero-based indexing, meaning that the first item has an index of 0.\n",
    "\n",
    "Here's an example of a tuple:\n",
    "\n",
    "```python\n",
    "fruits = (\"apple\", \"banana\", \"cherry\")\n",
    "```\n",
    "\n",
    "In this tuple, `\"apple\"`, `\"banana\"`, and `\"cherry\"` are the items of the tuple. You can access the items in a tuple by referring to their index number:\n",
    "\n",
    "```python\n",
    "print(fruits[0])  # Output: apple\n",
    "```\n",
    "\n",
    "As mentioned, tuples are immutable. If you try to change an item in a tuple, Python will raise a `TypeError`:\n",
    "\n",
    "```python\n",
    "fruits[1] = \"blackcurrant\"  # Raises a TypeError\n",
    "```\n",
    "\n",
    "You can determine how many items a tuple has by using the `len()` function:\n",
    "\n",
    "```python\n",
    "print(len(fruits))  # Output: 3\n",
    "```\n",
    "\n",
    "Even though tuples are quite similar to lists, they are often used in different situations and for different purposes. Tuples are used to store multiple items in a single variable and are used for things that shouldn't be changed, such as days of the week, or dates on a calendar."
   ]
  },
  {
   "cell_type": "code",
   "execution_count": 59,
   "metadata": {},
   "outputs": [
    {
     "name": "stdout",
     "output_type": "stream",
     "text": [
      "Coordinates: (3.5, 7.2)\n"
     ]
    }
   ],
   "source": [
    "# Tuple variable\n",
    "coordinates = (3.5, 7.2)\n",
    "print(\"Coordinates:\", coordinates)\n"
   ]
  },
  {
   "cell_type": "markdown",
   "metadata": {},
   "source": [
    "####  Dictionary:\n",
    "\n",
    "- Dictionaries in Python are a type of data structure that allow you to store data in key-value pairs. The 'key' is used to identify the item and the 'value' holds as the name suggests, the value of the item.\n",
    "\n",
    "- Dictionaries are unordered. This means that the items in the dictionary are stored in no particular order. You can't assume that the order in which you add items to the dictionary will be the same order they'll be outputted when you iterate over the dictionary.\n",
    "\n",
    "- Each key in a dictionary must be unique. If you try to add an item with a key that already exists in the dictionary, the new item will overwrite the existing item. This is because the keys act like identifiers for their corresponding values.\n",
    "\n",
    "Here's an example of a dictionary:\n",
    "\n",
    "```python\n",
    "student = {\n",
    "    \"name\": \"John Doe\",\n",
    "    \"age\": 20,\n",
    "    \"courses\": [\"Math\", \"Science\"]\n",
    "}\n",
    "```\n",
    "\n",
    "In this example, the keys are `name`, `age`, and `courses`. The values are `John Doe`, `20`, and `[\"Math\", \"Science\"]` respectively. You can access the items in a dictionary by their keys:\n",
    "\n",
    "```python\n",
    "print(student[\"name\"])  # Output: John Doe\n",
    "```\n",
    "\n",
    "If you try to access a key that doesn't exist in the dictionary, Python will raise a `KeyError`. To avoid this, you can use the `get` method, which returns `None` if the key doesn't exist:\n",
    "\n",
    "```python\n",
    "print(student.get(\"grade\"))  # Output: None\n",
    "```"
   ]
  },
  {
   "cell_type": "code",
   "execution_count": 60,
   "metadata": {},
   "outputs": [
    {
     "name": "stdout",
     "output_type": "stream",
     "text": [
      "Person: {'name': 'Alice', 'age': 30, 'city': 'Wonderland'}\n"
     ]
    }
   ],
   "source": [
    "# Dictionary variable\n",
    "person = {\"name\": \"Alice\", \"age\": 30, \"city\": \"Wonderland\"}\n",
    "print(\"Person:\", person)\n"
   ]
  },
  {
   "cell_type": "markdown",
   "metadata": {},
   "source": [
    "---\n",
    "\n",
    "---\n",
    "\n",
    "# Type Conversion and Type Checking in Python\n",
    "\n",
    "---\n",
    "\n",
    "---\n",
    "\n",
    "#### Dynamic Typing in Python\n",
    "\n",
    "Python is a dynamically typed language, which means that the type of a variable is checked during runtime. This is different from statically typed languages, where the type of a variable is checked at compile time. In Python, you can assign different types of data to the same variable. Here's an example:\n",
    "\n"
   ]
  },
  {
   "cell_type": "code",
   "execution_count": 61,
   "metadata": {},
   "outputs": [],
   "source": [
    "var = 10  # var is an integer\n",
    "var = \"Hello World\"  # var is now a string"
   ]
  },
  {
   "cell_type": "markdown",
   "metadata": {},
   "source": [
    "#### Explicit Type Conversion in Python\n",
    "\n",
    "In Python, you can explicitly convert or cast types using built-in functions like `int()`, `float()`, and `str()`. This is known as explicit type conversion or type casting. Here's an example:"
   ]
  },
  {
   "cell_type": "code",
   "execution_count": 62,
   "metadata": {},
   "outputs": [
    {
     "name": "stdout",
     "output_type": "stream",
     "text": [
      "10\n"
     ]
    }
   ],
   "source": [
    "num = 10.5\n",
    "print(int(num))  # Output: 10"
   ]
  },
  {
   "cell_type": "markdown",
   "metadata": {},
   "source": [
    "#### Implicit Type Conversion in Python\n",
    "\n",
    "Python also supports implicit type conversion, also known as type coercion. This is when Python automatically converts one data type to another without the programmer explicitly asking for this conversion. Here's an example:"
   ]
  },
  {
   "cell_type": "code",
   "execution_count": 63,
   "metadata": {},
   "outputs": [
    {
     "name": "stdout",
     "output_type": "stream",
     "text": [
      "124.23\n"
     ]
    }
   ],
   "source": [
    "num_int = 123  # An integer\n",
    "num_flt = 1.23  # A floating-point number\n",
    "\n",
    "# Python automatically converts integer to float\n",
    "num_new = num_int + num_flt\n",
    "\n",
    "print(num_new)  # Output: 124.23"
   ]
  },
  {
   "cell_type": "markdown",
   "metadata": {},
   "source": [
    "#### Limitations of Type Conversion in Python\n",
    "\n",
    "Not all types can be converted to other types. For example, you cannot convert a string that does not represent a number into an integer or a float. Trying to do so will raise a `ValueError`. Here's an example:"
   ]
  },
  {
   "cell_type": "code",
   "execution_count": 64,
   "metadata": {},
   "outputs": [
    {
     "ename": "ValueError",
     "evalue": "invalid literal for int() with base 10: 'Hello'",
     "output_type": "error",
     "traceback": [
      "\u001b[0;31m---------------------------------------------------------------------------\u001b[0m",
      "\u001b[0;31mValueError\u001b[0m                                Traceback (most recent call last)",
      "Cell \u001b[0;32mIn[64], line 2\u001b[0m\n\u001b[1;32m      1\u001b[0m str_val \u001b[38;5;241m=\u001b[39m \u001b[38;5;124m\"\u001b[39m\u001b[38;5;124mHello\u001b[39m\u001b[38;5;124m\"\u001b[39m\n\u001b[0;32m----> 2\u001b[0m \u001b[38;5;28mprint\u001b[39m(\u001b[38;5;28;43mint\u001b[39;49m\u001b[43m(\u001b[49m\u001b[43mstr_val\u001b[49m\u001b[43m)\u001b[49m)  \u001b[38;5;66;03m# Raises ValueError: invalid literal for int() with base 10: 'Hello'\u001b[39;00m\n",
      "\u001b[0;31mValueError\u001b[0m: invalid literal for int() with base 10: 'Hello'"
     ]
    }
   ],
   "source": [
    "str_val = \"Hello\"\n",
    "print(int(str_val))  # Raises ValueError: invalid literal for int() with base 10: 'Hello'"
   ]
  },
  {
   "cell_type": "markdown",
   "metadata": {},
   "source": [
    "### Checking Type with `type()`\n",
    "\n",
    "In Python, you can check the type of a variable using the `type()` function. This function returns the type of the object. Here's an example:"
   ]
  },
  {
   "cell_type": "code",
   "execution_count": null,
   "metadata": {},
   "outputs": [],
   "source": [
    "num = 10.5\n",
    "print(type(num))  # Output: <class 'float'>"
   ]
  },
  {
   "cell_type": "markdown",
   "metadata": {},
   "source": [
    "#### Checking Type with `isinstance()`\n",
    "\n",
    "Python also provides the `isinstance()` function, which checks if an object is of a certain type and returns `True` or `False`. The difference between `type()` and `isinstance()` is that `type()` does not consider inheritance, while `isinstance()` does. Here's an example:"
   ]
  },
  {
   "cell_type": "code",
   "execution_count": null,
   "metadata": {},
   "outputs": [],
   "source": [
    "class Polygon:\n",
    "    pass\n",
    "\n",
    "class Rectangle(Polygon):\n",
    "    pass\n",
    "\n",
    "rect = Rectangle()\n",
    "\n",
    "print(isinstance(rect, Rectangle))  # Output: True\n",
    "print(isinstance(rect, Polygon))  # Output: True\n",
    "print(type(rect) is Polygon)  # Output: False"
   ]
  },
  {
   "cell_type": "markdown",
   "metadata": {},
   "source": [
    "#### Tip for advanced users:\n",
    "\n",
    "The difference between `type()` and `isinstance()` is that `type()` does not consider inheritance, while `isinstance()` does. This means that `isinstance()` can be used to check if an object is of a certain type, or a subclass of that type. However, `type()` cannot be used to check subclasses.\n",
    "\n",
    "For Eg:\n",
    "\n",
    "```python\n",
    "class A:\n",
    "    pass\n",
    "\n",
    "class B(A):\n",
    "    pass\n",
    "\n",
    "print(isinstance(B(), A))  # Output: True\n",
    "print(type(B()) == A)  # Output: False\n",
    "```\n"
   ]
  },
  {
   "cell_type": "markdown",
   "metadata": {},
   "source": [
    "---\n",
    "\n",
    "---\n",
    "\n",
    "# Operators in Python\n",
    "\n",
    "---\n",
    "\n",
    "---\n",
    "\n",
    "### Operators in Python\n",
    "\n",
    "Operators are special symbols in Python that carry out arithmetic or logical computation. The value that the operator operates on is called the operand. Operators can manipulate individual items and returns a result. The data items are referred as operands or arguments. Operators are represented by special characters or by keywords and provide a way to perform various operations. For example, the `+` operator can be used to add two numbers (3 + 4 = 7) or concatenate two strings (\"Hello\" + \"World\" = \"Hello World\")."
   ]
  },
  {
   "cell_type": "markdown",
   "metadata": {},
   "source": [
    "#### Arithmetic Operators\n",
    "\n",
    "Arithmetic operators are used to perform mathematical operations like addition (`+`), subtraction (`-`), multiplication (`*`), division (`/`), modulus (`%`), exponentiation (`**`), and floor division (`//`). They operate on numerical values and can perform operations on integers, floats, and complex numbers. Let's explore some examples of arithmetic operators."
   ]
  },
  {
   "cell_type": "code",
   "execution_count": null,
   "metadata": {},
   "outputs": [],
   "source": [
    "a = 10\n",
    "b = 20\n",
    "\n",
    "# Addition\n",
    "print(a + b)  # Output: 30\n",
    "\n",
    "# Subtraction\n",
    "print(a - b)  # Output: -10\n",
    "\n",
    "# Multiplication\n",
    "print(a * b)  # Output: 200\n",
    "\n",
    "# Division\n",
    "print(a / b)  # Output: 0.5\n",
    "\n",
    "# Floor Division\n",
    "print(a // b)  # Output: 0\n",
    "\n",
    "# Modulus\n",
    "print(a % b)  # Output: 10\n",
    "\n",
    "# Exponentiation\n",
    "print(a ** b)  # Output: 100000000000000000000\n",
    "\n"
   ]
  },
  {
   "cell_type": "markdown",
   "metadata": {},
   "source": [
    "#### Comparison Operators\n",
    "\n",
    "Comparison operators are used to compare values. It either returns True or False according to the condition. These operators include equal to (`==`), not equal to (`!=`), less than (`<`), less than or equal to (`<=`), greater than (`>`), and greater than or equal to (`>=`). They are used in conditional statements for decision making and loops. "
   ]
  },
  {
   "cell_type": "code",
   "execution_count": null,
   "metadata": {},
   "outputs": [],
   "source": [
    "a = 10\n",
    "b = 20\n",
    "\n",
    "# Equal to\n",
    "print(a == b)  # Output: False\n",
    "\n",
    "# Not equal to\n",
    "print(a != b)  # Output: True\n",
    "\n",
    "# Less than\n",
    "print(a < b)  # Output: True\n",
    "\n",
    "# Greater than\n",
    "print(a > b)  # Output: False"
   ]
  },
  {
   "cell_type": "markdown",
   "metadata": {},
   "source": [
    "#### Logical Operators\n",
    "\n",
    "Logical operators are the `and`, `or`, `not` operators. They are used to combine conditional statements. The `and` operator returns `True` if both the operands are true. The `or` operator returns `True` if either of the operands is true. The `not` operator returns `True` if the operand is false and `False` if the operand is true. Let's explore some examples of logical operators."
   ]
  },
  {
   "cell_type": "code",
   "execution_count": null,
   "metadata": {},
   "outputs": [],
   "source": [
    "a = True\n",
    "b = False\n",
    "\n",
    "# and operator\n",
    "print(a and b)  # Output: False\n",
    "\n",
    "# or operator\n",
    "print(a or b)  # Output: True\n",
    "\n",
    "# not operator\n",
    "print(not a)  # Output: False"
   ]
  },
  {
   "cell_type": "markdown",
   "metadata": {},
   "source": [
    "#### Bitwise Operators\n",
    "\n",
    "Bitwise operators act on operands as if they were strings of binary digits. They operate bit by bit. Bitwise operators include bitwise AND (`&`), bitwise OR (`|`), bitwise NOT (`~`), bitwise XOR (`^`), left shift (`<<`), and right shift (`>>`). These operators are used to perform operations on binary representations of integers."
   ]
  },
  {
   "cell_type": "code",
   "execution_count": null,
   "metadata": {},
   "outputs": [
    {
     "name": "stdout",
     "output_type": "stream",
     "text": [
      "0\n",
      "14\n",
      "-11\n",
      "14\n"
     ]
    }
   ],
   "source": [
    "a = 10  # binary: 1010\n",
    "b = 4   # binary: 0100\n",
    "\n",
    "# bitwise AND\n",
    "print(a & b)  # Output: 0\n",
    "\n",
    "# bitwise OR\n",
    "print(a | b)  # Output: 14\n",
    "\n",
    "# bitwise NOT\n",
    "print(~a)  # Output: -11\n",
    "\n",
    "# bitwise XOR\n",
    "print(a ^ b)  # Output: 14"
   ]
  },
  {
   "cell_type": "markdown",
   "metadata": {},
   "source": [
    "The use of bit-wise operators may seem new to the average Python programmer. However, they are used in various applications, including encryption, compression, graphics, communications, and image processing.  This article provides more information on the real-world applications of bitwise operators.\n",
    "[stackoverflow](https://stackoverflow.com/questions/2096916/real-world-use-cases-of-bitwise-operators)"
   ]
  },
  {
   "cell_type": "markdown",
   "metadata": {},
   "source": [
    "---\n",
    "\n",
    "---\n",
    "\n",
    "# Commonly used built-in functions in Python\n",
    "\n",
    "---\n",
    "\n",
    "---"
   ]
  },
  {
   "cell_type": "markdown",
   "metadata": {},
   "source": [
    "--- \n",
    "\n",
    "## Numeric Variables\n",
    "---\n",
    "Numeric variables in Python are used to store numerical values and come in two main types: integers and floating-point numbers.\n",
    "\n",
    "### Integer Variables\n",
    "\n",
    "An integer variable holds whole numbers without any decimal points. It can be positive or negative.\n",
    "\n",
    "\n",
    "\n",
    "```python\n",
    "# Integer Variable\n",
    "age = 25\n",
    "\n",
    "print(f\"Age: {age}\")\n",
    "```\n",
    "\n",
    "### Floating-Point Variables\n",
    "\n",
    "A floating-point variable holds decimal numbers. It can also be positive or negative.\n",
    "\n",
    "```python\n",
    "# Floating-Point Variable\n",
    "# Height in meters\n",
    "height = 1.75\n",
    "\n",
    "print(f\"Height: {height}\")\n",
    "```"
   ]
  },
  {
   "cell_type": "code",
   "execution_count": null,
   "metadata": {},
   "outputs": [
    {
     "name": "stdout",
     "output_type": "stream",
     "text": [
      "Sum: 13\n",
      "Difference: 7\n",
      "Product: 30\n",
      "Division: 3.3333333333333335\n"
     ]
    }
   ],
   "source": [
    "\n",
    "a = 10\n",
    "b = 3\n",
    "\n",
    "sum_result = a + b\n",
    "difference_result = a - b\n",
    "product_result = a * b\n",
    "division_result = a / b\n",
    "\n",
    "print(f\"Sum: {sum_result}\")\n",
    "print(f\"Difference: {difference_result}\")\n",
    "print(f\"Product: {product_result}\")\n",
    "print(f\"Division: {division_result}\")\n"
   ]
  },
  {
   "cell_type": "markdown",
   "metadata": {},
   "source": [
    "---\n",
    "\n",
    "## Boolean Variables \n",
    "---\n",
    "\n",
    "\n",
    "\n",
    "Boolean variables in Python are used to represent logical values. They can have only two values: `True` or `False`.\n",
    "\n",
    "\n",
    "\n",
    "Boolean variables are commonly used in conditional statements and logical operations.\n",
    "\n"
   ]
  },
  {
   "cell_type": "code",
   "execution_count": null,
   "metadata": {},
   "outputs": [
    {
     "name": "stdout",
     "output_type": "stream",
     "text": [
      "Is Python Fun? True\n",
      "Is Learning Python? False\n"
     ]
    }
   ],
   "source": [
    "# Boolean Variables\n",
    "is_python_fun = True\n",
    "is_learning = False\n",
    "\n",
    "print(f\"Is Python Fun? {is_python_fun}\")\n",
    "print(f\"Is Learning Python? {is_learning}\")"
   ]
  },
  {
   "cell_type": "markdown",
   "metadata": {},
   "source": [
    "**Logical Operations**\n",
    "Boolean variables support logical operations such as AND (and), OR (or), and NOT (not)."
   ]
  },
  {
   "cell_type": "code",
   "execution_count": null,
   "metadata": {},
   "outputs": [
    {
     "name": "stdout",
     "output_type": "stream",
     "text": [
      "AND Result: False\n",
      "OR Result: True\n",
      "NOT Result: False\n"
     ]
    }
   ],
   "source": [
    "# Logical Operations with Boolean Variables\n",
    "first_condition = True\n",
    "second_condition = False\n",
    "\n",
    "and_result = first_condition and second_condition\n",
    "or_result = first_condition or second_condition\n",
    "not_result = not first_condition\n",
    "\n",
    "print(f\"AND Result: {and_result}\")\n",
    "print(f\"OR Result: {or_result}\")\n",
    "print(f\"NOT Result: {not_result}\")"
   ]
  },
  {
   "cell_type": "markdown",
   "metadata": {},
   "source": [
    "--- \n",
    "\n",
    "## String Variables\n",
    "\n",
    "---\n",
    "\n",
    "String variables in Python are used to store text values. They are created by enclosing text in single or double quotes.\n"
   ]
  },
  {
   "cell_type": "code",
   "execution_count": null,
   "metadata": {},
   "outputs": [
    {
     "name": "stdout",
     "output_type": "stream",
     "text": [
      "Hello, John\n"
     ]
    }
   ],
   "source": [
    "# String Variables\n",
    "name = \"John\"\n",
    "greeting = 'Hello, '\n",
    "\n",
    "print(greeting + name)"
   ]
  },
  {
   "cell_type": "markdown",
   "metadata": {},
   "source": [
    "### Basic String Operations\n",
    "\n",
    "Some of the basic operations that can be performed on strings include:\n",
    "\n",
    "#### String Concatenation\n",
    "In Python, you can use the `+` operator to concatenate two strings."
   ]
  },
  {
   "cell_type": "code",
   "execution_count": null,
   "metadata": {},
   "outputs": [
    {
     "name": "stdout",
     "output_type": "stream",
     "text": [
      "Hello World\n"
     ]
    }
   ],
   "source": [
    "str1 = \"Hello\"\n",
    "str2 = \"World\"\n",
    "str3 = str1 + \" \" + str2\n",
    "print(str3)  # Outputs: Hello World"
   ]
  },
  {
   "cell_type": "markdown",
   "metadata": {},
   "source": [
    "#### String Repetition\n",
    "\n",
    "You can use the `*` operator to repeat a string a given number of times."
   ]
  },
  {
   "cell_type": "code",
   "execution_count": null,
   "metadata": {},
   "outputs": [
    {
     "name": "stdout",
     "output_type": "stream",
     "text": [
      "HelloHelloHello\n"
     ]
    }
   ],
   "source": [
    "str1 = \"Hello\"\n",
    "str2 = str1 * 3\n",
    "print(str2)  # Outputs: HelloHelloHello"
   ]
  },
  {
   "cell_type": "markdown",
   "metadata": {},
   "source": [
    "#### String Slicing\n",
    "\n",
    "You can use the `[]` operator to access individual characters in a string. This is called string indexing.\n"
   ]
  },
  {
   "cell_type": "code",
   "execution_count": null,
   "metadata": {},
   "outputs": [
    {
     "name": "stdout",
     "output_type": "stream",
     "text": [
      "H\n",
      "e\n",
      "l\n",
      "l\n",
      "o\n"
     ]
    }
   ],
   "source": [
    "str1 = \"Hello\"\n",
    "print(str1[0])  # Outputs: H\n",
    "print(str1[1])  # Outputs: e\n",
    "print(str1[2])  # Outputs: l\n",
    "print(str1[3])  # Outputs: l\n",
    "print(str1[4])  # Outputs: o"
   ]
  },
  {
   "cell_type": "markdown",
   "metadata": {},
   "source": [
    "You can also use negative indices to access characters from the end of the string."
   ]
  },
  {
   "cell_type": "code",
   "execution_count": null,
   "metadata": {},
   "outputs": [
    {
     "name": "stdout",
     "output_type": "stream",
     "text": [
      "o\n",
      "l\n",
      "l\n",
      "e\n",
      "H\n"
     ]
    }
   ],
   "source": [
    "str1 = \"Hello\"\n",
    "print(str1[-1])  # Outputs: o\n",
    "print(str1[-2])  # Outputs: l\n",
    "print(str1[-3])  # Outputs: l\n",
    "print(str1[-4])  # Outputs: e\n",
    "print(str1[-5])  # Outputs: H"
   ]
  },
  {
   "cell_type": "markdown",
   "metadata": {},
   "source": [
    "You can also use the `[]` operator to access a substring from a string. This is called string slicing."
   ]
  },
  {
   "cell_type": "code",
   "execution_count": null,
   "metadata": {},
   "outputs": [
    {
     "name": "stdout",
     "output_type": "stream",
     "text": [
      "Hello\n",
      "World\n"
     ]
    }
   ],
   "source": [
    "str1 = \"Hello World\"\n",
    "print(str1[0:5])  # Outputs: Hello\n",
    "print(str1[6:11])  # Outputs: World"
   ]
  },
  {
   "cell_type": "markdown",
   "metadata": {},
   "source": [
    "#### String Length\n",
    "\n",
    "You can use the `len()` function to get the length of a string."
   ]
  },
  {
   "cell_type": "code",
   "execution_count": null,
   "metadata": {},
   "outputs": [
    {
     "name": "stdout",
     "output_type": "stream",
     "text": [
      "11\n"
     ]
    }
   ],
   "source": [
    "str1 = \"Hello World\"\n",
    "print(len(str1))  # Outputs: 11"
   ]
  },
  {
   "cell_type": "markdown",
   "metadata": {},
   "source": [
    "#### String Formatting\n",
    "\n",
    "we can use f-strings to format strings in Python. An f-string is a string prefixed with `f` or `F` that contains expressions inside braces `{}`. The expressions are replaced with their values."
   ]
  },
  {
   "cell_type": "code",
   "execution_count": null,
   "metadata": {},
   "outputs": [
    {
     "name": "stdout",
     "output_type": "stream",
     "text": [
      "Name: John, Age: 25, Height: 1.75\n"
     ]
    }
   ],
   "source": [
    "name = \"John\"\n",
    "age = 25\n",
    "height = 1.75\n",
    "\n",
    "print(f\"Name: {name}, Age: {age}, Height: {height}\")"
   ]
  },
  {
   "cell_type": "markdown",
   "metadata": {},
   "source": [
    "f-strings can also be used to perform precise formatting of numbers such as integers and floating-point numbers.\n"
   ]
  },
  {
   "cell_type": "code",
   "execution_count": null,
   "metadata": {},
   "outputs": [
    {
     "name": "stdout",
     "output_type": "stream",
     "text": [
      "Number: 1234.5678\n",
      "Number: 1234.57\n",
      "Number:    1234.57\n"
     ]
    }
   ],
   "source": [
    "# Formatting Floating-Point Numbers\n",
    "num = 1234.5678\n",
    "print(f\"Number: {num}\")  # Outputs: Number: 1234.5678\n",
    "print(f\"Number: {num:.2f}\")  # Outputs: Number: 1234.57\n",
    "print(f\"Number: {num:10.2f}\")  # Outputs: Number:    1234.57"
   ]
  },
  {
   "cell_type": "markdown",
   "metadata": {},
   "source": [
    "f-strings can also be used to deceide the width of the string to be printed. So these can be used to generate outputs in pretty table format."
   ]
  },
  {
   "cell_type": "code",
   "execution_count": null,
   "metadata": {},
   "outputs": [
    {
     "name": "stdout",
     "output_type": "stream",
     "text": [
      "Name     Age  Occupation\n",
      "Alice    25   Engineer\n",
      "Bob      30   Doctor  \n",
      "Charlie  35   Teacher \n"
     ]
    }
   ],
   "source": [
    "# Define some data\n",
    "data = [\n",
    "    {\"Name\": \"Alice\", \"Age\": 25, \"Occupation\": \"Engineer\"},\n",
    "    {\"Name\": \"Bob\", \"Age\": 30, \"Occupation\": \"Doctor\"},\n",
    "    {\"Name\": \"Charlie\", \"Age\": 35, \"Occupation\": \"Teacher\"},\n",
    "]\n",
    "\n",
    "# Define the width for each column\n",
    "widths = {\n",
    "    \"Name\": max(len(x[\"Name\"]) for x in data),\n",
    "    \"Age\": 3,  # Age will be a number, so we can just set this to 3\n",
    "    \"Occupation\": max(len(x[\"Occupation\"]) for x in data),\n",
    "}\n",
    "\n",
    "# Print the header\n",
    "print(f\"{'Name':<{widths['Name']}}  {'Age':<{widths['Age']}}  {'Occupation':<{widths['Occupation']}}\")\n",
    "\n",
    "# Print the data\n",
    "for row in data:\n",
    "    print(f\"{row['Name']:<{widths['Name']}}  {row['Age']:<{widths['Age']}}  {row['Occupation']:<{widths['Occupation']}}\")"
   ]
  },
  {
   "cell_type": "markdown",
   "metadata": {},
   "source": [
    "Python provides a number of built-in methods for working with strings. Here are some of the most commonly used string methods:"
   ]
  },
  {
   "cell_type": "code",
   "execution_count": null,
   "metadata": {},
   "outputs": [
    {
     "name": "stdout",
     "output_type": "stream",
     "text": [
      "HELLO WORLD\n",
      "hello world\n",
      "Hello world\n",
      "Hello Universe\n",
      "True\n",
      "True\n",
      "True\n",
      "['Hello', 'World']\n",
      "Hello World\n"
     ]
    }
   ],
   "source": [
    "# String Methods\n",
    "str1 = \"Hello World\"\n",
    "\n",
    "# Convert to uppercase\n",
    "print(str1.upper())  # Outputs: HELLO WORLD\n",
    "\n",
    "# Convert to lowercase\n",
    "print(str1.lower())  # Outputs: hello world\n",
    "\n",
    "# Capitalize the first character\n",
    "print(str1.capitalize())  # Outputs: Hello world\n",
    "\n",
    "# Replace a substring\n",
    "print(str1.replace(\"World\", \"Universe\"))  # Outputs: Hello Universe\n",
    "\n",
    "# Check if the string starts with a given substring\n",
    "print(str1.startswith(\"Hello\"))  # Outputs: True\n",
    "\n",
    "# Check if the string ends with a given substring\n",
    "print(str1.endswith(\"World\"))  # Outputs: True\n",
    "\n",
    "# Check if the string contains a given substring\n",
    "print(\"Hello\" in str1)  # Outputs: True\n",
    "\n",
    "# Split the string into a list of substrings separated by a given delimiter\n",
    "print(str1.split(\" \"))  # Outputs: ['Hello', 'World']\n",
    "\n",
    "# Join a list of strings into a single string separated by a given delimiter\n",
    "print(\" \".join([\"Hello\", \"World\"]))  # Outputs: Hello World"
   ]
  },
  {
   "cell_type": "markdown",
   "metadata": {},
   "source": [
    "--- \n",
    "\n",
    "## List Variables in Python\n",
    "\n",
    "---\n",
    "\n",
    "List variables in Python are used to store ordered sequences of items. They are mutable, meaning you can modify their elements.\n",
    "\n",
    "\n",
    "\n",
    "Lists can contain elements of different data types and are indexed starting from 0.\n",
    "\n",
    "\n",
    "\n",
    "```python\n",
    "# List Variables\n",
    "fruits = [\"apple\", \"banana\", \"cherry\"]\n",
    "numbers = [1, 2, 3, 4, 5]\n",
    "\n",
    "print(f\"Fruits: {fruits}\")\n",
    "print(f\"Numbers: {numbers}\")\n",
    "```\n"
   ]
  },
  {
   "cell_type": "markdown",
   "metadata": {},
   "source": [
    "--- \n",
    "\n",
    "## List Variables in Python\n",
    "\n",
    "---\n",
    "\n",
    "List variables in Python are used to store ordered sequences of items. They are mutable, meaning you can modify their elements.\n",
    "\n",
    "\n",
    "\n",
    "Lists can contain elements of different data types and are indexed starting from 0.\n",
    "\n"
   ]
  },
  {
   "cell_type": "code",
   "execution_count": null,
   "metadata": {},
   "outputs": [
    {
     "name": "stdout",
     "output_type": "stream",
     "text": [
      "Fruits: ['apple', 'banana', 'cherry']\n",
      "Numbers: [1, 2, 3, 4, 5]\n"
     ]
    }
   ],
   "source": [
    "# List Variables\n",
    "fruits = [\"apple\", \"banana\", \"cherry\"]\n",
    "numbers = [1, 2, 3, 4, 5]\n",
    "\n",
    "print(f\"Fruits: {fruits}\")\n",
    "print(f\"Numbers: {numbers}\")"
   ]
  },
  {
   "cell_type": "markdown",
   "metadata": {},
   "source": [
    "#### List Length\n",
    "The `len()` function can be used to find the length of a list."
   ]
  },
  {
   "cell_type": "code",
   "execution_count": null,
   "metadata": {},
   "outputs": [
    {
     "name": "stdout",
     "output_type": "stream",
     "text": [
      "3\n"
     ]
    }
   ],
   "source": [
    "my_list = [\"apple\", \"banana\", \"cherry\"]\n",
    "print(len(my_list))  # Outputs: 3"
   ]
  },
  {
   "cell_type": "markdown",
   "metadata": {},
   "source": [
    "#### List Append\n",
    "The `append()` method can be used to add an item to the end of a list.\n"
   ]
  },
  {
   "cell_type": "code",
   "execution_count": null,
   "metadata": {},
   "outputs": [
    {
     "name": "stdout",
     "output_type": "stream",
     "text": [
      "['apple', 'banana', 'cherry', 'dragonfruit']\n"
     ]
    }
   ],
   "source": [
    "my_list = [\"apple\", \"banana\", \"cherry\"]\n",
    "my_list.append(\"dragonfruit\")\n",
    "print(my_list)  # Outputs: ['apple', 'banana', 'cherry', 'dragonfruit']"
   ]
  },
  {
   "cell_type": "markdown",
   "metadata": {},
   "source": [
    "#### List Insert\n",
    "The `insert()` method can be used to add an item at a specific position in a list."
   ]
  },
  {
   "cell_type": "code",
   "execution_count": null,
   "metadata": {},
   "outputs": [
    {
     "name": "stdout",
     "output_type": "stream",
     "text": [
      "['apple', 'avocado', 'banana', 'cherry']\n"
     ]
    }
   ],
   "source": [
    "my_list = [\"apple\", \"banana\", \"cherry\"]\n",
    "my_list.insert(1, \"avocado\")\n",
    "print(my_list)  # Outputs: ['apple', 'avocado', 'banana', 'cherry']"
   ]
  },
  {
   "cell_type": "markdown",
   "metadata": {},
   "source": [
    "#### List Remove\n",
    "The `remove()` method can be used to remove a specific item from a list."
   ]
  },
  {
   "cell_type": "code",
   "execution_count": null,
   "metadata": {},
   "outputs": [
    {
     "name": "stdout",
     "output_type": "stream",
     "text": [
      "['apple', 'cherry']\n"
     ]
    }
   ],
   "source": [
    "my_list = [\"apple\", \"banana\", \"cherry\"]\n",
    "my_list.remove(\"banana\")\n",
    "print(my_list)  # Outputs: ['apple', 'cherry']"
   ]
  },
  {
   "cell_type": "markdown",
   "metadata": {},
   "source": [
    "#### List Pop\n",
    "The `pop()` method can be used to remove an item at a specific position in a list."
   ]
  },
  {
   "cell_type": "code",
   "execution_count": null,
   "metadata": {},
   "outputs": [
    {
     "name": "stdout",
     "output_type": "stream",
     "text": [
      "['apple', 'cherry']\n"
     ]
    }
   ],
   "source": [
    "my_list = [\"apple\", \"banana\", \"cherry\"]\n",
    "my_list.pop(1)\n",
    "print(my_list)  # Outputs: ['apple', 'cherry']"
   ]
  },
  {
   "cell_type": "markdown",
   "metadata": {},
   "source": [
    "#### List Indexing\n",
    "You can access an item in a list by referring to its index number."
   ]
  },
  {
   "cell_type": "code",
   "execution_count": null,
   "metadata": {},
   "outputs": [
    {
     "name": "stdout",
     "output_type": "stream",
     "text": [
      "banana\n"
     ]
    }
   ],
   "source": [
    "my_list = [\"apple\", \"banana\", \"cherry\"]\n",
    "print(my_list[1])  # Outputs: banana"
   ]
  },
  {
   "cell_type": "markdown",
   "metadata": {},
   "source": [
    "#### List Slicing\n",
    "You can use slicing to get a part of a list.\n"
   ]
  },
  {
   "cell_type": "code",
   "execution_count": null,
   "metadata": {},
   "outputs": [
    {
     "name": "stdout",
     "output_type": "stream",
     "text": [
      "['banana', 'cherry', 'dragonfruit']\n"
     ]
    }
   ],
   "source": [
    "my_list = [\"apple\", \"banana\", \"cherry\", \"dragonfruit\", \"elderberry\"]\n",
    "print(my_list[1:4])  # Outputs: ['banana', 'cherry', 'dragonfruit']"
   ]
  },
  {
   "cell_type": "markdown",
   "metadata": {},
   "source": [
    "---\n",
    "\n",
    "## Tuple\n",
    "\n",
    "---\n",
    "\n",
    "You can create a tuple by placing a comma-separated sequence of items inside parentheses `()`. Tuples are immutable, meaning you cannot modify their elements.\n",
    "\n"
   ]
  },
  {
   "cell_type": "code",
   "execution_count": null,
   "metadata": {},
   "outputs": [
    {
     "name": "stdout",
     "output_type": "stream",
     "text": [
      "('apple', 'banana', 'cherry')\n"
     ]
    }
   ],
   "source": [
    "my_tuple = (\"apple\", \"banana\", \"cherry\")\n",
    "print(my_tuple)  # Outputs: ('apple', 'banana', 'cherry')"
   ]
  },
  {
   "cell_type": "markdown",
   "metadata": {},
   "source": [
    "#### Tuple Length\n",
    "The `len()` function can be used to find the length of a tuple."
   ]
  },
  {
   "cell_type": "code",
   "execution_count": null,
   "metadata": {},
   "outputs": [
    {
     "name": "stdout",
     "output_type": "stream",
     "text": [
      "3\n"
     ]
    }
   ],
   "source": [
    "my_tuple = (\"apple\", \"banana\", \"cherry\")\n",
    "print(len(my_tuple))  # Outputs: 3"
   ]
  },
  {
   "cell_type": "markdown",
   "metadata": {},
   "source": [
    "#### Tuple Indexing\n",
    "You can access an item in a tuple by referring to its index number."
   ]
  },
  {
   "cell_type": "code",
   "execution_count": null,
   "metadata": {},
   "outputs": [
    {
     "name": "stdout",
     "output_type": "stream",
     "text": [
      "banana\n"
     ]
    }
   ],
   "source": [
    "my_tuple = (\"apple\", \"banana\", \"cherry\")\n",
    "print(my_tuple[1])  # Outputs: banana"
   ]
  },
  {
   "cell_type": "markdown",
   "metadata": {},
   "source": [
    "#### Tuple Slicing\n",
    "You can use slicing to get a part of a tuple.\n"
   ]
  },
  {
   "cell_type": "code",
   "execution_count": null,
   "metadata": {},
   "outputs": [
    {
     "name": "stdout",
     "output_type": "stream",
     "text": [
      "('banana', 'cherry', 'dragonfruit')\n"
     ]
    }
   ],
   "source": [
    "my_tuple = (\"apple\", \"banana\", \"cherry\", \"dragonfruit\", \"elderberry\")\n",
    "print(my_tuple[1:4])  # Outputs: ('banana', 'cherry', 'dragonfruit')"
   ]
  },
  {
   "cell_type": "markdown",
   "metadata": {},
   "source": [
    "#### Tuple Immutability\n",
    "Unlike lists, tuples are immutable. This means that you cannot change, add, or remove items once the tuple is created.\n",
    "Please note that the last code block is meant to illustrate the immutability of tuples and will raise a `TypeError` when run."
   ]
  },
  {
   "cell_type": "code",
   "execution_count": null,
   "metadata": {},
   "outputs": [],
   "source": [
    "\n",
    "my_tuple = (\"apple\", \"banana\", \"cherry\")\n",
    "# my_tuple[1] = \"avocado\"  # This will raise a TypeError"
   ]
  },
  {
   "cell_type": "markdown",
   "metadata": {},
   "source": [
    "---\n",
    "\n",
    "---\n",
    "\n",
    "# Loops in Python\n",
    "\n",
    "---\n",
    "\n",
    "---\n",
    "\n",
    "#### Basic For Loop\n",
    "A `for` loop in Python iterates over an iterable object such as a list, tuple, string, etc. Here is a basic example of a `for` loop that iterates over a list.\n",
    "\n"
   ]
  },
  {
   "cell_type": "code",
   "execution_count": null,
   "metadata": {},
   "outputs": [
    {
     "name": "stdout",
     "output_type": "stream",
     "text": [
      "apple\n",
      "banana\n",
      "cherry\n"
     ]
    }
   ],
   "source": [
    "fruits = [\"apple\", \"banana\", \"cherry\"]\n",
    "for fruit in fruits:\n",
    "    print(fruit)"
   ]
  },
  {
   "cell_type": "markdown",
   "metadata": {},
   "source": [
    "The `range()` function generates a sequence of numbers that can be used in a `for` loop. It can take one, two, or three parameters: `range(stop)`, `range(start, stop)`, or `range(start, stop, step)`."
   ]
  },
  {
   "cell_type": "code",
   "execution_count": null,
   "metadata": {},
   "outputs": [
    {
     "name": "stdout",
     "output_type": "stream",
     "text": [
      "0\n",
      "1\n",
      "2\n",
      "3\n",
      "4\n"
     ]
    }
   ],
   "source": [
    "for i in range(5):\n",
    "    print(i)"
   ]
  },
  {
   "cell_type": "markdown",
   "metadata": {},
   "source": [
    "In this example, `i` is the loop variable that takes on values from 0 to 4. The `range(5)` function generates a sequence of numbers from 0 up to but not including 5.\n",
    "\n",
    "\n",
    "Note : A common misconception is that the `range()` function is similar to a C-style `for` loop. In C style, we initialize a variable, check a condition, and increment the variable in each iteration. However, the `range()` function in Python is a generator that generates a sequence of numbers similar to a list. It does not initialize a variable or increment it in each iteration.\n",
    "\n",
    "In python the for loop is used to iterate over a sequence (list, tuple, string) or other iterable objects. Iterating over a sequence is called traversal.\n",
    "\n",
    "Note: the range() function is does not generate an actual list. It returns an object which works like a list but actually it is a generator. The range() function is used with for loop to iterate over a sequence of numbers. the numbers are generated on the fly during the execution of the for loop."
   ]
  },
  {
   "cell_type": "markdown",
   "metadata": {},
   "source": [
    "\n",
    "#### Nested For Loop\n",
    "A nested `for` loop is a loop inside a loop. The \"inner loop\" will be executed one time for each iteration of the \"outer loop\"."
   ]
  },
  {
   "cell_type": "code",
   "execution_count": null,
   "metadata": {},
   "outputs": [
    {
     "name": "stdout",
     "output_type": "stream",
     "text": [
      "0 0\n",
      "0 1\n",
      "0 2\n",
      "1 0\n",
      "1 1\n",
      "1 2\n",
      "2 0\n",
      "2 1\n",
      "2 2\n"
     ]
    }
   ],
   "source": [
    "for i in range(3):\n",
    "    for j in range(3):\n",
    "        print(i, j)"
   ]
  },
  {
   "cell_type": "markdown",
   "metadata": {},
   "source": [
    "In this example, for each value of `i` in the outer loop, the inner loop is executed three times with `j` taking on values from 0 to 2.\n",
    "\n",
    "#### For Loop with Else\n",
    "A `for` loop can have an `else` clause which is executed after the loop has exhausted iterating the list. The `else` clause is also executed when the loop condition becomes false."
   ]
  },
  {
   "cell_type": "code",
   "execution_count": null,
   "metadata": {},
   "outputs": [
    {
     "name": "stdout",
     "output_type": "stream",
     "text": [
      "0\n",
      "1\n",
      "2\n",
      "3\n",
      "4\n",
      "Loop has ended\n"
     ]
    }
   ],
   "source": [
    "for i in range(5):\n",
    "    print(i)\n",
    "else:\n",
    "    print(\"Loop has ended\")"
   ]
  },
  {
   "cell_type": "markdown",
   "metadata": {},
   "source": [
    "#### Break Statement\n",
    "The `break` statement in Python terminates the current loop and resumes execution at the next statement. The `break` statement can be used in both `while` and `for` loops."
   ]
  },
  {
   "cell_type": "code",
   "execution_count": null,
   "metadata": {},
   "outputs": [
    {
     "name": "stdout",
     "output_type": "stream",
     "text": [
      "0\n",
      "1\n",
      "2\n"
     ]
    }
   ],
   "source": [
    "for i in range(5):\n",
    "    if i == 3:\n",
    "        break\n",
    "    print(i)"
   ]
  },
  {
   "cell_type": "markdown",
   "metadata": {},
   "source": [
    "In this example, the loop will break as soon as `i` is equal to 3, so only 0, 1, and 2 will be printed.\n",
    "\n",
    "#### Continue Statement\n",
    "The `continue` statement in Python returns the control to the beginning of the loop. The `continue` statement rejects all the remaining statements in the current iteration of the loop and moves the control back to the top of the loop."
   ]
  },
  {
   "cell_type": "code",
   "execution_count": null,
   "metadata": {},
   "outputs": [
    {
     "name": "stdout",
     "output_type": "stream",
     "text": [
      "0\n",
      "1\n",
      "2\n",
      "4\n"
     ]
    }
   ],
   "source": [
    "for i in range(5):\n",
    "    if i == 3:\n",
    "        continue\n",
    "    print(i)"
   ]
  },
  {
   "cell_type": "markdown",
   "metadata": {},
   "source": [
    "In this example, when `i` is equal to 3, the `continue` statement will skip the `print(i)` statement, and the loop will continue with the next iteration. So, 0, 1, 2, and 4 will be printed, but not 3.\n",
    "\n",
    "#### Difference Between Break and Continue\n",
    "The main difference between `break` and `continue` is that `break` is used for immediate termination of the loop, while `continue` terminates the current iteration and resumes the control to the next iteration of the loop."
   ]
  },
  {
   "cell_type": "markdown",
   "metadata": {},
   "source": [
    "#### For Loop with Multiple Lists\n",
    "\n",
    "In Python, the `zip()` function is used to combine corresponding elements from multiple iterable objects (like lists, tuples, etc.) into a single iterable. This new iterable, known as a zip object, consists of tuples where the i-th tuple contains the i-th element from each of the argument sequences or iterables.\n",
    "\n"
   ]
  },
  {
   "cell_type": "code",
   "execution_count": null,
   "metadata": {},
   "outputs": [
    {
     "name": "stdout",
     "output_type": "stream",
     "text": [
      "[(1, 'one'), (2, 'two'), (3, 'three')]\n"
     ]
    }
   ],
   "source": [
    "list1 = [1, 2, 3]\n",
    "list2 = ['one', 'two', 'three']\n",
    "zipped = zip(list1, list2)\n",
    "\n",
    "# Convert to a list to print what's inside\n",
    "print(list(zipped))  # Outputs: [(1, 'one'), (2, 'two'), (3, 'three')]"
   ]
  },
  {
   "cell_type": "markdown",
   "metadata": {},
   "source": [
    "In this example, `zip()` takes two lists and returns an iterable that generates tuples. Each tuple contains one element from each list, matched up by their index numbers.\n",
    "\n",
    "The `zip()` function stops creating tuples when the shortest input iterable is exhausted. This means if you're zipping lists of different lengths, elements from the longer lists that don't have corresponding elements in the shorter lists will simply be ignored."
   ]
  },
  {
   "cell_type": "markdown",
   "metadata": {},
   "source": [
    "list1 = [1, 2, 3, 4]\n",
    "list2 = ['one', 'two', 'three']\n",
    "zipped = zip(list1, list2)\n",
    "\n",
    "print(list(zipped))  # Outputs: [(1, 'one'), (2, 'two'), (3, 'three')]"
   ]
  },
  {
   "cell_type": "markdown",
   "metadata": {},
   "source": [
    "In this example, the number 4 from `list1` doesn't appear in the output, because `list2` doesn't have a fourth element to pair with it.\n",
    "\n",
    "The `zip()` function can be particularly useful when you need to iterate over multiple sequences in a `for` loop.\n"
   ]
  },
  {
   "cell_type": "code",
   "execution_count": null,
   "metadata": {},
   "outputs": [
    {
     "name": "stdout",
     "output_type": "stream",
     "text": [
      "1 is one\n",
      "2 is two\n",
      "3 is three\n"
     ]
    }
   ],
   "source": [
    "list1 = [1, 2, 3]\n",
    "list2 = ['one', 'two', 'three']\n",
    "\n",
    "for num, name in zip(list1, list2):\n",
    "    print(f\"{num} is {name}\")"
   ]
  },
  {
   "cell_type": "markdown",
   "metadata": {},
   "source": [
    "In this example, `num` and `name` are loop variables that take on the values from `list1` and `list2` respectively, one tuple at a time."
   ]
  },
  {
   "cell_type": "markdown",
   "metadata": {},
   "source": [
    "---\n",
    "\n",
    "---\n",
    "\n",
    "# Functions in Python\n",
    "\n",
    "---\n",
    "\n",
    "---\n",
    "\n",
    "##  Defining a Function in Python\n",
    "\n",
    "In Python, a function is a block of organized, reusable code that is used to perform a single, related action. Functions provide better modularity for your application and a high degree of code reusing."
   ]
  },
  {
   "cell_type": "code",
   "execution_count": null,
   "metadata": {},
   "outputs": [],
   "source": [
    "def greet():\n",
    "    print(\"Hello, World!\")"
   ]
  },
  {
   "cell_type": "markdown",
   "metadata": {},
   "source": [
    "In this example, `greet` is the function name, and the print statement is the function body.\n",
    "\n",
    "#### Calling a Function in Python\n",
    "\n",
    "After defining a function, you can execute it by calling it from another function or directly from the Python prompt. Following is the example to call the `greet()` function:\n",
    "\n"
   ]
  },
  {
   "cell_type": "code",
   "execution_count": null,
   "metadata": {},
   "outputs": [
    {
     "name": "stdout",
     "output_type": "stream",
     "text": [
      "Hello, World!\n"
     ]
    }
   ],
   "source": [
    "greet()  # Outputs: Hello, World!"
   ]
  },
  {
   "cell_type": "markdown",
   "metadata": {},
   "source": [
    "#### Function Arguments\n",
    "\n",
    "You can pass data, known as parameters, into a function. A function can accept any number and type of parameters.\n"
   ]
  },
  {
   "cell_type": "code",
   "execution_count": null,
   "metadata": {},
   "outputs": [
    {
     "name": "stdout",
     "output_type": "stream",
     "text": [
      "Hello, Alice!\n"
     ]
    }
   ],
   "source": [
    "def greet(name):\n",
    "    print(f\"Hello, {name}!\")\n",
    "\n",
    "greet(\"Alice\")  # Outputs: Hello, Alice!"
   ]
  },
  {
   "cell_type": "markdown",
   "metadata": {},
   "source": [
    "In this example, `name` is a parameter that the `greet` function takes. When you call the function, you can provide this information.\n",
    "\n",
    "#### Return Statement\n",
    "\n",
    "A function can return data as a result. You can use the `return` statement to make your function return a value.\n"
   ]
  },
  {
   "cell_type": "code",
   "execution_count": null,
   "metadata": {},
   "outputs": [
    {
     "name": "stdout",
     "output_type": "stream",
     "text": [
      "7\n"
     ]
    }
   ],
   "source": [
    "def add_numbers(x, y):\n",
    "    return x + y\n",
    "\n",
    "result = add_numbers(3, 4)\n",
    "print(result)  # Outputs: 7"
   ]
  },
  {
   "cell_type": "markdown",
   "metadata": {},
   "source": [
    "In this example, the `add_numbers` function returns the sum of `x` and `y`. The result is stored in the `result` variable.\n",
    "\n",
    "#### Nested Functions\n",
    "\n",
    "In Python, you can define a function inside another function. This is known as a nested function.\n"
   ]
  },
  {
   "cell_type": "code",
   "execution_count": null,
   "metadata": {},
   "outputs": [
    {
     "name": "stdout",
     "output_type": "stream",
     "text": [
      "7\n"
     ]
    }
   ],
   "source": [
    "def outer_function(x, y):\n",
    "    def inner_function(a, b):\n",
    "        return a + b\n",
    "    return inner_function(x, y)\n",
    "\n",
    "result = outer_function(3, 4)\n",
    "print(result)  # Outputs: 7"
   ]
  },
  {
   "cell_type": "markdown",
   "metadata": {},
   "source": [
    "In this example, `inner_function` is a nested function defined inside `outer_function`. The `outer_function` calls `inner_function`, passing `x` and `y` to it.\n",
    "\n",
    "#### Scope of Variables\n",
    "\n",
    "In Python, a variable declared inside a function has a local scope and it's only visible within that function. A variable declared outside a function has a global scope and it's visible from within and outside functions."
   ]
  },
  {
   "cell_type": "code",
   "execution_count": null,
   "metadata": {},
   "outputs": [
    {
     "name": "stdout",
     "output_type": "stream",
     "text": [
      "local\n",
      "global\n"
     ]
    }
   ],
   "source": [
    "x = \"global\"\n",
    "\n",
    "def foo():\n",
    "    x = \"local\"\n",
    "    print(x)  # Outputs: local\n",
    "\n",
    "foo()\n",
    "print(x)  # Outputs: global"
   ]
  },
  {
   "cell_type": "markdown",
   "metadata": {},
   "source": [
    "### use of kwargs and args\n",
    "\n",
    "All functions in python have the ability to accept arguments while calling the function. These arguments are called as parameters. The parameters can be passed to the function in two ways.\n",
    "\n",
    "1. Positional Arguments\n",
    "2. Keyword Arguments\n",
    "\n",
    "#### Positional Arguments\n",
    "\n",
    "Positional arguments are the arguments which are passed to the function in correct positional order. The number of arguments and the position of the arguments must be matched while calling the function. The positional arguments are mapped to the function parameters based on the order of the arguments.\n",
    "\n",
    "For Eg:\n",
    "\n",
    "```python\n",
    "def greet(name, msg):\n",
    "    \"\"\"This function greets to\n",
    "    the person with the provided message\"\"\"\n",
    "    print(\"Hello\", name + ', ' + msg)\n",
    "\n",
    "# call the function\n",
    "greet(\"Monica\", \"Good morning!\")\n",
    "```\n",
    "\n",
    "#### Keyword Arguments\n",
    "\n",
    "Keyword arguments are the arguments which are passed to the function with the keywords and values. The function parameters are matched with the keyword arguments based on the keyword.\n",
    "\n",
    "For Eg:\n",
    "\n",
    "```python\n",
    "def greet(name, msg):\n",
    "    \"\"\"This function greets to\n",
    "    the person with the provided message\"\"\"\n",
    "    print(\"Hello\", name + ', ' + msg)\n",
    "\n",
    "# call the function\n",
    "greet(name = \"Monica\",msg = \"Good morning!\")\n",
    "```\n",
    "\n",
    "\n",
    "Note: Python does not accept having a positional argument after a keyword argument. This will result in an error.\n",
    "\n",
    "For Eg:\n",
    "    \n",
    "```python\n",
    "def greet(name, msg):\n",
    "    \"\"\"This function greets to\n",
    "    the person with the provided message\"\"\"\n",
    "    print(\"Hello\", name + ', ' + msg)\n",
    "\n",
    "# call the function\n",
    "greet(name = \"Monica\",\"Good morning!\")\n",
    "```\n",
    "This will result in an error.\n",
    "\n",
    "However, the reverse is possible. i.e. you can have a keyword argument followed by a positional argument. In this case, the value is passed to the keyword argument.\n",
    "\n",
    "For Eg:\n",
    "\n",
    "```python\n",
    "def greet(name, msg):\n",
    "    \"\"\"This function greets to\n",
    "    the person with the provided message\"\"\"\n",
    "    print(\"Hello\", name + ', ' + msg)\n",
    "\n",
    "# call the function\n",
    "greet(\"Monica\",msg = \"Good morning!\")\n",
    "```\n",
    "\n",
    "#### Default Arguments in Python Functions\n",
    "\n",
    "Python allows function arguments to have default values. If the function is called without the argument, the argument gets its default value. this will be popularly used in lot of libraries like pandas, numpy, matplotlib etc, where you can see in the documentation that the default values are mentioned for the parameters.\n",
    "\n",
    "For Eg:\n",
    "\n",
    "\n",
    "    "
   ]
  },
  {
   "cell_type": "code",
   "execution_count": null,
   "metadata": {},
   "outputs": [],
   "source": [
    "def greet(name, msg = \"Good morning!\"):\n",
    "    \"\"\"\n",
    "    This function greets to\n",
    "    the person with the\n",
    "    provided message.\n",
    "\n",
    "    If the message is not provided,\n",
    "    it defaults to \"Good\n",
    "    morning!\"\n",
    "    \"\"\"\n",
    "\n",
    "    print(\"Hello\",name + ', ' + msg)\n",
    "\n",
    "greet(\"Kate\")\n",
    "\n",
    "greet(\"Bruce\",\"How do you do?\")"
   ]
  },
  {
   "cell_type": "markdown",
   "metadata": {},
   "source": [
    "\n",
    "Note: That the default argument should be at the end of the argument list. If you place it in the middle, you will get a SyntaxError. Further the default arguments will be overridden if you pass the values while calling the function.\n"
   ]
  },
  {
   "cell_type": "markdown",
   "metadata": {},
   "source": [
    "---\n",
    "\n",
    "---\n",
    "\n",
    "# Classes and Objects in Python\n",
    "\n",
    "---\n",
    "\n",
    "---\n",
    "\n",
    "## Python Classes and Objects\n",
    "\n",
    "Python is an object-oriented programming language. This means that any program can be solved in Python by creating an object model. An object-oriented program can be characterized as data controlling access to code. In object-oriented programming, there are two concepts: \n",
    "\n",
    "- Class\n",
    "- Object\n",
    "\n",
    "### Class\n",
    "\n",
    "A class is a blueprint for the object. We can think of class as an sketch of a parrot with labels. It contains all the details about the name, colors, size etc. Based on these descriptions, we can study about the parrot. Here, parrot is an object. The example for class of parrot can be :\n",
    "\n",
    "```python\n",
    "class Parrot:\n",
    "    pass\n",
    "```\n",
    "\n",
    "Here, we use class keyword to define an empty class Parrot. From class, we construct instances. An instance is a specific object created from a particular class. An object (instance) of class Parrot is created as follows :\n",
    "\n",
    "### Object\n",
    "\n",
    "An Object (instance) is an instantiation of a class. When class is defined, only the description for the object is defined. Therefore, no memory or storage is allocated.\n",
    "\n",
    "\n",
    "```python\n",
    "obj = Parrot()\n",
    "```\n",
    "\n",
    "Here, obj is object of class Parrot.\n",
    "\n"
   ]
  },
  {
   "cell_type": "markdown",
   "metadata": {},
   "source": [
    "### Constructors in Python\n",
    "\n",
    "Class functions that begins with double underscore `__` are called special functions as they have special meaning. Constructors are generally used for instantiating an object.The task of constructors is to initialize(assign values) to the data members of the class when an object of class is created.In Python the `__init__()` method is called the constructor and is always called when an object is created.\n",
    "\n",
    "\n",
    "\n",
    "#### How to call the method(function) inside the class ?\n",
    "\n",
    "it is similar to calling/accessing any variables inside the class \n",
    "\n",
    "`<objet name>.<method name>()`\n",
    "\n",
    "For eg, you can call the function `sing` where the object is `obj`, then we can use\n",
    "\n",
    "`obj.sing()`\n",
    "\n"
   ]
  },
  {
   "cell_type": "code",
   "execution_count": null,
   "metadata": {},
   "outputs": [],
   "source": [
    "class Parrot:\n",
    "\n",
    "    # class attribute\n",
    "    species = \"bird\"\n",
    "\n",
    "    # instance attribute\n",
    "    def __init__(self, name, age):\n",
    "        self.name = name\n",
    "        self.age = age\n",
    "    \n",
    "    # instance method\n",
    "    def sing(self, song):\n",
    "        return \"{} sings {}\".format(self.name, song)\n",
    "    \n",
    "    def dance(self):\n",
    "        return \"{} is now dancing\".format(self.name)\n",
    "    \n",
    "# instantiate the Parrot class\n",
    "blu = Parrot(\"Blu\", 10)\n",
    "woo = Parrot(\"Woo\", 15)"
   ]
  },
  {
   "cell_type": "markdown",
   "metadata": {},
   "source": [
    "### Dundar Methods in Python classes\n",
    "\n",
    "Dunder methods are special methods in Python that have two prefix and suffix underscores in the method name. Dunder here means “Double Under (Underscores)”. These are commonly used for operator overloading. Few examples for magic methods are: `__init__`, `__add__`, `__len__`, `__repr__` etc.\n",
    "\n",
    "The `__repr__` method is one of several ways to provide a nicer string representation. It converts the object to a string. The `__repr__` method is one of several ways to provide a nicer string representation. It converts the object to a string.\n",
    "\n",
    "The `__str__` method is another way to provide a nicer string representation. It converts the object to a string. The `__str__` method is another way to provide a nicer string representation while printing the object.\n"
   ]
  },
  {
   "cell_type": "code",
   "execution_count": null,
   "metadata": {},
   "outputs": [
    {
     "name": "stdout",
     "output_type": "stream",
     "text": [
      "Blu is 10 years old\n"
     ]
    }
   ],
   "source": [
    "# Example of dunders in Python classes\n",
    "\n",
    "class Parrot:\n",
    "    \n",
    "        # instance attributes\n",
    "        def __init__(self, name, age):\n",
    "            self.name = name\n",
    "            self.age = age\n",
    "        \n",
    "        # instance method\n",
    "        def sing(self, song):\n",
    "            return \"{} sings {}\".format(self.name, song)\n",
    "        \n",
    "        def dance(self):\n",
    "            return \"{} is now dancing\".format(self.name)\n",
    "        \n",
    "        def __str__(self):\n",
    "            return \"{} is {} years old\".format(self.name, self.age)\n",
    "        \n",
    "# instantiate the object\n",
    "blu = Parrot(\"Blu\", 10)\n",
    "\n",
    "# print the object\n",
    "print(blu)  # Outputs: Blu is 10 years old , this calls the __str__() method"
   ]
  },
  {
   "cell_type": "markdown",
   "metadata": {},
   "source": [
    "### Inheritance in Python\n",
    "\n",
    "Inheritance is a powerful feature in object oriented programming. It refers to defining a new class with little or no modification to an existing class. The new class is called derived (or child) class and the one from which it inherits is called the base (or parent) class. The derived class inherits the features from the base class and can have additional features of its own.\n",
    "\n",
    "For example, we want to make a class called `Bird` that has attributes like `color`, `name`, `age` but not all birds are the same. So, we will make a class `Parrot` that will inherit all the attributes of `Bird` class and will have its own attributes like `talk`. Similarly, we can make classes like `Penguin` and `Chicken` that will inherit the same attributes from the `Bird` class but will have their own characteristics.\n",
    "\n",
    "This capability of a class to derive properties and characteristics from another class is called Inheritance. Inheritance is one of the most important aspects of Object Oriented Programming."
   ]
  },
  {
   "cell_type": "code",
   "execution_count": null,
   "metadata": {},
   "outputs": [
    {
     "name": "stdout",
     "output_type": "stream",
     "text": [
      "Bird is ready\n",
      "Penguin is ready\n",
      "Penguin\n",
      "---------------------------------\n",
      "Bird is ready\n",
      "Parrot is ready\n",
      "Parrot\n"
     ]
    }
   ],
   "source": [
    "# Example of inheritance in Python classes\n",
    "class Bird:\n",
    "    \n",
    "    def __init__(self):\n",
    "        print(\"Bird is ready\")\n",
    "    \n",
    "    def whoisThis(self):\n",
    "        print(\"Bird\")\n",
    "    \n",
    "    def swim(self):\n",
    "        print(\"Swim faster\")\n",
    "\n",
    "# child class\n",
    "class Penguin(Bird):\n",
    "    \n",
    "    def __init__(self):\n",
    "        # call super() function\n",
    "        super().__init__()\n",
    "        print(\"Penguin is ready\")\n",
    "    \n",
    "    def whoisThis(self):\n",
    "        print(\"Penguin\")\n",
    "    \n",
    "    def run(self):\n",
    "        print(\"Run faster\")\n",
    "\n",
    "\n",
    "peggy = Penguin()\n",
    "peggy.whoisThis()\n",
    "\n",
    "print(\"---------------------------------\")\n",
    "# create one more child class\n",
    "class Parrot(Bird):\n",
    "    \n",
    "    def __init__(self):\n",
    "        # call super() function\n",
    "        super().__init__()\n",
    "        print(\"Parrot is ready\")\n",
    "    \n",
    "    def whoisThis(self):\n",
    "        print(\"Parrot\")\n",
    "    \n",
    "    def fly(self):\n",
    "        print(\"Fly faster\")\n",
    "\n",
    "# instantiate the Parrot class\n",
    "blu = Parrot()\n",
    "\n",
    "# call object methods\n",
    "blu.whoisThis()"
   ]
  },
  {
   "cell_type": "markdown",
   "metadata": {},
   "source": [
    "---\n",
    "\n",
    "---\n",
    "\n",
    "# Best Practices in Python\n",
    "\n",
    "---\n",
    "\n",
    "---\n",
    "\n",
    "\n",
    "\n",
    "\n",
    "#### Use of Variable Names in Function Calls\n",
    "\n",
    "Good variable names are crucial for readable and maintainable code. When calling functions, it's important to use meaningful variable names. This makes your code easier to read and understand. For example, instead of `x` and `y`, you might use `first_name` and `last_name` if your function is dealing with names. This way, anyone reading your code can easily understand what each variable represents. Also, when using multiple arguments, it's a good practice to explicitly state the variable names in the function call. This not only makes your code more readable but also prevents bugs due to the wrong order of arguments."
   ]
  },
  {
   "cell_type": "code",
   "execution_count": null,
   "metadata": {},
   "outputs": [
    {
     "name": "stdout",
     "output_type": "stream",
     "text": [
      "Hello, John Doe!\n",
      "Hello, John Doe!\n"
     ]
    }
   ],
   "source": [
    "# Good Practice\n",
    "def greet(first_name, last_name):\n",
    "    print(f\"Hello, {first_name} {last_name}!\")\n",
    "\n",
    "greet(first_name=\"John\", last_name=\"Doe\")\n",
    "\n",
    "# Bad Practice\n",
    "def greet(x, y):\n",
    "    print(f\"Hello, {x} {y}!\")\n",
    "\n",
    "greet(\"John\", \"Doe\")"
   ]
  },
  {
   "cell_type": "markdown",
   "metadata": {},
   "source": [
    "In the bad practice example, it's not immediately clear what `x` and `y` represent. In the good practice example, it's clear that the function is expecting a first name and a last name.\n",
    "\n",
    "#### Use of Type Checking on Function Parameters\n",
    "\n",
    "Python 3.5 introduced type hints, a new syntax for declaring the type of a variable. While Python remains a dynamically typed language, type hints are a good way to make it clear what type of values a function expects and returns. This can make your code easier to understand. However, Python doesn't enforce these type hints. If you want to enforce them, you can use a tool like `pydantic` or `dataclasses`."
   ]
  },
  {
   "cell_type": "code",
   "execution_count": null,
   "metadata": {},
   "outputs": [],
   "source": [
    "# Good Practice\n",
    "def add_numbers(a: int, b: int) -> int:\n",
    "    return a + b\n",
    "\n",
    "# Bad Practice\n",
    "def add_numbers(a, b):\n",
    "    return a + b"
   ]
  },
  {
   "cell_type": "markdown",
   "metadata": {},
   "source": [
    "In the bad practice example, it's not immediately clear what types `a` and `b` should be. In the good practice example, the type hints make it clear that `a` and `b` should be integers, and that the function returns an integer.\n",
    "\n",
    "However, keep in mind that Python won't prevent you from passing arguments of the wrong type to `add_numbers` in the good practice example. If you want to ensure that `a` and `b` are integers, you would still need to manually check this inside the function, like so:"
   ]
  },
  {
   "cell_type": "code",
   "execution_count": null,
   "metadata": {},
   "outputs": [],
   "source": [
    "def add_numbers(a: int, b: int) -> int:\n",
    "    if not isinstance(a, int) or not isinstance(b, int):\n",
    "        raise TypeError(\"Both a and b must be integers\")\n",
    "    return a + b"
   ]
  },
  {
   "cell_type": "markdown",
   "metadata": {},
   "source": [
    "#### Use of Docstrings in Functions\n",
    "\n",
    "Docstrings are a type of comment used to explain the purpose of a function, and how it should be used. Docstrings are enclosed in triple quotes and are placed immediately after the function definition. They can include a description of the function, its parameters, its return type, and any exceptions it raises. Writing clear and comprehensive docstrings is a good practice as it makes your code easier to understand and use. Tools like Sphinx can even generate documentation from your docstrings automatically."
   ]
  },
  {
   "cell_type": "code",
   "execution_count": null,
   "metadata": {},
   "outputs": [],
   "source": [
    "# Good Practice\n",
    "def add_numbers(a, b):\n",
    "    \"\"\"\n",
    "    Add two numbers together.\n",
    "\n",
    "    Parameters:\n",
    "    a (int or float): The first number.\n",
    "    b (int or float): The second number.\n",
    "\n",
    "    Returns:\n",
    "    int or float: The sum of a and b.\n",
    "    \"\"\"\n",
    "    return a + b\n",
    "\n",
    "# Bad Practice\n",
    "def add_numbers(a, b):\n",
    "    return a + b"
   ]
  },
  {
   "cell_type": "code",
   "execution_count": null,
   "metadata": {},
   "outputs": [],
   "source": []
  }
 ],
 "metadata": {
  "kernelspec": {
   "display_name": "Python 3",
   "language": "python",
   "name": "python3"
  },
  "language_info": {
   "codemirror_mode": {
    "name": "ipython",
    "version": 3
   },
   "file_extension": ".py",
   "mimetype": "text/x-python",
   "name": "python",
   "nbconvert_exporter": "python",
   "pygments_lexer": "ipython3",
   "version": "3.11.5"
  }
 },
 "nbformat": 4,
 "nbformat_minor": 2
}
