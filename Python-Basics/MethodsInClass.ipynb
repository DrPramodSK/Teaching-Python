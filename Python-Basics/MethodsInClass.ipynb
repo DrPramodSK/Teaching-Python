{
  "cells": [
    {
      "cell_type": "markdown",
      "metadata": {
        "id": "Sf_nn_DYgTST"
      },
      "source": [
        "# Methods inside a Function \n",
        "\n",
        "Here we will see about how to use methods inside our function. \n",
        "\n",
        "For eg : We will take the chess class "
      ]
    },
    {
      "cell_type": "code",
      "execution_count": null,
      "metadata": {
        "id": "0T02o0dFgTSV"
      },
      "outputs": [],
      "source": [
        "class chess:\n",
        "    chesspiece = \"rook\"\n",
        "    colour = \"white\"\n",
        "    coordinate = \"a1\"\n",
        "\n",
        "    #Constructor\n",
        "    def __init__(self,piece,color,coord):\n",
        "        self.chesspiece = piece;\n",
        "        self.colour = color;\n",
        "        self.coordinate = coord;\n",
        "        \n",
        "        \n",
        "        \n",
        "        \n",
        "        \n",
        "\n",
        "f1 = chess (\"rook\",\"white\",\"a1\")\n",
        "f2 = chess (\"rook\",\"black\",\"a8\")"
      ]
    },
    {
      "cell_type": "markdown",
      "metadata": {
        "id": "QBGO-KDSgTSV"
      },
      "source": [
        "To verify , let's print the values in the class"
      ]
    },
    {
      "cell_type": "code",
      "execution_count": null,
      "metadata": {
        "id": "yhIQJoGCgTSW",
        "outputId": "f66e4448-b42f-4ab7-82ea-71360167a18e"
      },
      "outputs": [
        {
          "name": "stdout",
          "output_type": "stream",
          "text": [
            "rook\n",
            "white\n",
            "a1\n",
            "King\n",
            "black\n",
            "a8\n"
          ]
        }
      ],
      "source": [
        "print(f1.chesspiece)\n",
        "print(f1.colour)\n",
        "print(f1.coordinate)\n",
        "\n",
        "f2.chesspiece = \"King\"\n",
        "\n",
        "print(f2.chesspiece)\n",
        "print(f2.colour)\n",
        "print(f2.coordinate)"
      ]
    },
    {
      "cell_type": "markdown",
      "metadata": {
        "id": "BMClsk7VgTSW"
      },
      "source": [
        "### What happens if i try to print the object of the class ?\n",
        "\n",
        "For Eg : `print(f1)`\n",
        "\n",
        "It wont print the values inside the class, rather than it just prints the address of the object f1\n"
      ]
    },
    {
      "cell_type": "code",
      "execution_count": null,
      "metadata": {
        "id": "VkAVXDlFgTSW",
        "outputId": "e144cf05-d28b-4160-a191-cab713e6bbfd"
      },
      "outputs": [
        {
          "name": "stdout",
          "output_type": "stream",
          "text": [
            "<__main__.chess object at 0x7f56d0f8d898>\n"
          ]
        }
      ],
      "source": [
        "print(f1)"
      ]
    },
    {
      "cell_type": "markdown",
      "metadata": {
        "id": "Ka7SxAbFgTSW"
      },
      "source": [
        "### Is There any way, where we could print the contents of the class ?\n",
        "\n",
        "`print(f1)`  it should give the output as \n",
        "\n",
        "```\n",
        "chessPiece:  \"Rook\"\n",
        "Color:        \"White\"\n",
        "coordinnate:  \"a1\"\n",
        "```"
      ]
    },
    {
      "cell_type": "markdown",
      "metadata": {
        "id": "DzwJY3tVgTSX"
      },
      "source": [
        "### Methods inside classes\n",
        "\n",
        "You can have a seperate method inside a class which can perform operations specific to that class alone using that class variables.. \n",
        "\n",
        "\n",
        "For eg : A Student class , which stores the marks of students can have a method called `computeTotal` , which gives them the total marks of the students. "
      ]
    },
    {
      "cell_type": "code",
      "execution_count": null,
      "metadata": {
        "id": "nfVPrtjdgTSX"
      },
      "outputs": [],
      "source": [
        "## Class STudent with - Name , RollNo, Mark1 , mark2, Mark3 , Total, average\n",
        "## Constructor for the class should take the variables \n",
        "##  - Name, RollNo,Mark1, Mark2, mark3,\n",
        "\n",
        "class Student:\n",
        "    name = \"\";\n",
        "    rollno =0;\n",
        "    m1 = 0;\n",
        "    m2 = 0;\n",
        "    m3 = 0;\n",
        "    total = 0;\n",
        "    avg = 0;\n",
        "    \n",
        "    def __init__(self,name,rollno,m1,m2,m3):\n",
        "        self.name = name;\n",
        "        self.rollno = rollno;\n",
        "        self.m1 = m1;\n",
        "        self.m2 = m2\n",
        "        self.m3 = m3;\n",
        "\n",
        "    def computeTotal(self):\n",
        "        self.total = self.m1+self.m2+self.m3\n",
        "    \n",
        "    def computeAverage(self):\n",
        "        self.avg  = (self.m1 +self.m2 + self.m3) / (3)\n",
        "    \n",
        "    def printClass(self):\n",
        "        print(\"Name   : \" , self.name);\n",
        "        print(\"RollNo : \" , self.rollno);\n",
        "        print(\"m1     : \" , self.m1);\n",
        "        print(\"m2     : \" , self.m2);\n",
        "        print(\"m3     : \" , self.m3);\n",
        "        print(\"Total  : \" , self.total);\n",
        "        print(\"avg    : \" , self.avg);\n",
        "\n",
        "s1 = Student(\"Magnus\",104,99,98,97);\n",
        "s2 = Student(\"Alex\",104,97,96,95);\n",
        "s3 = Student(\"Thivin\",105,65,47,56);\n"
      ]
    },
    {
      "cell_type": "markdown",
      "metadata": {
        "id": "QgxioOczgTSX"
      },
      "source": [
        "#### Lets print the values inside class \n",
        "\n",
        "Now if we print these values, we will get the total and average as zero, because the cfunctions to compute average and total were not called.\n",
        "\n"
      ]
    },
    {
      "cell_type": "code",
      "execution_count": null,
      "metadata": {
        "id": "UDMBfMAYgTSX",
        "outputId": "232d4cac-9748-4337-d2d1-4edf37c63613"
      },
      "outputs": [
        {
          "name": "stdout",
          "output_type": "stream",
          "text": [
            "0\n"
          ]
        }
      ],
      "source": [
        "print(s1.total)"
      ]
    },
    {
      "cell_type": "markdown",
      "metadata": {
        "id": "bTlw_I6TgTSX"
      },
      "source": [
        "TO get the actual total, we need to call the `computeTotal` method first\n",
        "#### How to call the method(function) inside the class ?\n",
        "\n",
        "it is similar to calling/accessing any variables inside the class \n",
        "\n",
        "`<objet name>.<method name>()`\n",
        "\n",
        "in above example, you can call the funciton `computeTotal` as\n",
        "\n",
        "`s1.computeTotal()`"
      ]
    },
    {
      "cell_type": "markdown",
      "metadata": {
        "id": "UsIqH0_vgTSY"
      },
      "source": [
        "we need to call both the methods , computeTotal and ComputeAverage to calculate the total and average for every student\n"
      ]
    },
    {
      "cell_type": "code",
      "execution_count": null,
      "metadata": {
        "id": "946kmSONgTSY",
        "outputId": "969e36fd-c6f7-4667-f50d-7f1096b94787"
      },
      "outputs": [
        {
          "name": "stdout",
          "output_type": "stream",
          "text": [
            "Name   :  Magnus\n",
            "RollNo :  104\n",
            "m1     :  99\n",
            "m2     :  98\n",
            "m3     :  97\n",
            "Total  :  294\n",
            "avg    :  98.0\n"
          ]
        }
      ],
      "source": [
        "s1.computeTotal()\n",
        "s1.computeAverage()\n",
        "\n",
        "s1.printClass()"
      ]
    },
    {
      "cell_type": "markdown",
      "metadata": {
        "id": "HetJLk7-gTSY"
      },
      "source": [
        "### IS there any way, where the total and average would be calculated automatically without calling the method explicitly ?\n",
        "\n",
        "Eg: This should occur \n",
        "    \n",
        "```\n",
        "s1 = Student(\"Magnus\",104,99,98,97);\n",
        "```\n",
        "\n",
        "```\n",
        "s1.printClass()\n",
        "```\n",
        "```\n",
        "Name   :  Magnus\n",
        "RollNo :  104\n",
        "m1     :  99\n",
        "m2     :  98\n",
        "m3     :  97\n",
        "Total  :  294\n",
        "avg    :  98.0\n",
        "```"
      ]
    },
    {
      "cell_type": "markdown",
      "metadata": {
        "id": "MSMsPHhwgTSY"
      },
      "source": [
        "##### to accomplish that, you should remember the fact that , constrctor is used to \n",
        "- initialise the values in class\n",
        "- its the first method that wil be called.\n",
        "\n",
        "\n",
        "you can call the `computeTotal` and `computeAverge` function inside the construtor itself, so that when the object is created, along woth the variables being initialsed , the methods will also be called, which will result in updating the total and average"
      ]
    },
    {
      "cell_type": "code",
      "execution_count": null,
      "metadata": {
        "id": "gTpnUQjngTSY"
      },
      "outputs": [],
      "source": [
        "class Student:\n",
        "    name = \"\";\n",
        "    rollno =0;\n",
        "    m1 = 0;\n",
        "    m2 = 0;\n",
        "    m3 = 0;\n",
        "    total = 0;\n",
        "    avg = 0;\n",
        "    \n",
        "    def __init__(self,name,rollno,m1,m2,m3):\n",
        "        self.name = name;\n",
        "        self.rollno = rollno;\n",
        "        self.m1 = m1;\n",
        "        self.m2 = m2\n",
        "        self.m3 = m3;\n",
        "        \n",
        "        ## Call the methods computeTotal and computeAverage so that the methods will be \n",
        "        ##   called during object creation itself,\n",
        "        self.computeTotal();\n",
        "        self.computeAverage();\n",
        "        \n",
        "        \n",
        "    \n",
        "    def computeTotal(self):\n",
        "        self.total = self.m1+self.m2+self.m3\n",
        "    \n",
        "    def computeAverage(self):\n",
        "        self.avg  = (self.m1 +self.m2 + self.m3) / (3)\n",
        "    \n",
        "    def printClass(self):\n",
        "        print(\"Name   : \" , self.name);\n",
        "        print(\"RollNo : \" , self.rollno);\n",
        "        print(\"m1     : \" , self.m1);\n",
        "        print(\"m2     : \" , self.m2);\n",
        "        print(\"m3     : \" , self.m3);\n",
        "        print(\"Total  : \" , self.total);\n",
        "        print(\"avg    : \" , self.avg);\n",
        "\n",
        "s1 = Student(\"Magnus\",104,99,98,97);\n",
        "s2 = Student(\"Alex\",104,97,96,95);\n",
        "s3 = Student(\"Thivin\",105,65,47,56);"
      ]
    },
    {
      "cell_type": "code",
      "execution_count": null,
      "metadata": {
        "id": "A2wtNz9IgTSZ",
        "outputId": "be289350-0da9-4190-a7ff-9cac1d9f4980"
      },
      "outputs": [
        {
          "name": "stdout",
          "output_type": "stream",
          "text": [
            "Name   :  Thivin\n",
            "RollNo :  105\n",
            "m1     :  65\n",
            "m2     :  47\n",
            "m3     :  56\n",
            "Total  :  168\n",
            "avg    :  56.0\n"
          ]
        }
      ],
      "source": [
        "s3.printClass()"
      ]
    },
    {
      "cell_type": "code",
      "execution_count": null,
      "metadata": {
        "id": "em92avlQgTSZ"
      },
      "outputs": [],
      "source": [
        "class Pawn():\n",
        "    position = \"\"\n",
        "    color = \"\"\n",
        "    \n",
        "    def __init__(self,pos,col):\n",
        "        self.position = pos;\n",
        "        self.color    = col;\n",
        "    \n",
        "    def isMoveValid(self,newPos):\n",
        "        \n",
        "        \n",
        "        \n",
        "\n",
        "p1 =  Pawn(\"a2\",\"white\")\n",
        "    "
      ]
    },
    {
      "cell_type": "code",
      "execution_count": null,
      "metadata": {
        "id": "akvWtcFvgTSZ",
        "outputId": "903caa45-ffe2-4af0-9ee6-2aecf8ac3d79"
      },
      "outputs": [
        {
          "name": "stdout",
          "output_type": "stream",
          "text": [
            "2\n"
          ]
        }
      ],
      "source": [
        "k = p1.position\n",
        "k[0]\n",
        "print(k[1])"
      ]
    },
    {
      "cell_type": "code",
      "execution_count": null,
      "metadata": {
        "id": "Y5G_jiAXgTSZ"
      },
      "outputs": [],
      "source": [
        "p1.isMoveValid(\"a6\")"
      ]
    },
    {
      "cell_type": "code",
      "execution_count": null,
      "metadata": {
        "id": "Br_04zMfgTSZ"
      },
      "outputs": [],
      "source": []
    }
  ],
  "metadata": {
    "kernelspec": {
      "display_name": "Python 3 (ipykernel)",
      "language": "python",
      "name": "python3"
    },
    "language_info": {
      "codemirror_mode": {
        "name": "ipython",
        "version": 3
      },
      "file_extension": ".py",
      "mimetype": "text/x-python",
      "name": "python",
      "nbconvert_exporter": "python",
      "pygments_lexer": "ipython3",
      "version": "3.6.9"
    },
    "colab": {
      "provenance": []
    }
  },
  "nbformat": 4,
  "nbformat_minor": 0
}