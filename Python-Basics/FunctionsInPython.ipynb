{
  "nbformat": 4,
  "nbformat_minor": 0,
  "metadata": {
    "colab": {
      "provenance": []
    },
    "kernelspec": {
      "name": "python3",
      "display_name": "Python 3"
    },
    "language_info": {
      "name": "python"
    }
  },
  "cells": [
    {
      "cell_type": "markdown",
      "source": [
        "# Functions in python \n",
        "\n",
        "### Function \n",
        "\n",
        "Function is a collection of a piece of code which can be resued in code. \n",
        "\n",
        "For Eg 1: Printing Hello\n",
        "Lets say we need to print \"Hello\" multiple times in our code . So either we can d0\n",
        "\n",
        "```\n",
        "print(\"Hello\")\n",
        "...\n",
        "...\n",
        "...\n",
        "print(\"Hello\")\n",
        "---\n",
        "---\n",
        "---\n",
        "print(\"Hello\")\n",
        "```\n",
        "\n",
        "we have printed hello three times. So what if we can reuse the same code.. \n",
        "\n",
        "\n",
        "\n",
        "So thats where functions come in.. \n",
        "\n",
        "we can wrap (cover) a piece of code as a function and ew can reuse it. \n",
        "\n",
        "\n",
        "### Note : Function will also be reffered as \"Method\" in python\n"
      ],
      "metadata": {
        "id": "jzyAHNU6gWXm"
      }
    },
    {
      "cell_type": "markdown",
      "source": [
        "#How do we declare a function\n",
        "\n",
        "So to declare the function, we will have the following attributes\n",
        "\n",
        "- `def` keyword, it defines a function is being written(declred)\n",
        "- `function Name` , So this function name is for identifyng the current function, so this name can be anything.. \n",
        "- `input Parameters` - These are the variables that will be provided as an input to the function \n",
        "\n",
        "- `return` - This returns a value from the function to the place where the actual function is being called.\n",
        "\n",
        "- `:` should be used during function declaration"
      ],
      "metadata": {
        "id": "CryTL8Y-hQDP"
      }
    },
    {
      "cell_type": "markdown",
      "source": [
        "### Sample Function Struture \n",
        "\n",
        "A function definition in python should have the following aspects. \n",
        "\n",
        "```\n",
        "def <functionName>( parameter1, parameter 2):\n",
        "  ----\n",
        "  ----\n",
        "\n",
        "  return <variable>\n",
        "```\n",
        "\n",
        "\n",
        "For Eg: \n",
        "\n",
        "This is a function which accepts name as \"Hello USer\" \n",
        "\n",
        "\n",
        "```\n",
        "def hello(a):\n",
        "  print(\"Hello\" + \" \" + a)\n",
        "```"
      ],
      "metadata": {
        "id": "DCAXszryh6VN"
      }
    },
    {
      "cell_type": "markdown",
      "source": [
        "### Function terminologies\n",
        "\n",
        "- A function in python an be also reffered to as a method\n",
        "- The place where the function is defined (the place where thr code for function is written) is called as **function Definition/Declaration**\n",
        "- The place where the function is being called ( executed ) is called as a **function call**\n",
        "\n",
        "\n",
        "For Eg:\n",
        "\n",
        "\n",
        "```\n",
        "## This below lines, where we define what the ## function \"Addition\"actually does is calles ## as Function Declaration/Definition \n",
        "def addition(a,b,c):\n",
        "  ans = a+b+c\n",
        "  return ans\n",
        "\n",
        "## So now ,we want to make use of this ##function to add three numbers in another #\n",
        "# part of code\n",
        "\n",
        "a = 10\n",
        "b=20\n",
        "c =30\n",
        "\n",
        "# this below line, where we actually call( or make use of ) the function \"addition\" to add three numbers is called as a \"Function Call\"\n",
        "f = addition(a,b,c)\n",
        "```\n",
        "\n",
        "\n",
        "### Note :     \n",
        "- A function.method can have only one declaration/definition , however it can be called multiple times"
      ],
      "metadata": {
        "id": "vPP_j_LIi2gC"
      }
    },
    {
      "cell_type": "markdown",
      "source": [
        "### def Keyword in function\n",
        "this def keyword is used to indicate that a function is being declared in the current line of code \n",
        "\n",
        "```\n",
        "## this def keyword denotes tht a function is ## being declared over here\n",
        "def Alex():\n",
        "  return \"Hello World\"\n",
        "```\n",
        "\n",
        "### Note :    \n",
        "- **Any def statement should always end with `:` (colon) **\n",
        "- All function definitions should be indented (should have a tab/space at the start ) \n",
        "- The Tab defines what are the lines of code that belongs to that particular functio definition\n",
        "\n",
        "For Eg ⁉\n",
        "```\n",
        "def testFunction():\n",
        "  ## This line is indented , so it belongs to function testFuntion\n",
        "  print(\"hello\")  ## this line is also indented, so it belongs to the funtion testFunction\n",
        "\n",
        "a = 10 # we can observe that the given line is not indented, which means it does not belong to the fucntion testFunction \n",
        "```\n",
        "\n",
        "So thats why you cannot write a function declaration without the tabs\n",
        "\n",
        "\n",
        "For Eg:\n",
        "\n",
        "```\n",
        "def hello():\n",
        "print(\"sdf\")\n",
        "```\n",
        "here , the lne `print(\"sdf\")` des not belong to this functino , since it is not indented. \n",
        "\n",
        "### Note \n",
        "- When you add `:`(colon) at end of the function definition line and then press enter , Python will automatically indent your code \n",
        "\n",
        "^^ Try it yourself\n"
      ],
      "metadata": {
        "id": "XmWqNH9SkXX2"
      }
    },
    {
      "cell_type": "code",
      "execution_count": null,
      "metadata": {
        "id": "HXACphMjgVOJ"
      },
      "outputs": [],
      "source": [
        "def testFunction():\n",
        "  ## This line is indented , so it belongs to function testFuntion\n",
        "  print(\"hello\")  ## this line is also indented, so it belongs to the funtion testFunction\n",
        "  a = 10 "
      ]
    },
    {
      "cell_type": "markdown",
      "source": [
        "### Function Name \n",
        "\n",
        "\n",
        "a function name is just an name to identify a specific function \n",
        "\n",
        "- The function name can be user-definied ( the user can name the function as he likes)\n",
        "- You cannot use python keywords for naming a fuction (eg:  def sum(),def len() ,def list() ,def print())\n",
        "- The function should be named as per the purpose of the function and not randomly ( good practice, not mandatory )\n",
        "\n",
        "```\n",
        "## write a function whih adds three numbers \n",
        "\n",
        "## best PRactive \n",
        "def add3Numbers():\n",
        "\n",
        "## Bad practice\n",
        "def test()\n",
        "def somefunction()\n",
        "def additionOfTheThreeeNumberssss()  ## too lengthy \n",
        "```\n",
        "\n",
        "For Ex:\n",
        "\n",
        "create a funtion named \"SayHiToMe\" in the cell below, which prints \"Hi to you\" when called. \n"
      ],
      "metadata": {
        "id": "vaByU6Msnq3y"
      }
    },
    {
      "cell_type": "code",
      "source": [
        "## Write a function called \"SayHiToMe\" which prints \"Hi to you\" when its being called\n",
        "\n",
        "def SayHiToMe():\n",
        "  a = \"Hi to you\"\n",
        "  a = a + \"..!\"\n",
        "  print (a)"
      ],
      "metadata": {
        "id": "qJHf3QT6k7VI"
      },
      "execution_count": null,
      "outputs": []
    },
    {
      "cell_type": "code",
      "source": [
        "SayHiToMe()"
      ],
      "metadata": {
        "colab": {
          "base_uri": "https://localhost:8080/"
        },
        "id": "M8posWpDlAeA",
        "outputId": "96e6e20b-c17d-42a7-fd12-064c658aec25"
      },
      "execution_count": null,
      "outputs": [
        {
          "output_type": "stream",
          "name": "stdout",
          "text": [
            "Hi to you..!\n"
          ]
        }
      ]
    },
    {
      "cell_type": "markdown",
      "source": [
        "## Input Arguments to the functions \n",
        "---\n",
        "\n",
        "\n",
        "The input arguments to the function are nothing but the input passed by the user to the function \n",
        "\n",
        "### Accessing variables outside function: Funtion by itself will not know any value which is not defnied inside the funtion \n",
        "\n",
        "\n",
        "For Eg:\n",
        "```\n",
        "\n",
        "def printKK():\n",
        "  print(kk)\n",
        "\n",
        "kk = 10\n",
        "```\n",
        "\n",
        "Now. this will throw an errior, because, the value kk is declared outside the function and  the function will not know what will be the value of kk is \n",
        "\n",
        "\n",
        "---\n",
        "now if we have to make sure that the function `printKK` knows what is the value of `kk`. which means , if we have to send an externally declared(stored) variable inside a function, then we can use **input arguments**\n",
        "\n",
        "\n",
        "So, now, we can send the external variable as n input parameter to the function \n",
        "\n",
        "\n",
        "``` \n",
        "## function Declaration \n",
        "def printKK(kk):\n",
        "  print(kk)\n",
        "\n",
        "kk =10\n",
        "\n",
        "## function call\n",
        "print(kk)\n",
        "```\n"
      ],
      "metadata": {
        "id": "CHh08FHYpfKc"
      }
    },
    {
      "cell_type": "markdown",
      "source": [
        "## excersise 2 - input Arguments \n",
        "Take for an example a fucntion HelloUser(), which takes the name of the user as an input argument and prints \"Hello user\" . i.e `HelloUser(\"Alex\")`, it is going to print -> `Hello Alex`\n",
        "\n",
        "\n",
        "Excersise: Write the above function \n",
        "\n",
        "\n"
      ],
      "metadata": {
        "id": "bwLffGmxrkNF"
      }
    },
    {
      "cell_type": "code",
      "source": [
        "def HelloUser(name):\n",
        "  print (\"Hello \"+ name)"
      ],
      "metadata": {
        "id": "L9zmXH_DrvAr"
      },
      "execution_count": null,
      "outputs": []
    },
    {
      "cell_type": "code",
      "source": [
        "HelloUser(\"Tim\")\n",
        "n = \"Tim\"\n",
        "HelloUser(n)"
      ],
      "metadata": {
        "colab": {
          "base_uri": "https://localhost:8080/"
        },
        "id": "sBKOR2-zs5Td",
        "outputId": "2a42e973-4e6b-42e5-e2b5-2acdcc382e9e"
      },
      "execution_count": null,
      "outputs": [
        {
          "output_type": "stream",
          "name": "stdout",
          "text": [
            "Hello Tim\n",
            "Hello Tim\n"
          ]
        }
      ]
    },
    {
      "cell_type": "markdown",
      "source": [
        "### input Arguments - Naming Convention\n",
        "\n",
        "Lets say, we need to add three numbers `a,b,c`\n",
        "So is the  below code valid ?\n",
        "\n",
        "```\n",
        "a = 7\n",
        "b = 8\n",
        "c =9\n",
        "\n",
        "## funciton Definition\n",
        "def add3Numbers(o,k,l):\n",
        "  return k+o+l\n",
        "\n",
        "## Function Call \n",
        "ans = add3Numbers(a,b,c)\n",
        "```\n",
        "\n",
        "\n",
        "#### Important Note : The Naming of the input parameters is just user defined. \n",
        "**It does not need to be as same as the actual variable**\n",
        "\n",
        "---\n",
        "\n",
        "Input parameters in a function, does not depend upon the name of the variables, but it depends only upon the order in which the variables are being received. \n",
        "\n",
        "\n",
        "\n",
        "For Eg, what will be the output of the code below \n",
        "\n",
        "\n",
        "```\n",
        "def add3Numbers(c,a,b):\n",
        "  print(\"The value of c is \" + str(c))\n",
        "  print(\"The value of a is \" + str(a))\n",
        "  print(\"The value of b is \" + str(b))\n",
        "\n",
        "a = 10\n",
        "b = 20\n",
        "c = 30\n",
        "\n",
        "add3Numbers(a,b,c)\n",
        "```\n",
        "\n",
        "❌  Option 1 : \n",
        "```\n",
        "The value of c is 30\n",
        "The value of a is 10\n",
        "The value of b is 20\n",
        "```\n",
        "\n",
        "👌 Option 2 : \n",
        "```\n",
        "The value of c is 10\n",
        "The value of a is 20\n",
        "The value of b is 30\n",
        "```\n",
        "\n",
        "As mentioned, only the order of variables matters when we use input parameters to the funcitons. \n",
        "\n",
        "So here, the value of a will be assigned to a variable called `c`. The `c` inside the method/function will be available only inside the method.\n"
      ],
      "metadata": {
        "id": "PKclV1c_rGYB"
      }
    },
    {
      "cell_type": "markdown",
      "source": [
        "### Function variables scope \n",
        "\n",
        "Scope definies the lifetime of a variable in a program. So python variables declared inside the function dies within the funciton, and it wont be available outside the function \n",
        "\n",
        "\n",
        "For Eg ⁉\n",
        "\n",
        "```\n",
        "def someFunction():\n",
        "  k = 10\n",
        "  print(k)\n",
        "\n",
        "\n",
        "someFunction()\n",
        "\n",
        "print(k)  ## This line will not work\n",
        "```\n",
        "\n",
        "The print(k) will not work , since the variable k is declared inside the function and it is not available outside the function. \n",
        "\n",
        "---\n",
        "\n",
        "** This rules applies even when variables have same names inside and outside the function **\n",
        "\n",
        "```\n",
        "k = 10\n",
        "print(k)\n",
        "## it prints 10\n",
        "\n",
        "def test():\n",
        "  k = 11\n",
        "  print(k)\n",
        "\n",
        "test()\n",
        "## it prints 11\n",
        "\n",
        "print(k)\n",
        "## it prints 10\n",
        "```"
      ],
      "metadata": {
        "id": "CVIYtyrwUV84"
      }
    },
    {
      "cell_type": "code",
      "source": [
        "k = 10\n",
        "print(k)\n",
        "## it prints 10\n",
        "\n",
        "def test():\n",
        "  k = 11\n",
        "  print(k)\n",
        "\n",
        "test()\n",
        "## it prints 11\n",
        "\n",
        "print(k)\n",
        "## it prints 10"
      ],
      "metadata": {
        "colab": {
          "base_uri": "https://localhost:8080/"
        },
        "id": "Ita0uO3RpVvy",
        "outputId": "65986e87-38b1-4e08-d1af-18d209759d60"
      },
      "execution_count": null,
      "outputs": [
        {
          "output_type": "stream",
          "name": "stdout",
          "text": [
            "10\n",
            "11\n",
            "10\n"
          ]
        }
      ]
    },
    {
      "cell_type": "markdown",
      "source": [
        "### Return type of a function \n",
        "\n",
        "Given the understanding that , everything computed within a function/ method dies within the function ( which means, it wont be available to the outside of funciton )0, we might need to send a particular variable to the outsie program before it gets deleted. \n",
        "\n",
        "\n",
        "For Eg :      \n",
        "```\n",
        "## Function which adds three numbers \n",
        "def add3numbers(a,b,c):\n",
        "  ans = a+b+c\n",
        "  print(ans)\n",
        "\n",
        "add3numbers(2,3,4)\n",
        "\n",
        "##\n",
        "##\n",
        "##\n",
        "\n",
        "# I need the value which is stored in the variable ans\n",
        "```\n",
        "\n",
        "- The above program is going to print `9` as output\n",
        "- but, the output is saved in a variable called `ans` inside the method\n",
        "- Since the variables inside a method gets destroyed, once a function ends, we wont be able to get what is the value of the variable `ans` in the later part of code \n",
        "\n",
        "\n",
        "\n",
        "So this is wher, we use a statement called `return` from the function . \n",
        "\n",
        "\n",
        "So a return statement, returns the variables from a function, so that it can be saved and used later. \n",
        "\n",
        "For eg ⁉\n",
        "\n",
        "```\n",
        "def add3numbers(a,b,c):\n",
        "  ans = a+b+c\n",
        "  print(ans)\n",
        "  return ans\n",
        "\n",
        "k = add3numbers(2,3,4)\n",
        "```\n",
        "\n",
        "\n",
        "Note ⁉\n",
        "- When ever a function returns something, we need to capture the output in a variable where we are calling the function. \n",
        "\n",
        "- The rules which apply to the input parameters of a method(function) applies to return also\n",
        " - The variable names in return does not matter, only the order in which the variables are returned matters. \n",
        "\n",
        "\n",
        "\n",
        "```\n",
        "a = 10\n",
        "b=20\n",
        "c= 30\n",
        "def return3Number(a,b,c):\n",
        "  return c,a,b\n",
        "\n",
        "a,b,c = return3numbers(a,b,c)\n",
        "\n",
        "\n",
        "print(\"Val of a is \" , str(a))\n",
        "print(\"Val of b is \" , str(b))\n",
        "print(\"Val of c is \" , str(c))\n",
        "```\n"
      ],
      "metadata": {
        "id": "fnhC-8eKWXYe"
      }
    },
    {
      "cell_type": "code",
      "source": [
        "a = 10\n",
        "b=20\n",
        "c= 30\n",
        "def return3Number(a,b,c):\n",
        "  return c,a,b\n",
        "\n",
        "a,b,c = return3Number(a,b,c)\n",
        "\n",
        "\n",
        "print(\"Val of a is \" , str(a))\n",
        "print(\"Val of b is \" , str(b))\n",
        "print(\"Val of c is \" , str(c))"
      ],
      "metadata": {
        "id": "1-d7p-scq-UM",
        "colab": {
          "base_uri": "https://localhost:8080/"
        },
        "outputId": "56905126-dbd3-4702-80d2-97f616034e29"
      },
      "execution_count": null,
      "outputs": [
        {
          "output_type": "stream",
          "name": "stdout",
          "text": [
            "Val of a is  30\n",
            "Val of b is  10\n",
            "Val of c is  20\n"
          ]
        }
      ]
    },
    {
      "cell_type": "markdown",
      "source": [
        "### Excersise 2:\n",
        "\n",
        "```\n",
        "a = 10\n",
        "b = 20\n",
        "c = 30\n",
        "d = 40\n",
        "\n",
        "def test(d,a,c,b):\n",
        "  c = c+20  \n",
        "  a = b+c\n",
        "  return b,a,c,d\n",
        "\n",
        "c,a,d,b = test(b,c,a,d) \n",
        "\n",
        "print(\"a is \" + str(a))\n",
        "print(\"b is \" + str(b))\n",
        "print(\"c is \" + str(c))\n",
        "print(\"d is \" + str(d))\n",
        "\n",
        "```\n",
        "\n",
        "a is 70\n",
        "\n",
        "b is 20\n",
        "\n",
        "c is 40\n",
        "\n",
        "d is 40\n"
      ],
      "metadata": {
        "id": "-WXKVYRQZQhI"
      }
    },
    {
      "cell_type": "markdown",
      "source": [
        "### Note ⁉\n",
        "return statement is not mandatory, it can be used only when you need to return something from the function \n",
        "\n",
        "A function without a return is still a valid function .\n",
        "\n",
        "For eg \n",
        "\n",
        "```\n",
        "def HelloWorld():\n",
        "  print(\"hello World ..!\")\n",
        "```\n",
        "\n",
        "So similar to the input parameters, where the number of input parameters in function call should match the number of input arameters in the function declaration \n",
        "\n",
        "For return also, the number of variables that are capturing the return variables should match the number of variables being returned. \n",
        "\n",
        "\n",
        "For eg \n",
        "\n",
        "```\n",
        "def return3Variables(a,b,c):\n",
        "  return a,b,c\n",
        "```\n",
        "For this function, the below code is not a good practice\n",
        "\n",
        "❌\n",
        "```\n",
        "a = return3Variables(a,b,c)\n",
        "```\n",
        "\n",
        "🆗\n",
        "```\n",
        "k,j,l = return3Variables(a,b,c)\n",
        "```"
      ],
      "metadata": {
        "id": "-W8KPppubIwm"
      }
    },
    {
      "cell_type": "code",
      "source": [
        "def return3Variables(a,b,c):\n",
        "  return a,b,c\n",
        "\n",
        "a = 10\n",
        "b = 20\n",
        "c = 30\n",
        "\n",
        "a,b,c = return3Variables(a,b,c)"
      ],
      "metadata": {
        "id": "eHNL639DZJsz"
      },
      "execution_count": null,
      "outputs": []
    },
    {
      "cell_type": "markdown",
      "source": [
        "## Functions in Classes \n",
        "\n",
        "If we write methods/functions inside classes, apart from the above rules, we need to follow \n",
        "\n",
        "\n",
        "- Every method should have `self` as first input parameter. (Mandatory)\n",
        "- If you are using any variables, which are not part of input parameters to the function ( or variables of the class ), then we should access them using `self.variableName`\n",
        "\n",
        "\n",
        "\n"
      ],
      "metadata": {
        "id": "Uh3Goqeu4PAd"
      }
    },
    {
      "cell_type": "code",
      "source": [
        "class Student:\n",
        "  mark = 100\n",
        "  name = \"Sample name\"\n",
        "  Rollno = 10\n",
        "\n",
        "\n",
        "  ## Since this is a class method, we should always write the first input parameter as \"self\"\n",
        "  def printStudentDetails(self):\n",
        "    ## lets print the students name \n",
        "    ## Student name is stored INSIDE the class as \"name\"\n",
        "    print(self.name)"
      ],
      "metadata": {
        "id": "jKWAVN_VcuaY"
      },
      "execution_count": null,
      "outputs": []
    },
    {
      "cell_type": "code",
      "source": [],
      "metadata": {
        "id": "KjMs5_lmcvI4"
      },
      "execution_count": null,
      "outputs": []
    }
  ]
}